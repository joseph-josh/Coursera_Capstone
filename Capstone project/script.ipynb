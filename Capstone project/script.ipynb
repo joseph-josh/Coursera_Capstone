{
 "metadata": {
  "language_info": {
   "codemirror_mode": {
    "name": "ipython",
    "version": 3
   },
   "file_extension": ".py",
   "mimetype": "text/x-python",
   "name": "python",
   "nbconvert_exporter": "python",
   "pygments_lexer": "ipython3",
   "version": "3.9.2"
  },
  "orig_nbformat": 4,
  "kernelspec": {
   "name": "python3",
   "display_name": "Python 3.9.2 64-bit"
  },
  "interpreter": {
   "hash": "c569cd2e17f62341e0f08a54f9a867c3c0d3a6f67454072d7de41a8b5dff8343"
  }
 },
 "nbformat": 4,
 "nbformat_minor": 2,
 "cells": [
  {
   "source": [
    "## Importing packages"
   ],
   "cell_type": "markdown",
   "metadata": {}
  },
  {
   "cell_type": "code",
   "execution_count": 1,
   "metadata": {},
   "outputs": [
    {
     "output_type": "stream",
     "name": "stdout",
     "text": [
      "Libraries imported.\n"
     ]
    }
   ],
   "source": [
    "import numpy as np # library to handle data in a vectorized manner\n",
    "import pandas as pd # library for data analsysis\n",
    "pd.set_option('display.max_columns', None)\n",
    "pd.set_option('display.max_rows', None)\n",
    "\n",
    "import json # library to handle JSON files\n",
    "\n",
    "#!conda install -c conda-forge geopy --yes # uncomment this line if you haven't completed the Foursquare API lab\n",
    "from geopy.geocoders import Nominatim # convert an address into latitude and longitude values\n",
    "\n",
    "import requests # library to handle requests\n",
    "from pandas.io.json import json_normalize # tranform JSON file into a pandas dataframe\n",
    "\n",
    "# Matplotlib and associated plotting modules\n",
    "import matplotlib.cm as cm\n",
    "import matplotlib.colors as colors\n",
    "\n",
    "# import k-means from clustering stage\n",
    "from sklearn.cluster import KMeans\n",
    "\n",
    "#!conda install -c conda-forge folium=0.5.0 --yes # uncomment this line if you haven't completed the Foursquare API lab\n",
    "import folium # map rendering library\n",
    "from sklearn.metrics import silhouette_score\n",
    "\n",
    "print('Libraries imported.')"
   ]
  },
  {
   "source": [
    "# 1. Getting the list of neighborhoods and their geographical coordinates"
   ],
   "cell_type": "markdown",
   "metadata": {}
  },
  {
   "cell_type": "code",
   "execution_count": 25,
   "metadata": {},
   "outputs": [
    {
     "output_type": "execute_result",
     "data": {
      "text/plain": [
       "              Neighborhood\n",
       "0      Ennakhil, Marrakech\n",
       "1                   Guéliz\n",
       "2         Marrakech-Médina\n",
       "3  Ménara (arrondissement)\n",
       "4     Sidi Youssef Ben Ali"
      ],
      "text/html": "<div>\n<style scoped>\n    .dataframe tbody tr th:only-of-type {\n        vertical-align: middle;\n    }\n\n    .dataframe tbody tr th {\n        vertical-align: top;\n    }\n\n    .dataframe thead th {\n        text-align: right;\n    }\n</style>\n<table border=\"1\" class=\"dataframe\">\n  <thead>\n    <tr style=\"text-align: right;\">\n      <th></th>\n      <th>Neighborhood</th>\n    </tr>\n  </thead>\n  <tbody>\n    <tr>\n      <th>0</th>\n      <td>Ennakhil, Marrakech</td>\n    </tr>\n    <tr>\n      <th>1</th>\n      <td>Guéliz</td>\n    </tr>\n    <tr>\n      <th>2</th>\n      <td>Marrakech-Médina</td>\n    </tr>\n    <tr>\n      <th>3</th>\n      <td>Ménara (arrondissement)</td>\n    </tr>\n    <tr>\n      <th>4</th>\n      <td>Sidi Youssef Ben Ali</td>\n    </tr>\n  </tbody>\n</table>\n</div>"
     },
     "metadata": {},
     "execution_count": 25
    }
   ],
   "source": [
    "#This will not run on online IDE\n",
    "import requests\n",
    "from bs4 import BeautifulSoup\n",
    "\n",
    "URL = \"https://fr.wikipedia.org/wiki/Cat%C3%A9gorie:Arrondissement_de_Marrakech\"\n",
    "r = requests.get(URL)\n",
    "\n",
    "soup = BeautifulSoup(r.content, 'html5lib') # If this line causes an error, run 'pip install html5lib' or install html5lib\n",
    "\n",
    "\n",
    "neighborhoods=[]\n",
    "div=soup.find(\"div\", {\"class\":\"mw-content-ltr\"})\n",
    "lis = div.findAll('li')[-5:]\n",
    "\n",
    "for li in lis:\n",
    "    neighborhood = li.text\n",
    "    neighborhoods.append(neighborhood)\n",
    "\n",
    "\n",
    "df=pd.DataFrame({\"Neighborhood\":neighborhoods})\n",
    "\n",
    "df['Neighborhood'][0] = \"Ennakhil, Marrakech\"\n",
    "\n",
    "df"
   ]
  },
  {
   "cell_type": "code",
   "execution_count": 3,
   "metadata": {},
   "outputs": [
    {
     "output_type": "execute_result",
     "data": {
      "text/plain": [
       "              Neighborhood   Latitude  Longitude\n",
       "0      Ennakhil, Marrakech  31.648666  -7.963090\n",
       "1                   Guéliz  31.632188  -8.010813\n",
       "2         Marrakech-Médina  31.625826  -7.989161\n",
       "3  Ménara (arrondissement)  31.628555  -8.057550\n",
       "4     Sidi Youssef Ben Ali  31.609005  -7.967901"
      ],
      "text/html": "<div>\n<style scoped>\n    .dataframe tbody tr th:only-of-type {\n        vertical-align: middle;\n    }\n\n    .dataframe tbody tr th {\n        vertical-align: top;\n    }\n\n    .dataframe thead th {\n        text-align: right;\n    }\n</style>\n<table border=\"1\" class=\"dataframe\">\n  <thead>\n    <tr style=\"text-align: right;\">\n      <th></th>\n      <th>Neighborhood</th>\n      <th>Latitude</th>\n      <th>Longitude</th>\n    </tr>\n  </thead>\n  <tbody>\n    <tr>\n      <th>0</th>\n      <td>Ennakhil, Marrakech</td>\n      <td>31.648666</td>\n      <td>-7.963090</td>\n    </tr>\n    <tr>\n      <th>1</th>\n      <td>Guéliz</td>\n      <td>31.632188</td>\n      <td>-8.010813</td>\n    </tr>\n    <tr>\n      <th>2</th>\n      <td>Marrakech-Médina</td>\n      <td>31.625826</td>\n      <td>-7.989161</td>\n    </tr>\n    <tr>\n      <th>3</th>\n      <td>Ménara (arrondissement)</td>\n      <td>31.628555</td>\n      <td>-8.057550</td>\n    </tr>\n    <tr>\n      <th>4</th>\n      <td>Sidi Youssef Ben Ali</td>\n      <td>31.609005</td>\n      <td>-7.967901</td>\n    </tr>\n  </tbody>\n</table>\n</div>"
     },
     "metadata": {},
     "execution_count": 3
    }
   ],
   "source": [
    "from geopy.geocoders import Nominatim # module to convert an address into latitude and longitude values\n",
    "geolocator = Nominatim(user_agent=\"Marrakech_food\")\n",
    "\n",
    "df['Coord']= df['Neighborhood'].apply(geolocator.geocode).apply(lambda x: (x.latitude, x.longitude))\n",
    "df[['Latitude', 'Longitude']] = df['Coord'].apply(pd.Series)\n",
    "\n",
    "df.drop(['Coord'], axis=1, inplace=True)\n",
    "\n",
    "marrakech_data = df\n",
    "marrakech_data"
   ]
  },
  {
   "source": [
    "## Let's get the geographical coordinates of Marrakech"
   ],
   "cell_type": "markdown",
   "metadata": {}
  },
  {
   "cell_type": "code",
   "execution_count": 4,
   "metadata": {},
   "outputs": [
    {
     "output_type": "stream",
     "name": "stdout",
     "text": [
      "The geograpical coordinate of Marrakech are 31.6258257, -7.9891608.\n"
     ]
    }
   ],
   "source": [
    "address = 'Marrakech'\n",
    "\n",
    "geolocator = Nominatim(user_agent=\"ny_explorer\")\n",
    "location = geolocator.geocode(address)\n",
    "latitude = location.latitude\n",
    "longitude = location.longitude\n",
    "print('The geograpical coordinate of Marrakech are {}, {}.'.format(latitude, longitude))"
   ]
  },
  {
   "source": [
    "## Let's visualize Marrakech and the neighborhoods in it."
   ],
   "cell_type": "markdown",
   "metadata": {}
  },
  {
   "cell_type": "code",
   "execution_count": 5,
   "metadata": {},
   "outputs": [
    {
     "output_type": "execute_result",
     "data": {
      "text/plain": [
       "<folium.folium.Map at 0x232a29839a0>"
      ],
      "text/html": "<div style=\"width:100%;\"><div style=\"position:relative;width:100%;height:0;padding-bottom:60%;\"><span style=\"color:#565656\">Make this Notebook Trusted to load map: File -> Trust Notebook</span><iframe src=\"about:blank\" style=\"position:absolute;width:100%;height:100%;left:0;top:0;border:none !important;\" data-html=%3C%21DOCTYPE%20html%3E%0A%3Chead%3E%20%20%20%20%0A%20%20%20%20%3Cmeta%20http-equiv%3D%22content-type%22%20content%3D%22text/html%3B%20charset%3DUTF-8%22%20/%3E%0A%20%20%20%20%0A%20%20%20%20%20%20%20%20%3Cscript%3E%0A%20%20%20%20%20%20%20%20%20%20%20%20L_NO_TOUCH%20%3D%20false%3B%0A%20%20%20%20%20%20%20%20%20%20%20%20L_DISABLE_3D%20%3D%20false%3B%0A%20%20%20%20%20%20%20%20%3C/script%3E%0A%20%20%20%20%0A%20%20%20%20%3Cstyle%3Ehtml%2C%20body%20%7Bwidth%3A%20100%25%3Bheight%3A%20100%25%3Bmargin%3A%200%3Bpadding%3A%200%3B%7D%3C/style%3E%0A%20%20%20%20%3Cstyle%3E%23map%20%7Bposition%3Aabsolute%3Btop%3A0%3Bbottom%3A0%3Bright%3A0%3Bleft%3A0%3B%7D%3C/style%3E%0A%20%20%20%20%3Cscript%20src%3D%22https%3A//cdn.jsdelivr.net/npm/leaflet%401.6.0/dist/leaflet.js%22%3E%3C/script%3E%0A%20%20%20%20%3Cscript%20src%3D%22https%3A//code.jquery.com/jquery-1.12.4.min.js%22%3E%3C/script%3E%0A%20%20%20%20%3Cscript%20src%3D%22https%3A//maxcdn.bootstrapcdn.com/bootstrap/3.2.0/js/bootstrap.min.js%22%3E%3C/script%3E%0A%20%20%20%20%3Cscript%20src%3D%22https%3A//cdnjs.cloudflare.com/ajax/libs/Leaflet.awesome-markers/2.0.2/leaflet.awesome-markers.js%22%3E%3C/script%3E%0A%20%20%20%20%3Clink%20rel%3D%22stylesheet%22%20href%3D%22https%3A//cdn.jsdelivr.net/npm/leaflet%401.6.0/dist/leaflet.css%22/%3E%0A%20%20%20%20%3Clink%20rel%3D%22stylesheet%22%20href%3D%22https%3A//maxcdn.bootstrapcdn.com/bootstrap/3.2.0/css/bootstrap.min.css%22/%3E%0A%20%20%20%20%3Clink%20rel%3D%22stylesheet%22%20href%3D%22https%3A//maxcdn.bootstrapcdn.com/bootstrap/3.2.0/css/bootstrap-theme.min.css%22/%3E%0A%20%20%20%20%3Clink%20rel%3D%22stylesheet%22%20href%3D%22https%3A//maxcdn.bootstrapcdn.com/font-awesome/4.6.3/css/font-awesome.min.css%22/%3E%0A%20%20%20%20%3Clink%20rel%3D%22stylesheet%22%20href%3D%22https%3A//cdnjs.cloudflare.com/ajax/libs/Leaflet.awesome-markers/2.0.2/leaflet.awesome-markers.css%22/%3E%0A%20%20%20%20%3Clink%20rel%3D%22stylesheet%22%20href%3D%22https%3A//cdn.jsdelivr.net/gh/python-visualization/folium/folium/templates/leaflet.awesome.rotate.min.css%22/%3E%0A%20%20%20%20%0A%20%20%20%20%20%20%20%20%20%20%20%20%3Cmeta%20name%3D%22viewport%22%20content%3D%22width%3Ddevice-width%2C%0A%20%20%20%20%20%20%20%20%20%20%20%20%20%20%20%20initial-scale%3D1.0%2C%20maximum-scale%3D1.0%2C%20user-scalable%3Dno%22%20/%3E%0A%20%20%20%20%20%20%20%20%20%20%20%20%3Cstyle%3E%0A%20%20%20%20%20%20%20%20%20%20%20%20%20%20%20%20%23map_3c017e86385a40a8b6ff74550625113b%20%7B%0A%20%20%20%20%20%20%20%20%20%20%20%20%20%20%20%20%20%20%20%20position%3A%20relative%3B%0A%20%20%20%20%20%20%20%20%20%20%20%20%20%20%20%20%20%20%20%20width%3A%20100.0%25%3B%0A%20%20%20%20%20%20%20%20%20%20%20%20%20%20%20%20%20%20%20%20height%3A%20100.0%25%3B%0A%20%20%20%20%20%20%20%20%20%20%20%20%20%20%20%20%20%20%20%20left%3A%200.0%25%3B%0A%20%20%20%20%20%20%20%20%20%20%20%20%20%20%20%20%20%20%20%20top%3A%200.0%25%3B%0A%20%20%20%20%20%20%20%20%20%20%20%20%20%20%20%20%7D%0A%20%20%20%20%20%20%20%20%20%20%20%20%3C/style%3E%0A%20%20%20%20%20%20%20%20%0A%3C/head%3E%0A%3Cbody%3E%20%20%20%20%0A%20%20%20%20%0A%20%20%20%20%20%20%20%20%20%20%20%20%3Cdiv%20class%3D%22folium-map%22%20id%3D%22map_3c017e86385a40a8b6ff74550625113b%22%20%3E%3C/div%3E%0A%20%20%20%20%20%20%20%20%0A%3C/body%3E%0A%3Cscript%3E%20%20%20%20%0A%20%20%20%20%0A%20%20%20%20%20%20%20%20%20%20%20%20var%20map_3c017e86385a40a8b6ff74550625113b%20%3D%20L.map%28%0A%20%20%20%20%20%20%20%20%20%20%20%20%20%20%20%20%22map_3c017e86385a40a8b6ff74550625113b%22%2C%0A%20%20%20%20%20%20%20%20%20%20%20%20%20%20%20%20%7B%0A%20%20%20%20%20%20%20%20%20%20%20%20%20%20%20%20%20%20%20%20center%3A%20%5B31.6258257%2C%20-7.9891608%5D%2C%0A%20%20%20%20%20%20%20%20%20%20%20%20%20%20%20%20%20%20%20%20crs%3A%20L.CRS.EPSG3857%2C%0A%20%20%20%20%20%20%20%20%20%20%20%20%20%20%20%20%20%20%20%20zoom%3A%2011%2C%0A%20%20%20%20%20%20%20%20%20%20%20%20%20%20%20%20%20%20%20%20zoomControl%3A%20true%2C%0A%20%20%20%20%20%20%20%20%20%20%20%20%20%20%20%20%20%20%20%20preferCanvas%3A%20false%2C%0A%20%20%20%20%20%20%20%20%20%20%20%20%20%20%20%20%7D%0A%20%20%20%20%20%20%20%20%20%20%20%20%29%3B%0A%0A%20%20%20%20%20%20%20%20%20%20%20%20%0A%0A%20%20%20%20%20%20%20%20%0A%20%20%20%20%0A%20%20%20%20%20%20%20%20%20%20%20%20var%20tile_layer_ea9a4f21f1bf4ecc93cd34f575b4c3a4%20%3D%20L.tileLayer%28%0A%20%20%20%20%20%20%20%20%20%20%20%20%20%20%20%20%22https%3A//%7Bs%7D.tile.openstreetmap.org/%7Bz%7D/%7Bx%7D/%7By%7D.png%22%2C%0A%20%20%20%20%20%20%20%20%20%20%20%20%20%20%20%20%7B%22attribution%22%3A%20%22Data%20by%20%5Cu0026copy%3B%20%5Cu003ca%20href%3D%5C%22http%3A//openstreetmap.org%5C%22%5Cu003eOpenStreetMap%5Cu003c/a%5Cu003e%2C%20under%20%5Cu003ca%20href%3D%5C%22http%3A//www.openstreetmap.org/copyright%5C%22%5Cu003eODbL%5Cu003c/a%5Cu003e.%22%2C%20%22detectRetina%22%3A%20false%2C%20%22maxNativeZoom%22%3A%2018%2C%20%22maxZoom%22%3A%2018%2C%20%22minZoom%22%3A%200%2C%20%22noWrap%22%3A%20false%2C%20%22opacity%22%3A%201%2C%20%22subdomains%22%3A%20%22abc%22%2C%20%22tms%22%3A%20false%7D%0A%20%20%20%20%20%20%20%20%20%20%20%20%29.addTo%28map_3c017e86385a40a8b6ff74550625113b%29%3B%0A%20%20%20%20%20%20%20%20%0A%20%20%20%20%0A%20%20%20%20%20%20%20%20%20%20%20%20var%20circle_marker_c9ba83bad3284c5b99e724a17efd14b2%20%3D%20L.circleMarker%28%0A%20%20%20%20%20%20%20%20%20%20%20%20%20%20%20%20%5B31.6486658%2C%20-7.9630905%5D%2C%0A%20%20%20%20%20%20%20%20%20%20%20%20%20%20%20%20%7B%22bubblingMouseEvents%22%3A%20true%2C%20%22color%22%3A%20%22blue%22%2C%20%22dashArray%22%3A%20null%2C%20%22dashOffset%22%3A%20null%2C%20%22fill%22%3A%20true%2C%20%22fillColor%22%3A%20%22%233186cc%22%2C%20%22fillOpacity%22%3A%200.7%2C%20%22fillRule%22%3A%20%22evenodd%22%2C%20%22lineCap%22%3A%20%22round%22%2C%20%22lineJoin%22%3A%20%22round%22%2C%20%22opacity%22%3A%201.0%2C%20%22radius%22%3A%205%2C%20%22stroke%22%3A%20true%2C%20%22weight%22%3A%203%7D%0A%20%20%20%20%20%20%20%20%20%20%20%20%29.addTo%28map_3c017e86385a40a8b6ff74550625113b%29%3B%0A%20%20%20%20%20%20%20%20%0A%20%20%20%20%0A%20%20%20%20%20%20%20%20var%20popup_1ccbaa23c29549d4841dcc4ebc9daba4%20%3D%20L.popup%28%7B%22maxWidth%22%3A%20%22100%25%22%7D%29%3B%0A%0A%20%20%20%20%20%20%20%20%0A%20%20%20%20%20%20%20%20%20%20%20%20var%20html_c2120312e3184d058e62a0c40329d01e%20%3D%20%24%28%60%3Cdiv%20id%3D%22html_c2120312e3184d058e62a0c40329d01e%22%20style%3D%22width%3A%20100.0%25%3B%20height%3A%20100.0%25%3B%22%3EEnnakhil%2C%20Marrakech%3C/div%3E%60%29%5B0%5D%3B%0A%20%20%20%20%20%20%20%20%20%20%20%20popup_1ccbaa23c29549d4841dcc4ebc9daba4.setContent%28html_c2120312e3184d058e62a0c40329d01e%29%3B%0A%20%20%20%20%20%20%20%20%0A%0A%20%20%20%20%20%20%20%20circle_marker_c9ba83bad3284c5b99e724a17efd14b2.bindPopup%28popup_1ccbaa23c29549d4841dcc4ebc9daba4%29%0A%20%20%20%20%20%20%20%20%3B%0A%0A%20%20%20%20%20%20%20%20%0A%20%20%20%20%0A%20%20%20%20%0A%20%20%20%20%20%20%20%20%20%20%20%20var%20circle_marker_d78091682815449fa68aed1d2ad9aebe%20%3D%20L.circleMarker%28%0A%20%20%20%20%20%20%20%20%20%20%20%20%20%20%20%20%5B31.6321881%2C%20-8.0108135%5D%2C%0A%20%20%20%20%20%20%20%20%20%20%20%20%20%20%20%20%7B%22bubblingMouseEvents%22%3A%20true%2C%20%22color%22%3A%20%22blue%22%2C%20%22dashArray%22%3A%20null%2C%20%22dashOffset%22%3A%20null%2C%20%22fill%22%3A%20true%2C%20%22fillColor%22%3A%20%22%233186cc%22%2C%20%22fillOpacity%22%3A%200.7%2C%20%22fillRule%22%3A%20%22evenodd%22%2C%20%22lineCap%22%3A%20%22round%22%2C%20%22lineJoin%22%3A%20%22round%22%2C%20%22opacity%22%3A%201.0%2C%20%22radius%22%3A%205%2C%20%22stroke%22%3A%20true%2C%20%22weight%22%3A%203%7D%0A%20%20%20%20%20%20%20%20%20%20%20%20%29.addTo%28map_3c017e86385a40a8b6ff74550625113b%29%3B%0A%20%20%20%20%20%20%20%20%0A%20%20%20%20%0A%20%20%20%20%20%20%20%20var%20popup_fbf4a6717bf24fad8f107eef1f8deecc%20%3D%20L.popup%28%7B%22maxWidth%22%3A%20%22100%25%22%7D%29%3B%0A%0A%20%20%20%20%20%20%20%20%0A%20%20%20%20%20%20%20%20%20%20%20%20var%20html_710241d5240445a8a12cc44c0cd929b7%20%3D%20%24%28%60%3Cdiv%20id%3D%22html_710241d5240445a8a12cc44c0cd929b7%22%20style%3D%22width%3A%20100.0%25%3B%20height%3A%20100.0%25%3B%22%3EGu%C3%A9liz%3C/div%3E%60%29%5B0%5D%3B%0A%20%20%20%20%20%20%20%20%20%20%20%20popup_fbf4a6717bf24fad8f107eef1f8deecc.setContent%28html_710241d5240445a8a12cc44c0cd929b7%29%3B%0A%20%20%20%20%20%20%20%20%0A%0A%20%20%20%20%20%20%20%20circle_marker_d78091682815449fa68aed1d2ad9aebe.bindPopup%28popup_fbf4a6717bf24fad8f107eef1f8deecc%29%0A%20%20%20%20%20%20%20%20%3B%0A%0A%20%20%20%20%20%20%20%20%0A%20%20%20%20%0A%20%20%20%20%0A%20%20%20%20%20%20%20%20%20%20%20%20var%20circle_marker_bb0513a9b9f04742b842e4c2774197c4%20%3D%20L.circleMarker%28%0A%20%20%20%20%20%20%20%20%20%20%20%20%20%20%20%20%5B31.6258257%2C%20-7.9891608%5D%2C%0A%20%20%20%20%20%20%20%20%20%20%20%20%20%20%20%20%7B%22bubblingMouseEvents%22%3A%20true%2C%20%22color%22%3A%20%22blue%22%2C%20%22dashArray%22%3A%20null%2C%20%22dashOffset%22%3A%20null%2C%20%22fill%22%3A%20true%2C%20%22fillColor%22%3A%20%22%233186cc%22%2C%20%22fillOpacity%22%3A%200.7%2C%20%22fillRule%22%3A%20%22evenodd%22%2C%20%22lineCap%22%3A%20%22round%22%2C%20%22lineJoin%22%3A%20%22round%22%2C%20%22opacity%22%3A%201.0%2C%20%22radius%22%3A%205%2C%20%22stroke%22%3A%20true%2C%20%22weight%22%3A%203%7D%0A%20%20%20%20%20%20%20%20%20%20%20%20%29.addTo%28map_3c017e86385a40a8b6ff74550625113b%29%3B%0A%20%20%20%20%20%20%20%20%0A%20%20%20%20%0A%20%20%20%20%20%20%20%20var%20popup_f124b94265c04dccaedab90dffd45bd3%20%3D%20L.popup%28%7B%22maxWidth%22%3A%20%22100%25%22%7D%29%3B%0A%0A%20%20%20%20%20%20%20%20%0A%20%20%20%20%20%20%20%20%20%20%20%20var%20html_5813810894f840e2998857f5c226896c%20%3D%20%24%28%60%3Cdiv%20id%3D%22html_5813810894f840e2998857f5c226896c%22%20style%3D%22width%3A%20100.0%25%3B%20height%3A%20100.0%25%3B%22%3EMarrakech-M%C3%A9dina%3C/div%3E%60%29%5B0%5D%3B%0A%20%20%20%20%20%20%20%20%20%20%20%20popup_f124b94265c04dccaedab90dffd45bd3.setContent%28html_5813810894f840e2998857f5c226896c%29%3B%0A%20%20%20%20%20%20%20%20%0A%0A%20%20%20%20%20%20%20%20circle_marker_bb0513a9b9f04742b842e4c2774197c4.bindPopup%28popup_f124b94265c04dccaedab90dffd45bd3%29%0A%20%20%20%20%20%20%20%20%3B%0A%0A%20%20%20%20%20%20%20%20%0A%20%20%20%20%0A%20%20%20%20%0A%20%20%20%20%20%20%20%20%20%20%20%20var%20circle_marker_84af8840d3014f51b83016e04338352a%20%3D%20L.circleMarker%28%0A%20%20%20%20%20%20%20%20%20%20%20%20%20%20%20%20%5B31.6285553%2C%20-8.0575498%5D%2C%0A%20%20%20%20%20%20%20%20%20%20%20%20%20%20%20%20%7B%22bubblingMouseEvents%22%3A%20true%2C%20%22color%22%3A%20%22blue%22%2C%20%22dashArray%22%3A%20null%2C%20%22dashOffset%22%3A%20null%2C%20%22fill%22%3A%20true%2C%20%22fillColor%22%3A%20%22%233186cc%22%2C%20%22fillOpacity%22%3A%200.7%2C%20%22fillRule%22%3A%20%22evenodd%22%2C%20%22lineCap%22%3A%20%22round%22%2C%20%22lineJoin%22%3A%20%22round%22%2C%20%22opacity%22%3A%201.0%2C%20%22radius%22%3A%205%2C%20%22stroke%22%3A%20true%2C%20%22weight%22%3A%203%7D%0A%20%20%20%20%20%20%20%20%20%20%20%20%29.addTo%28map_3c017e86385a40a8b6ff74550625113b%29%3B%0A%20%20%20%20%20%20%20%20%0A%20%20%20%20%0A%20%20%20%20%20%20%20%20var%20popup_51d70e182898473e87f59bea92b640d6%20%3D%20L.popup%28%7B%22maxWidth%22%3A%20%22100%25%22%7D%29%3B%0A%0A%20%20%20%20%20%20%20%20%0A%20%20%20%20%20%20%20%20%20%20%20%20var%20html_db402803812546c6b54f8871a10ed1a4%20%3D%20%24%28%60%3Cdiv%20id%3D%22html_db402803812546c6b54f8871a10ed1a4%22%20style%3D%22width%3A%20100.0%25%3B%20height%3A%20100.0%25%3B%22%3EM%C3%A9nara%20%28arrondissement%29%3C/div%3E%60%29%5B0%5D%3B%0A%20%20%20%20%20%20%20%20%20%20%20%20popup_51d70e182898473e87f59bea92b640d6.setContent%28html_db402803812546c6b54f8871a10ed1a4%29%3B%0A%20%20%20%20%20%20%20%20%0A%0A%20%20%20%20%20%20%20%20circle_marker_84af8840d3014f51b83016e04338352a.bindPopup%28popup_51d70e182898473e87f59bea92b640d6%29%0A%20%20%20%20%20%20%20%20%3B%0A%0A%20%20%20%20%20%20%20%20%0A%20%20%20%20%0A%20%20%20%20%0A%20%20%20%20%20%20%20%20%20%20%20%20var%20circle_marker_df3242e2cf9542eeafcdbf5a3b09ccf9%20%3D%20L.circleMarker%28%0A%20%20%20%20%20%20%20%20%20%20%20%20%20%20%20%20%5B31.6090052%2C%20-7.9679007%5D%2C%0A%20%20%20%20%20%20%20%20%20%20%20%20%20%20%20%20%7B%22bubblingMouseEvents%22%3A%20true%2C%20%22color%22%3A%20%22blue%22%2C%20%22dashArray%22%3A%20null%2C%20%22dashOffset%22%3A%20null%2C%20%22fill%22%3A%20true%2C%20%22fillColor%22%3A%20%22%233186cc%22%2C%20%22fillOpacity%22%3A%200.7%2C%20%22fillRule%22%3A%20%22evenodd%22%2C%20%22lineCap%22%3A%20%22round%22%2C%20%22lineJoin%22%3A%20%22round%22%2C%20%22opacity%22%3A%201.0%2C%20%22radius%22%3A%205%2C%20%22stroke%22%3A%20true%2C%20%22weight%22%3A%203%7D%0A%20%20%20%20%20%20%20%20%20%20%20%20%29.addTo%28map_3c017e86385a40a8b6ff74550625113b%29%3B%0A%20%20%20%20%20%20%20%20%0A%20%20%20%20%0A%20%20%20%20%20%20%20%20var%20popup_3e5e071544be4c7597a5cf95f6c8ddab%20%3D%20L.popup%28%7B%22maxWidth%22%3A%20%22100%25%22%7D%29%3B%0A%0A%20%20%20%20%20%20%20%20%0A%20%20%20%20%20%20%20%20%20%20%20%20var%20html_3b27b5c06ee649869610a9281ce11ce8%20%3D%20%24%28%60%3Cdiv%20id%3D%22html_3b27b5c06ee649869610a9281ce11ce8%22%20style%3D%22width%3A%20100.0%25%3B%20height%3A%20100.0%25%3B%22%3ESidi%20Youssef%20Ben%20Ali%3C/div%3E%60%29%5B0%5D%3B%0A%20%20%20%20%20%20%20%20%20%20%20%20popup_3e5e071544be4c7597a5cf95f6c8ddab.setContent%28html_3b27b5c06ee649869610a9281ce11ce8%29%3B%0A%20%20%20%20%20%20%20%20%0A%0A%20%20%20%20%20%20%20%20circle_marker_df3242e2cf9542eeafcdbf5a3b09ccf9.bindPopup%28popup_3e5e071544be4c7597a5cf95f6c8ddab%29%0A%20%20%20%20%20%20%20%20%3B%0A%0A%20%20%20%20%20%20%20%20%0A%20%20%20%20%0A%3C/script%3E onload=\"this.contentDocument.open();this.contentDocument.write(    decodeURIComponent(this.getAttribute('data-html')));this.contentDocument.close();\" allowfullscreen webkitallowfullscreen mozallowfullscreen></iframe></div></div>"
     },
     "metadata": {},
     "execution_count": 5
    }
   ],
   "source": [
    "# create map of Manhattan using latitude and longitude values\n",
    "map_marrakech = folium.Map(location=[latitude, longitude], zoom_start=11)\n",
    "\n",
    "# add markers to map\n",
    "for lat, lng, label in zip(marrakech_data['Latitude'], marrakech_data['Longitude'], marrakech_data['Neighborhood']):\n",
    "    label = folium.Popup(label, parse_html=True)\n",
    "    folium.CircleMarker(\n",
    "        [lat, lng],\n",
    "        radius=5,\n",
    "        popup=label,\n",
    "        color='blue',\n",
    "        fill=True,\n",
    "        fill_color='#3186cc',\n",
    "        fill_opacity=0.7,\n",
    "        parse_html=False).add_to(map_marrakech)  \n",
    "    \n",
    "map_marrakech"
   ]
  },
  {
   "source": [
    "## Defining Foursquare Credentials and Version"
   ],
   "cell_type": "markdown",
   "metadata": {}
  },
  {
   "cell_type": "code",
   "execution_count": 6,
   "metadata": {},
   "outputs": [
    {
     "output_type": "stream",
     "name": "stdout",
     "text": [
      "Your credentails:\nCLIENT_ID: EQG4WGKSW2UTHTSNIL1IM0MMJTNY4RN3ESAF0VQO1XE5CNI4\nCLIENT_SECRET:AJSRXBB10THVQCT1XW3NQPACQPPKFHER5ZNXFXGJ43U355GX\n"
     ]
    }
   ],
   "source": [
    "CLIENT_ID = 'EQG4WGKSW2UTHTSNIL1IM0MMJTNY4RN3ESAF0VQO1XE5CNI4' # your Foursquare ID\n",
    "CLIENT_SECRET = 'AJSRXBB10THVQCT1XW3NQPACQPPKFHER5ZNXFXGJ43U355GX' # your Foursquare Secret\n",
    "\n",
    "VERSION = '20180605' # Foursquare API version\n",
    "LIMIT = 100 # A default Foursquare API limit value\n",
    "\n",
    "print('Your credentails:')\n",
    "print('CLIENT_ID: ' + CLIENT_ID)\n",
    "print('CLIENT_SECRET:' + CLIENT_SECRET)"
   ]
  },
  {
   "source": [
    "# 2.  Exploring the neigborhoods in Marrakech"
   ],
   "cell_type": "markdown",
   "metadata": {}
  },
  {
   "cell_type": "code",
   "execution_count": 7,
   "metadata": {},
   "outputs": [],
   "source": [
    "def getNearbyVenues(names, latitudes, longitudes, radius=500):\n",
    "    \n",
    "    venues_list=[]\n",
    "    for name, lat, lng in zip(names, latitudes, longitudes):\n",
    "        #print(name)\n",
    "            \n",
    "        # create the API request URL\n",
    "        url = 'https://api.foursquare.com/v2/venues/explore?&client_id={}&client_secret={}&v={}&ll={},{}&radius={}&limit={}'.format(\n",
    "            CLIENT_ID, \n",
    "            CLIENT_SECRET, \n",
    "            VERSION, \n",
    "            lat, \n",
    "            lng, \n",
    "            radius, \n",
    "            LIMIT)\n",
    "            \n",
    "        # make the GET request\n",
    "        results = requests.get(url).json()[\"response\"]['groups'][0]['items']\n",
    "        \n",
    "        # return only relevant information for each nearby venue\n",
    "        venues_list.append([(\n",
    "            name, \n",
    "            lat, \n",
    "            lng, \n",
    "            v['venue']['name'], \n",
    "            v['venue']['location']['lat'], \n",
    "            v['venue']['location']['lng'],  \n",
    "            v['venue']['categories'][0]['name']) for v in results])\n",
    "\n",
    "    nearby_venues = pd.DataFrame([item for venue_list in venues_list for item in venue_list])\n",
    "    nearby_venues.columns = ['Neighborhood', \n",
    "                  'Neighborhood Latitude', \n",
    "                  'Neighborhood Longitude', \n",
    "                  'Venue', \n",
    "                  'Venue Latitude', \n",
    "                  'Venue Longitude', \n",
    "                  'Venue Category']\n",
    "    \n",
    "    return(nearby_venues)"
   ]
  },
  {
   "cell_type": "code",
   "execution_count": 8,
   "metadata": {},
   "outputs": [
    {
     "output_type": "execute_result",
     "data": {
      "text/plain": [
       "           -8.010813   \n",
       "3                     Guéliz              31.632188               -8.010813   \n",
       "4                     Guéliz              31.632188               -8.010813   \n",
       "5                     Guéliz              31.632188               -8.010813   \n",
       "6                     Guéliz              31.632188               -8.010813   \n",
       "7                     Guéliz              31.632188               -8.010813   \n",
       "8                     Guéliz              31.632188               -8.010813   \n",
       "9                     Guéliz              31.632188               -8.010813   \n",
       "10                    Guéliz              31.632188               -8.010813   \n",
       "11                    Guéliz              31.632188               -8.010813   \n",
       "12                    Guéliz              31.632188               -8.010813   \n",
       "13                    Guéliz              31.632188               -8.010813   \n",
       "14                    Guéliz              31.632188               -8.010813   \n",
       "15                    Guéliz              31.632188               -8.010813   \n",
       "16                    Guéliz              31.632188               -8.010813   \n",
       "17                    Guéliz              31.632188               -8.010813   \n",
       "18                    Guéliz              31.632188               -8.010813   \n",
       "19                    Guéliz              31.632188               -8.010813   \n",
       "20                    Guéliz              31.632188               -8.010813   \n",
       "21                    Guéliz              31.632188               -8.010813   \n",
       "22                    Guéliz              31.632188               -8.010813   \n",
       "23                    Guéliz              31.632188               -8.010813   \n",
       "24                    Guéliz              31.632188               -8.010813   \n",
       "25                    Guéliz              31.632188               -8.010813   \n",
       "26                    Guéliz              31.632188               -8.010813   \n",
       "27                    Guéliz              31.632188               -8.010813   \n",
       "28                    Guéliz              31.632188               -8.010813   \n",
       "29                    Guéliz              31.632188               -8.010813   \n",
       "30                    Guéliz              31.632188               -8.010813   \n",
       "31                    Guéliz              31.632188               -8.010813   \n",
       "32                    Guéliz              31.632188               -8.010813   \n",
       "33                    Guéliz              31.632188               -8.010813   \n",
       "34                    Guéliz              31.632188               -8.010813   \n",
       "35                    Guéliz              31.632188               -8.010813   \n",
       "36                    Guéliz              31.632188               -8.010813   \n",
       "37                    Guéliz              31.632188               -8.010813   \n",
       "38                    Guéliz              31.632188               -8.010813   \n",
       "39                    Guéliz              31.632188               -8.010813   \n",
       "40                    Guéliz              31.632188               -8.010813   \n",
       "41                    Guéliz              31.632188               -8.010813   \n",
       "42          Marrakech-Médina              31.625826               -7.989161   \n",
       "43          Marrakech-Médina              31.625826               -7.989161   \n",
       "44          Marrakech-Médina              31.625826               -7.989161   \n",
       "45          Marrakech-Médina              31.625826               -7.989161   \n",
       "46          Marrakech-Médina              31.625826               -7.989161   \n",
       "47          Marrakech-Médina              31.625826               -7.989161   \n",
       "48          Marrakech-Médina              31.625826               -7.989161   \n",
       "49          Marrakech-Médina              31.625826               -7.989161   \n",
       "50          Marrakech-Médina              31.625826               -7.989161   \n",
       "51          Marrakech-Médina              31.625826               -7.989161   \n",
       "52          Marrakech-Médina              31.625826               -7.989161   \n",
       "53          Marrakech-Médina              31.625826               -7.989161   \n",
       "54          Marrakech-Médina              31.625826               -7.989161   \n",
       "55          Marrakech-Médina              31.625826               -7.989161   \n",
       "56          Marrakech-Médina              31.625826               -7.989161   \n",
       "57          Marrakech-Médina              31.625826               -7.989161   \n",
       "58          Marrakech-Médina              31.625826               -7.989161   \n",
       "59          Marrakech-Médina              31.625826               -7.989161   \n",
       "60          Marrakech-Médina              31.625826               -7.989161   \n",
       "61          Marrakech-Médina              31.625826               -7.989161   \n",
       "62          Marrakech-Médina              31.625826               -7.989161   \n",
       "63          Marrakech-Médina              31.625826               -7.989161   \n",
       "64          Marrakech-Médina              31.625826               -7.989161   \n",
       "65          Marrakech-Médina              31.625826               -7.989161   \n",
       "66          Marrakech-Médina              31.625826               -7.989161   \n",
       "67          Marrakech-Médina              31.625826               -7.989161   \n",
       "68          Marrakech-Médina              31.625826               -7.989161   \n",
       "69          Marrakech-Médina              31.625826               -7.989161   \n",
       "70          Marrakech-Médina              31.625826               -7.989161   \n",
       "71          Marrakech-Médina              31.625826               -7.989161   \n",
       "72          Marrakech-Médina              31.625826               -7.989161   \n",
       "73          Marrakech-Médina              31.625826               -7.989161   \n",
       "74          Marrakech-Médina              31.625826               -7.989161   \n",
       "75          Marrakech-Médina              31.625826               -7.989161   \n",
       "76          Marrakech-Médina              31.625826               -7.989161   \n",
       "77          Marrakech-Médina              31.625826               -7.989161   \n",
       "78          Marrakech-Médina              31.625826               -7.989161   \n",
       "79          Marrakech-Médina              31.625826               -7.989161   \n",
       "80          Marrakech-Médina              31.625826               -7.989161   \n",
       "81          Marrakech-Médina              31.625826               -7.989161   \n",
       "82          Marrakech-Médina              31.625826               -7.989161   \n",
       "83          Marrakech-Médina              31.625826               -7.989161   \n",
       "84          Marrakech-Médina              31.625826               -7.989161   \n",
       "85          Marrakech-Médina              31.625826               -7.989161   \n",
       "86          Marrakech-Médina              31.625826               -7.989161   \n",
       "87          Marrakech-Médina              31.625826               -7.989161   \n",
       "88          Marrakech-Médina              31.625826               -7.989161   \n",
       "89          Marrakech-Médina              31.625826               -7.989161   \n",
       "90   Ménara (arrondissement)              31.628555               -8.057550   \n",
       "91   Ménara (arrondissement)              31.628555               -8.057550   \n",
       "92   Ménara (arrondissement)              31.628555               -8.057550   \n",
       "93   Ménara (arrondissement)              31.628555               -8.057550   \n",
       "94   Ménara (arrondissement)              31.628555               -8.057550   \n",
       "95   Ménara (arrondissement)              31.628555               -8.057550   \n",
       "96   Ménara (arrondissement)              31.628555               -8.057550   \n",
       "97   Ménara (arrondissement)              31.628555               -8.057550   \n",
       "98      Sidi Youssef Ben Ali              31.609005               -7.967901   \n",
       "99      Sidi Youssef Ben Ali              31.609005               -7.967901   \n",
       "100     Sidi Youssef Ben Ali              31.609005               -7.967901   \n",
       "101     Sidi Youssef Ben Ali              31.609005               -7.967901   \n",
       "\n",
       "                                           Venue  Venue Latitude  \\\n",
       "0                        pharmacie borj ennakhil       31.648617   \n",
       "1                      Ryad Al Assala, Palmeraie       31.651886   \n",
       "2                         Grand Café de la Poste       31.633083   \n",
       "3                               snack Al Bahriya       31.632500   \n",
       "4                                           Azar       31.631774   \n",
       "5                                   L'Entrepotes       31.634356   \n",
       "6                                      Le Studio       31.632518   \n",
       "7                                      Bagatelle       31.632853   \n",
       "8                                   Radisson Blu       31.634876   \n",
       "9                                   Le Catanzaro       31.634768   \n",
       "10                                     Le Gueliz       31.633636   \n",
       "11                                     L'ADRESSE       31.631626   \n",
       "12                                          Zara       31.633402   \n",
       "13                                       16 Café       31.632757   \n",
       "14                           Pâtisserie Amandine       31.634145   \n",
       "15                               Bistrot LE LOFT       31.634643   \n",
       "16                            Pizzeria Mamma Mia       31.634568   \n",
       "17                                         Amaia       31.631852   \n",
       "18                     La Trattoria de Giancarlo       31.633898   \n",
       "19                            Oliveri Carré Eden       31.634522   \n",
       "20                          Place du 16 Novembre       31.632906   \n",
       "21            2Ciels Luxury Boutique Hotel & Spa       31.629399   \n",
       "22                                           68.       31.636130   \n",
       "23                                     Starbucks       31.634589   \n",
       "24                          Dino Gelato Italiano       31.631042   \n",
       "25                                     Al Bahrya       31.632497   \n",
       "26                              Patròn de la mer       31.629098   \n",
       "27                         La Plaza De Marrakech       31.633287   \n",
       "28                          Gallerie David Bloch       31.635847   \n",
       "29                                     Casa José       31.630943   \n",
       "30                                Bistrot Romain       31.633885   \n",
       "31                            Le Table du Marché       31.634907   \n",
       "32                                      Kechmara       31.634197   \n",
       "33                                    Jackisback       31.630689   \n",
       "34                                    New Yorker       31.634143   \n",
       "35                          cafe lobo carré Eden       31.635040   \n",
       "36                                     Dino cafe       31.631075   \n",
       "37                              Hotel Le Caspien       31.636444   \n",
       "38                                       Highway       31.628584   \n",
       "39                                     Bab Hotel       31.634118   \n",
       "40              Imperial Holiday Marrakech Hotel       31.633007   \n",
       "41                                  Hotel Corail       31.630634   \n",
       "42                                  Riad Monceau       31.624644   \n",
       "43                           Medina of Marrakech       31.625724   \n",
       "44                                     Roti d'Or       31.626771   \n",
       "45                        Hôtel & Ryad Art Place       31.625273   \n",
       "46                       Les Bains de L'alhambra       31.624470   \n",
       "47         Place Jemaa el-Fna (ساحة جامع الفناء)       31.625677   \n",
       "48                                 Riad Al Rimal       31.627111   \n",
       "49                                Riad Dar Justo       31.628431   \n",
       "50                                Riad le rihani       31.625558   \n",
       "51                                        Naranj       31.624407   \n",
       "52                    Dar Attajmil (دار التجميل)       31.627564   \n",
       "53                               Hostel Riad Dia       31.626606   \n",
       "54                                  Café Kif Kif       31.625212   \n",
       "55                                 Café Bakchich       31.625994   \n",
       "56                                       SHTATTO       31.629211   \n",
       "57                                   Chez Lamine       31.626007   \n",
       "58                                    Blackchich       31.623402   \n",
       "59                                       El Fenn       31.627187   \n",
       "60   Les Jardins De La Koutoubia Hotel Marrakech       31.626073   \n",
       "61                                     Le tobsil       31.626548   \n",
       "62                            Riad L´heure d´ete       31.624104   \n",
       "63                                 Palais Sebban       31.627069   \n",
       "64                                         Nomad       31.628673   \n",
       "65                    Riad Palais Des Princesses       31.624404   \n",
       "66                                   Dar Cherifa       31.629228   \n",
       "67                               Café des Épices       31.629009   \n",
       "68                                   Corner Café       31.626840   \n",
       "69                       La cantine des gazelles       31.625972   \n",
       "70                           The Rooftop Terrace       31.627351   \n",
       "71                                  Riad Dixneuf       31.628695   \n",
       "72                        Equity Point Marrakech       31.629490   \n",
       "73                          Rahba Kedima & Souks       31.628786   \n",
       "74                                    Riad Rouge       31.623516   \n",
       "75                       Un déjeuner à Marrakech       31.624059   \n",
       "76                            Portofino Pizzeria       31.625275   \n",
       "77                               Souks Marocains       31.629805   \n",
       "78                       BAZAAR - Café Marrakech       31.628859   \n",
       "79                                   Riad Chorfa       31.629216   \n",
       "80                        Restaurant Dar Essalam       31.622264   \n",
       "81                              Hostel Waka Waka       31.627382   \n",
       "82                          Maktoub By Max & Jan       31.629884   \n",
       "83     musee de mouassine Douiria Derb el Hammam       31.629318   \n",
       "84                                     gastro MK       31.627370   \n",
       "85                       Islane hotel restaurant       31.625372   \n",
       "86                                  Hotel Islane       31.625397   \n",
       "87                                  Cafe Laksour       31.627069   \n",
       "88                                       Narwama       31.626120   \n",
       "89                   Spa Jardins De La Koutoubia       31.626117   \n",
       "90                                     Tcha Wing       31.629428   \n",
       "91                            costcutter massira       31.627871   \n",
       "92                                    Costcutter       31.630259   \n",
       "93                                     Tawsi yes       31.628184   \n",
       "94                              chawarma yassine       31.628899   \n",
       "95                                     Maritalia       31.628057   \n",
       "96                                        WINMAC       31.632111   \n",
       "97                                   L'Hivernage       31.632572   \n",
       "98                                     Riad Syba       31.608942   \n",
       "99                           Argan Xtreme Sports       31.607360   \n",
       "100                                     Kafedaki       31.611144   \n",
       "101                          cafe elaahd aljadid       31.607792   \n",
       "\n",
       "     Venue Longitude             Venue Category  \n",
       "0          -7.963117                   Pharmacy  \n",
       "1          -7.960317                 Hotel Pool  \n",
       "2          -8.009791          French Restaurant  \n",
       "3          -8.011736         Seafood Restaurant  \n",
       "4          -8.012992  Middle Eastern Restaurant  \n",
       "5          -8.009958          French Restaurant  \n",
       "6          -8.010995          French Restaurant  \n",
       "7          -8.013390          French Restaurant  \n",
       "8          -8.011475                      Hotel  \n",
       "9          -8.010502         Italian Restaurant  \n",
       "10         -8.010320                       Café  \n",
       "11         -8.006999                       Café  \n",
       "12         -8.009471             Clothing Store  \n",
       "13         -8.007756                       Café  \n",
       "14         -8.015122               Dessert Shop  \n",
       "15         -8.013017                      Diner  \n",
       "16         -8.013118         Italian Restaurant  \n",
       "17         -8.010321          French Restaurant  \n",
       "18         -8.015309         Italian Restaurant  \n",
       "19         -8.011137               Dessert Shop  \n",
       "20         -8.008073                      Plaza  \n",
       "21         -8.007689                      Hotel  \n",
       "22         -8.010658                   Wine Bar  \n",
       "23         -8.011490                Coffee Shop  \n",
       "24         -8.005829             Ice Cream Shop  \n",
       "25         -8.011837        Moroccan Restaurant  \n",
       "26         -8.007989         Seafood Restaurant  \n",
       "27         -8.008328              Shopping Mall  \n",
       "28         -8.012119                Art Gallery  \n",
       "29         -8.008047         Spanish Restaurant  \n",
       "30         -8.007495          French Restaurant  \n",
       "31         -8.012146                     Bistro  \n",
       "32         -8.013416                      Diner  \n",
       "33         -8.007942               Cocktail Bar  \n",
       "34         -8.007508                   Boutique  \n",
       "35         -8.011635                       Café  \n",
       "36         -8.005921               Dessert Shop  \n",
       "37         -8.010324                      Hotel  \n",
       "38         -8.007735                  Piano Bar  \n",
       "39         -8.015000                  Hotel Bar  \n",
       "40         -8.014034                      Hotel  \n",
       "41         -8.014884                      Hotel  \n",
       "42         -7.987033                      Hotel  \n",
       "43         -7.989343              Historic Site  \n",
       "44         -7.986339               Burger Joint  \n",
       "45         -7.987831                      Hotel  \n",
       "46         -7.986323                        Spa  \n",
       "47         -7.988704                      Plaza  \n",
       "48         -7.991484            Bed & Breakfast  \n",
       "49         -7.990284                     Resort  \n",
       "50         -7.985706            Bed & Breakfast  \n",
       "51         -7.985358                     Bistro  \n",
       "52         -7.992063                      Hotel  \n",
       "53         -7.990925                     Hostel  \n",
       "54         -7.992328        Moroccan Restaurant  \n",
       "55         -7.986332                       Café  \n",
       "56         -7.986674                       Café  \n",
       "57         -7.988222         African Restaurant  \n",
       "58         -7.985035        Moroccan Restaurant  \n",
       "59         -7.993035                      Hotel  \n",
       "60         -7.991837                      Hotel  \n",
       "61         -7.992154                 Restaurant  \n",
       "62         -7.988172                      Hotel  \n",
       "63         -7.992142                      Hotel  \n",
       "64         -7.987487        Moroccan Restaurant  \n",
       "65         -7.986153                      Hotel  \n",
       "66         -7.990248        Moroccan Restaurant  \n",
       "67         -7.987299        Moroccan Restaurant  \n",
       "68         -7.986412        Moroccan Restaurant  \n",
       "69         -7.986324        Moroccan Restaurant  \n",
       "70         -7.993210        Moroccan Restaurant  \n",
       "71         -7.991600                      Hotel  \n",
       "72         -7.988179            Bed & Breakfast  \n",
       "73         -7.987368                     Market  \n",
       "74         -7.985499                     Hostel  \n",
       "75         -7.985006        Moroccan Restaurant  \n",
       "76         -7.993354        Moroccan Restaurant  \n",
       "77         -7.987986                     Market  \n",
       "78         -7.991083                       Café  \n",
       "79         -7.990087            Bed & Breakfast  \n",
       "80         -7.986082        Moroccan Restaurant  \n",
       "81         -7.992249                     Hostel  \n",
       "82         -7.989287                   Boutique  \n",
       "83         -7.988832                     Museum  \n",
       "84         -7.992207                 Restaurant  \n",
       "85         -7.993117        Moroccan Restaurant  \n",
       "86         -7.993152                      Hotel  \n",
       "87         -7.993416                       Café  \n",
       "88         -7.992148            Thai Restaurant  \n",
       "89         -7.992015                        Spa  \n",
       "90         -8.057868           Asian Restaurant  \n",
       "91         -8.057918              Shopping Mall  \n",
       "92         -8.056857          Electronics Store  \n",
       "93         -8.057150                       Café  \n",
       "94         -8.058371           Halal Restaurant  \n",
       "95         -8.057465                       Café  \n",
       "96         -8.056276                Frame Store  \n",
       "97         -8.059553                      Hotel  \n",
       "98         -7.965713                 Hotel Pool  \n",
       "99         -7.969169   Bike Rental / Bike Share  \n",
       "100        -7.966014                 Restaurant  \n",
       "101        -7.972817                       Café  "
      ],
      "text/html": "<div>\n<style scoped>\n    .dataframe tbody tr th:only-of-type {\n        vertical-align: middle;\n    }\n\n    .dataframe tbody tr th {\n        vertical-align: top;\n    }\n\n    .dataframe thead th {\n        text-align: right;\n    }\n</style>\n<table border=\"1\" class=\"dataframe\">\n  <thead>\n    <tr style=\"text-align: right;\">\n      <th></th>\n      <th>Neighborhood</th>\n      <th>Neighborhood Latitude</th>\n      <th>Neighborhood Longitude</th>\n      <th>Venue</th>\n      <th>Venue Latitude</th>\n      <th>Venue Longitude</th>\n      <th>Venue Category</th>\n    </tr>\n  </thead>\n  <tbody>\n    <tr>\n      <th>0</th>\n      <td>Ennakhil, Marrakech</td>\n      <td>31.648666</td>\n      <td>-7.963090</td>\n      <td>pharmacie borj ennakhil</td>\n      <td>31.648617</td>\n      <td>-7.963117</td>\n      <td>Pharmacy</td>\n    </tr>\n    <tr>\n      <th>1</th>\n      <td>Ennakhil, Marrakech</td>\n      <td>31.648666</td>\n      <td>-7.963090</td>\n      <td>Ryad Al Assala, Palmeraie</td>\n      <td>31.651886</td>\n      <td>-7.960317</td>\n      <td>Hotel Pool</td>\n    </tr>\n    <tr>\n      <th>2</th>\n      <td>Guéliz</td>\n      <td>31.632188</td>\n      <td>-8.010813</td>\n      <td>Grand Café de la Poste</td>\n      <td>31.633083</td>\n      <td>-8.009791</td>\n      <td>French Restaurant</td>\n    </tr>\n    <tr>\n      <th>3</th>\n      <td>Guéliz</td>\n      <td>31.632188</td>\n      <td>-8.010813</td>\n      <td>snack Al Bahriya</td>\n      <td>31.632500</td>\n      <td>-8.011736</td>\n      <td>Seafood Restaurant</td>\n    </tr>\n    <tr>\n      <th>4</th>\n      <td>Guéliz</td>\n      <td>31.632188</td>\n      <td>-8.010813</td>\n      <td>Azar</td>\n      <td>31.631774</td>\n      <td>-8.012992</td>\n      <td>Middle Eastern Restaurant</td>\n    </tr>\n    <tr>\n      <th>5</th>\n      <td>Guéliz</td>\n      <td>31.632188</td>\n      <td>-8.010813</td>\n      <td>L'Entrepotes</td>\n      <td>31.634356</td>\n      <td>-8.009958</td>\n      <td>French Restaurant</td>\n    </tr>\n    <tr>\n      <th>6</th>\n      <td>Guéliz</td>\n      <td>31.632188</td>\n      <td>-8.010813</td>\n      <td>Le Studio</td>\n      <td>31.632518</td>\n      <td>-8.010995</td>\n      <td>French Restaurant</td>\n    </tr>\n    <tr>\n      <th>7</th>\n      <td>Guéliz</td>\n      <td>31.632188</td>\n      <td>-8.010813</td>\n      <td>Bagatelle</td>\n      <td>31.632853</td>\n      <td>-8.013390</td>\n      <td>French Restaurant</td>\n    </tr>\n    <tr>\n      <th>8</th>\n      <td>Guéliz</td>\n      <td>31.632188</td>\n      <td>-8.010813</td>\n      <td>Radisson Blu</td>\n      <td>31.634876</td>\n      <td>-8.011475</td>\n      <td>Hotel</td>\n    </tr>\n    <tr>\n      <th>9</th>\n      <td>Guéliz</td>\n      <td>31.632188</td>\n      <td>-8.010813</td>\n      <td>Le Catanzaro</td>\n      <td>31.634768</td>\n      <td>-8.010502</td>\n      <td>Italian Restaurant</td>\n    </tr>\n    <tr>\n      <th>10</th>\n      <td>Guéliz</td>\n      <td>31.632188</td>\n      <td>-8.010813</td>\n      <td>Le Gueliz</td>\n      <td>31.633636</td>\n      <td>-8.010320</td>\n      <td>Café</td>\n    </tr>\n    <tr>\n      <th>11</th>\n      <td>Guéliz</td>\n      <td>31.632188</td>\n      <td>-8.010813</td>\n      <td>L'ADRESSE</td>\n      <td>31.631626</td>\n      <td>-8.006999</td>\n      <td>Café</td>\n    </tr>\n    <tr>\n      <th>12</th>\n      <td>Guéliz</td>\n      <td>31.632188</td>\n      <td>-8.010813</td>\n      <td>Zara</td>\n      <td>31.633402</td>\n      <td>-8.009471</td>\n      <td>Clothing Store</td>\n    </tr>\n    <tr>\n      <th>13</th>\n      <td>Guéliz</td>\n      <td>31.632188</td>\n      <td>-8.010813</td>\n      <td>16 Café</td>\n      <td>31.632757</td>\n      <td>-8.007756</td>\n      <td>Café</td>\n    </tr>\n    <tr>\n      <th>14</th>\n      <td>Guéliz</td>\n      <td>31.632188</td>\n      <td>-8.010813</td>\n      <td>Pâtisserie Amandine</td>\n      <td>31.634145</td>\n      <td>-8.015122</td>\n      <td>Dessert Shop</td>\n    </tr>\n    <tr>\n      <th>15</th>\n      <td>Guéliz</td>\n      <td>31.632188</td>\n      <td>-8.010813</td>\n      <td>Bistrot LE LOFT</td>\n      <td>31.634643</td>\n      <td>-8.013017</td>\n      <td>Diner</td>\n    </tr>\n    <tr>\n      <th>16</th>\n      <td>Guéliz</td>\n      <td>31.632188</td>\n      <td>-8.010813</td>\n      <td>Pizzeria Mamma Mia</td>\n      <td>31.634568</td>\n      <td>-8.013118</td>\n      <td>Italian Restaurant</td>\n    </tr>\n    <tr>\n      <th>17</th>\n      <td>Guéliz</td>\n      <td>31.632188</td>\n      <td>-8.010813</td>\n      <td>Amaia</td>\n      <td>31.631852</td>\n      <td>-8.010321</td>\n      <td>French Restaurant</td>\n    </tr>\n    <tr>\n      <th>18</th>\n      <td>Guéliz</td>\n      <td>31.632188</td>\n      <td>-8.010813</td>\n      <td>La Trattoria de Giancarlo</td>\n      <td>31.633898</td>\n      <td>-8.015309</td>\n      <td>Italian Restaurant</td>\n    </tr>\n    <tr>\n      <th>19</th>\n      <td>Guéliz</td>\n      <td>31.632188</td>\n      <td>-8.010813</td>\n      <td>Oliveri Carré Eden</td>\n      <td>31.634522</td>\n      <td>-8.011137</td>\n      <td>Dessert Shop</td>\n    </tr>\n    <tr>\n      <th>20</th>\n      <td>Guéliz</td>\n      <td>31.632188</td>\n      <td>-8.010813</td>\n      <td>Place du 16 Novembre</td>\n      <td>31.632906</td>\n      <td>-8.008073</td>\n      <td>Plaza</td>\n    </tr>\n    <tr>\n      <th>21</th>\n      <td>Guéliz</td>\n      <td>31.632188</td>\n      <td>-8.010813</td>\n      <td>2Ciels Luxury Boutique Hotel &amp; Spa</td>\n      <td>31.629399</td>\n      <td>-8.007689</td>\n      <td>Hotel</td>\n    </tr>\n    <tr>\n      <th>22</th>\n      <td>Guéliz</td>\n      <td>31.632188</td>\n      <td>-8.010813</td>\n      <td>68.</td>\n      <td>31.636130</td>\n      <td>-8.010658</td>\n      <td>Wine Bar</td>\n    </tr>\n    <tr>\n      <th>23</th>\n      <td>Guéliz</td>\n      <td>31.632188</td>\n      <td>-8.010813</td>\n      <td>Starbucks</td>\n      <td>31.634589</td>\n      <td>-8.011490</td>\n      <td>Coffee Shop</td>\n    </tr>\n    <tr>\n      <th>24</th>\n      <td>Guéliz</td>\n      <td>31.632188</td>\n      <td>-8.010813</td>\n      <td>Dino Gelato Italiano</td>\n      <td>31.631042</td>\n      <td>-8.005829</td>\n      <td>Ice Cream Shop</td>\n    </tr>\n    <tr>\n      <th>25</th>\n      <td>Guéliz</td>\n      <td>31.632188</td>\n      <td>-8.010813</td>\n      <td>Al Bahrya</td>\n      <td>31.632497</td>\n      <td>-8.011837</td>\n      <td>Moroccan Restaurant</td>\n    </tr>\n    <tr>\n      <th>26</th>\n      <td>Guéliz</td>\n      <td>31.632188</td>\n      <td>-8.010813</td>\n      <td>Patròn de la mer</td>\n      <td>31.629098</td>\n      <td>-8.007989</td>\n      <td>Seafood Restaurant</td>\n    </tr>\n    <tr>\n      <th>27</th>\n      <td>Guéliz</td>\n      <td>31.632188</td>\n      <td>-8.010813</td>\n      <td>La Plaza De Marrakech</td>\n      <td>31.633287</td>\n      <td>-8.008328</td>\n      <td>Shopping Mall</td>\n    </tr>\n    <tr>\n      <th>28</th>\n      <td>Guéliz</td>\n      <td>31.632188</td>\n      <td>-8.010813</td>\n      <td>Gallerie David Bloch</td>\n      <td>31.635847</td>\n      <td>-8.012119</td>\n      <td>Art Gallery</td>\n    </tr>\n    <tr>\n      <th>29</th>\n      <td>Guéliz</td>\n      <td>31.632188</td>\n      <td>-8.010813</td>\n      <td>Casa José</td>\n      <td>31.630943</td>\n      <td>-8.008047</td>\n      <td>Spanish Restaurant</td>\n    </tr>\n    <tr>\n      <th>30</th>\n      <td>Guéliz</td>\n      <td>31.632188</td>\n      <td>-8.010813</td>\n      <td>Bistrot Romain</td>\n      <td>31.633885</td>\n      <td>-8.007495</td>\n      <td>French Restaurant</td>\n    </tr>\n    <tr>\n      <th>31</th>\n      <td>Guéliz</td>\n      <td>31.632188</td>\n      <td>-8.010813</td>\n      <td>Le Table du Marché</td>\n      <td>31.634907</td>\n      <td>-8.012146</td>\n      <td>Bistro</td>\n    </tr>\n    <tr>\n      <th>32</th>\n      <td>Guéliz</td>\n      <td>31.632188</td>\n      <td>-8.010813</td>\n      <td>Kechmara</td>\n      <td>31.634197</td>\n      <td>-8.013416</td>\n      <td>Diner</td>\n    </tr>\n    <tr>\n      <th>33</th>\n      <td>Guéliz</td>\n      <td>31.632188</td>\n      <td>-8.010813</td>\n      <td>Jackisback</td>\n      <td>31.630689</td>\n      <td>-8.007942</td>\n      <td>Cocktail Bar</td>\n    </tr>\n    <tr>\n      <th>34</th>\n      <td>Guéliz</td>\n      <td>31.632188</td>\n      <td>-8.010813</td>\n      <td>New Yorker</td>\n      <td>31.634143</td>\n      <td>-8.007508</td>\n      <td>Boutique</td>\n    </tr>\n    <tr>\n      <th>35</th>\n      <td>Guéliz</td>\n      <td>31.632188</td>\n      <td>-8.010813</td>\n      <td>cafe lobo carré Eden</td>\n      <td>31.635040</td>\n      <td>-8.011635</td>\n      <td>Café</td>\n    </tr>\n    <tr>\n      <th>36</th>\n      <td>Guéliz</td>\n      <td>31.632188</td>\n      <td>-8.010813</td>\n      <td>Dino cafe</td>\n      <td>31.631075</td>\n      <td>-8.005921</td>\n      <td>Dessert Shop</td>\n    </tr>\n    <tr>\n      <th>37</th>\n      <td>Guéliz</td>\n      <td>31.632188</td>\n      <td>-8.010813</td>\n      <td>Hotel Le Caspien</td>\n      <td>31.636444</td>\n      <td>-8.010324</td>\n      <td>Hotel</td>\n    </tr>\n    <tr>\n      <th>38</th>\n      <td>Guéliz</td>\n      <td>31.632188</td>\n      <td>-8.010813</td>\n      <td>Highway</td>\n      <td>31.628584</td>\n      <td>-8.007735</td>\n      <td>Piano Bar</td>\n    </tr>\n    <tr>\n      <th>39</th>\n      <td>Guéliz</td>\n      <td>31.632188</td>\n      <td>-8.010813</td>\n      <td>Bab Hotel</td>\n      <td>31.634118</td>\n      <td>-8.015000</td>\n      <td>Hotel Bar</td>\n    </tr>\n    <tr>\n      <th>40</th>\n      <td>Guéliz</td>\n      <td>31.632188</td>\n      <td>-8.010813</td>\n      <td>Imperial Holiday Marrakech Hotel</td>\n      <td>31.633007</td>\n      <td>-8.014034</td>\n      <td>Hotel</td>\n    </tr>\n    <tr>\n      <th>41</th>\n      <td>Guéliz</td>\n      <td>31.632188</td>\n      <td>-8.010813</td>\n      <td>Hotel Corail</td>\n      <td>31.630634</td>\n      <td>-8.014884</td>\n      <td>Hotel</td>\n    </tr>\n    <tr>\n      <th>42</th>\n      <td>Marrakech-Médina</td>\n      <td>31.625826</td>\n      <td>-7.989161</td>\n      <td>Riad Monceau</td>\n      <td>31.624644</td>\n      <td>-7.987033</td>\n      <td>Hotel</td>\n    </tr>\n    <tr>\n      <th>43</th>\n      <td>Marrakech-Médina</td>\n      <td>31.625826</td>\n      <td>-7.989161</td>\n      <td>Medina of Marrakech</td>\n      <td>31.625724</td>\n      <td>-7.989343</td>\n      <td>Historic Site</td>\n    </tr>\n    <tr>\n      <th>44</th>\n      <td>Marrakech-Médina</td>\n      <td>31.625826</td>\n      <td>-7.989161</td>\n      <td>Roti d'Or</td>\n      <td>31.626771</td>\n      <td>-7.986339</td>\n      <td>Burger Joint</td>\n    </tr>\n    <tr>\n      <th>45</th>\n      <td>Marrakech-Médina</td>\n      <td>31.625826</td>\n      <td>-7.989161</td>\n      <td>Hôtel &amp; Ryad Art Place</td>\n      <td>31.625273</td>\n      <td>-7.987831</td>\n      <td>Hotel</td>\n    </tr>\n    <tr>\n      <th>46</th>\n      <td>Marrakech-Médina</td>\n      <td>31.625826</td>\n      <td>-7.989161</td>\n      <td>Les Bains de L'alhambra</td>\n      <td>31.624470</td>\n      <td>-7.986323</td>\n      <td>Spa</td>\n    </tr>\n    <tr>\n      <th>47</th>\n      <td>Marrakech-Médina</td>\n      <td>31.625826</td>\n      <td>-7.989161</td>\n      <td>Place Jemaa el-Fna (ساحة جامع الفناء)</td>\n      <td>31.625677</td>\n      <td>-7.988704</td>\n      <td>Plaza</td>\n    </tr>\n    <tr>\n      <th>48</th>\n      <td>Marrakech-Médina</td>\n      <td>31.625826</td>\n      <td>-7.989161</td>\n      <td>Riad Al Rimal</td>\n      <td>31.627111</td>\n      <td>-7.991484</td>\n      <td>Bed &amp; Breakfast</td>\n    </tr>\n    <tr>\n      <th>49</th>\n      <td>Marrakech-Médina</td>\n      <td>31.625826</td>\n      <td>-7.989161</td>\n      <td>Riad Dar Justo</td>\n      <td>31.628431</td>\n      <td>-7.990284</td>\n      <td>Resort</td>\n    </tr>\n    <tr>\n      <th>50</th>\n      <td>Marrakech-Médina</td>\n      <td>31.625826</td>\n      <td>-7.989161</td>\n      <td>Riad le rihani</td>\n      <td>31.625558</td>\n      <td>-7.985706</td>\n      <td>Bed &amp; Breakfast</td>\n    </tr>\n    <tr>\n      <th>51</th>\n      <td>Marrakech-Médina</td>\n      <td>31.625826</td>\n      <td>-7.989161</td>\n      <td>Naranj</td>\n      <td>31.624407</td>\n      <td>-7.985358</td>\n      <td>Bistro</td>\n    </tr>\n    <tr>\n      <th>52</th>\n      <td>Marrakech-Médina</td>\n      <td>31.625826</td>\n      <td>-7.989161</td>\n      <td>Dar Attajmil (دار التجميل)</td>\n      <td>31.627564</td>\n      <td>-7.992063</td>\n      <td>Hotel</td>\n    </tr>\n    <tr>\n      <th>53</th>\n      <td>Marrakech-Médina</td>\n      <td>31.625826</td>\n      <td>-7.989161</td>\n      <td>Hostel Riad Dia</td>\n      <td>31.626606</td>\n      <td>-7.990925</td>\n      <td>Hostel</td>\n    </tr>\n    <tr>\n      <th>54</th>\n      <td>Marrakech-Médina</td>\n      <td>31.625826</td>\n      <td>-7.989161</td>\n      <td>Café Kif Kif</td>\n      <td>31.625212</td>\n      <td>-7.992328</td>\n      <td>Moroccan Restaurant</td>\n    </tr>\n    <tr>\n      <th>55</th>\n      <td>Marrakech-Médina</td>\n      <td>31.625826</td>\n      <td>-7.989161</td>\n      <td>Café Bakchich</td>\n      <td>31.625994</td>\n      <td>-7.986332</td>\n      <td>Café</td>\n    </tr>\n    <tr>\n      <th>56</th>\n      <td>Marrakech-Médina</td>\n      <td>31.625826</td>\n      <td>-7.989161</td>\n      <td>SHTATTO</td>\n      <td>31.629211</td>\n      <td>-7.986674</td>\n      <td>Café</td>\n    </tr>\n    <tr>\n      <th>57</th>\n      <td>Marrakech-Médina</td>\n      <td>31.625826</td>\n      <td>-7.989161</td>\n      <td>Chez Lamine</td>\n      <td>31.626007</td>\n      <td>-7.988222</td>\n      <td>African Restaurant</td>\n    </tr>\n    <tr>\n      <th>58</th>\n      <td>Marrakech-Médina</td>\n      <td>31.625826</td>\n      <td>-7.989161</td>\n      <td>Blackchich</td>\n      <td>31.623402</td>\n      <td>-7.985035</td>\n      <td>Moroccan Restaurant</td>\n    </tr>\n    <tr>\n      <th>59</th>\n      <td>Marrakech-Médina</td>\n      <td>31.625826</td>\n      <td>-7.989161</td>\n      <td>El Fenn</td>\n      <td>31.627187</td>\n      <td>-7.993035</td>\n      <td>Hotel</td>\n    </tr>\n    <tr>\n      <th>60</th>\n      <td>Marrakech-Médina</td>\n      <td>31.625826</td>\n      <td>-7.989161</td>\n      <td>Les Jardins De La Koutoubia Hotel Marrakech</td>\n      <td>31.626073</td>\n      <td>-7.991837</td>\n      <td>Hotel</td>\n    </tr>\n    <tr>\n      <th>61</th>\n      <td>Marrakech-Médina</td>\n      <td>31.625826</td>\n      <td>-7.989161</td>\n      <td>Le tobsil</td>\n      <td>31.626548</td>\n      <td>-7.992154</td>\n      <td>Restaurant</td>\n    </tr>\n    <tr>\n      <th>62</th>\n      <td>Marrakech-Médina</td>\n      <td>31.625826</td>\n      <td>-7.989161</td>\n      <td>Riad L´heure d´ete</td>\n      <td>31.624104</td>\n      <td>-7.988172</td>\n      <td>Hotel</td>\n    </tr>\n    <tr>\n      <th>63</th>\n      <td>Marrakech-Médina</td>\n      <td>31.625826</td>\n      <td>-7.989161</td>\n      <td>Palais Sebban</td>\n      <td>31.627069</td>\n      <td>-7.992142</td>\n      <td>Hotel</td>\n    </tr>\n    <tr>\n      <th>64</th>\n      <td>Marrakech-Médina</td>\n      <td>31.625826</td>\n      <td>-7.989161</td>\n      <td>Nomad</td>\n      <td>31.628673</td>\n      <td>-7.987487</td>\n      <td>Moroccan Restaurant</td>\n    </tr>\n    <tr>\n      <th>65</th>\n      <td>Marrakech-Médina</td>\n      <td>31.625826</td>\n      <td>-7.989161</td>\n      <td>Riad Palais Des Princesses</td>\n      <td>31.624404</td>\n      <td>-7.986153</td>\n      <td>Hotel</td>\n    </tr>\n    <tr>\n      <th>66</th>\n      <td>Marrakech-Médina</td>\n      <td>31.625826</td>\n      <td>-7.989161</td>\n      <td>Dar Cherifa</td>\n      <td>31.629228</td>\n      <td>-7.990248</td>\n      <td>Moroccan Restaurant</td>\n    </tr>\n    <tr>\n      <th>67</th>\n      <td>Marrakech-Médina</td>\n      <td>31.625826</td>\n      <td>-7.989161</td>\n      <td>Café des Épices</td>\n      <td>31.629009</td>\n      <td>-7.987299</td>\n      <td>Moroccan Restaurant</td>\n    </tr>\n    <tr>\n      <th>68</th>\n      <td>Marrakech-Médina</td>\n      <td>31.625826</td>\n      <td>-7.989161</td>\n      <td>Corner Café</td>\n      <td>31.626840</td>\n      <td>-7.986412</td>\n      <td>Moroccan Restaurant</td>\n    </tr>\n    <tr>\n      <th>69</th>\n      <td>Marrakech-Médina</td>\n      <td>31.625826</td>\n      <td>-7.989161</td>\n      <td>La cantine des gazelles</td>\n      <td>31.625972</td>\n      <td>-7.986324</td>\n      <td>Moroccan Restaurant</td>\n    </tr>\n    <tr>\n      <th>70</th>\n      <td>Marrakech-Médina</td>\n      <td>31.625826</td>\n      <td>-7.989161</td>\n      <td>The Rooftop Terrace</td>\n      <td>31.627351</td>\n      <td>-7.993210</td>\n      <td>Moroccan Restaurant</td>\n    </tr>\n    <tr>\n      <th>71</th>\n      <td>Marrakech-Médina</td>\n      <td>31.625826</td>\n      <td>-7.989161</td>\n      <td>Riad Dixneuf</td>\n      <td>31.628695</td>\n      <td>-7.991600</td>\n      <td>Hotel</td>\n    </tr>\n    <tr>\n      <th>72</th>\n      <td>Marrakech-Médina</td>\n      <td>31.625826</td>\n      <td>-7.989161</td>\n      <td>Equity Point Marrakech</td>\n      <td>31.629490</td>\n      <td>-7.988179</td>\n      <td>Bed &amp; Breakfast</td>\n    </tr>\n    <tr>\n      <th>73</th>\n      <td>Marrakech-Médina</td>\n      <td>31.625826</td>\n      <td>-7.989161</td>\n      <td>Rahba Kedima &amp; Souks</td>\n      <td>31.628786</td>\n      <td>-7.987368</td>\n      <td>Market</td>\n    </tr>\n    <tr>\n      <th>74</th>\n      <td>Marrakech-Médina</td>\n      <td>31.625826</td>\n      <td>-7.989161</td>\n      <td>Riad Rouge</td>\n      <td>31.623516</td>\n      <td>-7.985499</td>\n      <td>Hostel</td>\n    </tr>\n    <tr>\n      <th>75</th>\n      <td>Marrakech-Médina</td>\n      <td>31.625826</td>\n      <td>-7.989161</td>\n      <td>Un déjeuner à Marrakech</td>\n      <td>31.624059</td>\n      <td>-7.985006</td>\n      <td>Moroccan Restaurant</td>\n    </tr>\n    <tr>\n      <th>76</th>\n      <td>Marrakech-Médina</td>\n      <td>31.625826</td>\n      <td>-7.989161</td>\n      <td>Portofino Pizzeria</td>\n      <td>31.625275</td>\n      <td>-7.993354</td>\n      <td>Moroccan Restaurant</td>\n    </tr>\n    <tr>\n      <th>77</th>\n      <td>Marrakech-Médina</td>\n      <td>31.625826</td>\n      <td>-7.989161</td>\n      <td>Souks Marocains</td>\n      <td>31.629805</td>\n      <td>-7.987986</td>\n      <td>Market</td>\n    </tr>\n    <tr>\n      <th>78</th>\n      <td>Marrakech-Médina</td>\n      <td>31.625826</td>\n      <td>-7.989161</td>\n      <td>BAZAAR - Café Marrakech</td>\n      <td>31.628859</td>\n      <td>-7.991083</td>\n      <td>Café</td>\n    </tr>\n    <tr>\n      <th>79</th>\n      <td>Marrakech-Médina</td>\n      <td>31.625826</td>\n      <td>-7.989161</td>\n      <td>Riad Chorfa</td>\n      <td>31.629216</td>\n      <td>-7.990087</td>\n      <td>Bed &amp; Breakfast</td>\n    </tr>\n    <tr>\n      <th>80</th>\n      <td>Marrakech-Médina</td>\n      <td>31.625826</td>\n      <td>-7.989161</td>\n      <td>Restaurant Dar Essalam</td>\n      <td>31.622264</td>\n      <td>-7.986082</td>\n      <td>Moroccan Restaurant</td>\n    </tr>\n    <tr>\n      <th>81</th>\n      <td>Marrakech-Médina</td>\n      <td>31.625826</td>\n      <td>-7.989161</td>\n      <td>Hostel Waka Waka</td>\n      <td>31.627382</td>\n      <td>-7.992249</td>\n      <td>Hostel</td>\n    </tr>\n    <tr>\n      <th>82</th>\n      <td>Marrakech-Médina</td>\n      <td>31.625826</td>\n      <td>-7.989161</td>\n      <td>Maktoub By Max &amp; Jan</td>\n      <td>31.629884</td>\n      <td>-7.989287</td>\n      <td>Boutique</td>\n    </tr>\n    <tr>\n      <th>83</th>\n      <td>Marrakech-Médina</td>\n      <td>31.625826</td>\n      <td>-7.989161</td>\n      <td>musee de mouassine Douiria Derb el Hammam</td>\n      <td>31.629318</td>\n      <td>-7.988832</td>\n      <td>Museum</td>\n    </tr>\n    <tr>\n      <th>84</th>\n      <td>Marrakech-Médina</td>\n      <td>31.625826</td>\n      <td>-7.989161</td>\n      <td>gastro MK</td>\n      <td>31.627370</td>\n      <td>-7.992207</td>\n      <td>Restaurant</td>\n    </tr>\n    <tr>\n      <th>85</th>\n      <td>Marrakech-Médina</td>\n      <td>31.625826</td>\n      <td>-7.989161</td>\n      <td>Islane hotel restaurant</td>\n      <td>31.625372</td>\n      <td>-7.993117</td>\n      <td>Moroccan Restaurant</td>\n    </tr>\n    <tr>\n      <th>86</th>\n      <td>Marrakech-Médina</td>\n      <td>31.625826</td>\n      <td>-7.989161</td>\n      <td>Hotel Islane</td>\n      <td>31.625397</td>\n      <td>-7.993152</td>\n      <td>Hotel</td>\n    </tr>\n    <tr>\n      <th>87</th>\n      <td>Marrakech-Médina</td>\n      <td>31.625826</td>\n      <td>-7.989161</td>\n      <td>Cafe Laksour</td>\n      <td>31.627069</td>\n      <td>-7.993416</td>\n      <td>Café</td>\n    </tr>\n    <tr>\n      <th>88</th>\n      <td>Marrakech-Médina</td>\n      <td>31.625826</td>\n      <td>-7.989161</td>\n      <td>Narwama</td>\n      <td>31.626120</td>\n      <td>-7.992148</td>\n      <td>Thai Restaurant</td>\n    </tr>\n    <tr>\n      <th>89</th>\n      <td>Marrakech-Médina</td>\n      <td>31.625826</td>\n      <td>-7.989161</td>\n      <td>Spa Jardins De La Koutoubia</td>\n      <td>31.626117</td>\n      <td>-7.992015</td>\n      <td>Spa</td>\n    </tr>\n    <tr>\n      <th>90</th>\n      <td>Ménara (arrondissement)</td>\n      <td>31.628555</td>\n      <td>-8.057550</td>\n      <td>Tcha Wing</td>\n      <td>31.629428</td>\n      <td>-8.057868</td>\n      <td>Asian Restaurant</td>\n    </tr>\n    <tr>\n      <th>91</th>\n      <td>Ménara (arrondissement)</td>\n      <td>31.628555</td>\n      <td>-8.057550</td>\n      <td>costcutter massira</td>\n      <td>31.627871</td>\n      <td>-8.057918</td>\n      <td>Shopping Mall</td>\n    </tr>\n    <tr>\n      <th>92</th>\n      <td>Ménara (arrondissement)</td>\n      <td>31.628555</td>\n      <td>-8.057550</td>\n      <td>Costcutter</td>\n      <td>31.630259</td>\n      <td>-8.056857</td>\n      <td>Electronics Store</td>\n    </tr>\n    <tr>\n      <th>93</th>\n      <td>Ménara (arrondissement)</td>\n      <td>31.628555</td>\n      <td>-8.057550</td>\n      <td>Tawsi yes</td>\n      <td>31.628184</td>\n      <td>-8.057150</td>\n      <td>Café</td>\n    </tr>\n    <tr>\n      <th>94</th>\n      <td>Ménara (arrondissement)</td>\n      <td>31.628555</td>\n      <td>-8.057550</td>\n      <td>chawarma yassine</td>\n      <td>31.628899</td>\n      <td>-8.058371</td>\n      <td>Halal Restaurant</td>\n    </tr>\n    <tr>\n      <th>95</th>\n      <td>Ménara (arrondissement)</td>\n      <td>31.628555</td>\n      <td>-8.057550</td>\n      <td>Maritalia</td>\n      <td>31.628057</td>\n      <td>-8.057465</td>\n      <td>Café</td>\n    </tr>\n    <tr>\n      <th>96</th>\n      <td>Ménara (arrondissement)</td>\n      <td>31.628555</td>\n      <td>-8.057550</td>\n      <td>WINMAC</td>\n      <td>31.632111</td>\n      <td>-8.056276</td>\n      <td>Frame Store</td>\n    </tr>\n    <tr>\n      <th>97</th>\n      <td>Ménara (arrondissement)</td>\n      <td>31.628555</td>\n      <td>-8.057550</td>\n      <td>L'Hivernage</td>\n      <td>31.632572</td>\n      <td>-8.059553</td>\n      <td>Hotel</td>\n    </tr>\n    <tr>\n      <th>98</th>\n      <td>Sidi Youssef Ben Ali</td>\n      <td>31.609005</td>\n      <td>-7.967901</td>\n      <td>Riad Syba</td>\n      <td>31.608942</td>\n      <td>-7.965713</td>\n      <td>Hotel Pool</td>\n    </tr>\n    <tr>\n      <th>99</th>\n      <td>Sidi Youssef Ben Ali</td>\n      <td>31.609005</td>\n      <td>-7.967901</td>\n      <td>Argan Xtreme Sports</td>\n      <td>31.607360</td>\n      <td>-7.969169</td>\n      <td>Bike Rental / Bike Share</td>\n    </tr>\n    <tr>\n      <th>100</th>\n      <td>Sidi Youssef Ben Ali</td>\n      <td>31.609005</td>\n      <td>-7.967901</td>\n      <td>Kafedaki</td>\n      <td>31.611144</td>\n      <td>-7.966014</td>\n      <td>Restaurant</td>\n    </tr>\n    <tr>\n      <th>101</th>\n      <td>Sidi Youssef Ben Ali</td>\n      <td>31.609005</td>\n      <td>-7.967901</td>\n      <td>cafe elaahd aljadid</td>\n      <td>31.607792</td>\n      <td>-7.972817</td>\n      <td>Café</td>\n    </tr>\n  </tbody>\n</table>\n</div>"
     },
     "metadata": {},
     "execution_count": 8
    }
   ],
   "source": [
    "marrakech_venues = getNearbyVenues(names=marrakech_data['Neighborhood'],\n",
    "                                   latitudes=marrakech_data['Latitude'],\n",
    "                                   longitudes=marrakech_data['Longitude']\n",
    "                                  )\n",
    "marrakech_venues                                  "
   ]
  },
  {
   "source": [
    "## Creating a Data-Frame of Restaurants venues only"
   ],
   "cell_type": "markdown",
   "metadata": {}
  },
  {
   "cell_type": "code",
   "execution_count": 9,
   "metadata": {},
   "outputs": [
    {
     "output_type": "execute_result",
     "data": {
      "text/plain": [
       "                           Frequency\n",
       "Moroccan Restaurant               13\n",
       "French Restaurant                  6\n",
       "Restaurant                         3\n",
       "Italian Restaurant                 3\n",
       "Seafood Restaurant                 2\n",
       "African Restaurant                 1\n",
       "Thai Restaurant                    1\n",
       "Middle Eastern Restaurant          1\n",
       "Spanish Restaurant                 1\n",
       "Asian Restaurant                   1\n",
       "Halal Restaurant                   1"
      ],
      "text/html": "<div>\n<style scoped>\n    .dataframe tbody tr th:only-of-type {\n        vertical-align: middle;\n    }\n\n    .dataframe tbody tr th {\n        vertical-align: top;\n    }\n\n    .dataframe thead th {\n        text-align: right;\n    }\n</style>\n<table border=\"1\" class=\"dataframe\">\n  <thead>\n    <tr style=\"text-align: right;\">\n      <th></th>\n      <th>Frequency</th>\n    </tr>\n  </thead>\n  <tbody>\n    <tr>\n      <th>Moroccan Restaurant</th>\n      <td>13</td>\n    </tr>\n    <tr>\n      <th>French Restaurant</th>\n      <td>6</td>\n    </tr>\n    <tr>\n      <th>Restaurant</th>\n      <td>3</td>\n    </tr>\n    <tr>\n      <th>Italian Restaurant</th>\n      <td>3</td>\n    </tr>\n    <tr>\n      <th>Seafood Restaurant</th>\n      <td>2</td>\n    </tr>\n    <tr>\n      <th>African Restaurant</th>\n      <td>1</td>\n    </tr>\n    <tr>\n      <th>Thai Restaurant</th>\n      <td>1</td>\n    </tr>\n    <tr>\n      <th>Middle Eastern Restaurant</th>\n      <td>1</td>\n    </tr>\n    <tr>\n      <th>Spanish Restaurant</th>\n      <td>1</td>\n    </tr>\n    <tr>\n      <th>Asian Restaurant</th>\n      <td>1</td>\n    </tr>\n    <tr>\n      <th>Halal Restaurant</th>\n      <td>1</td>\n    </tr>\n  </tbody>\n</table>\n</div>"
     },
     "metadata": {},
     "execution_count": 9
    }
   ],
   "source": [
    "marrakech_restaurant_venues = marrakech_venues[marrakech_venues['Venue Category'].str.contains('Restaurant')].reset_index(drop=True)\n",
    "marrakech_restaurant_venues.index = np.arange(1, len(marrakech_restaurant_venues )+1)\n",
    "\n",
    "category_ranking = marrakech_restaurant_venues['Venue Category'].value_counts().to_frame(name='Frequency')\n",
    "\n",
    "category_ranking"
   ]
  },
  {
   "cell_type": "code",
   "execution_count": 10,
   "metadata": {},
   "outputs": [
    {
     "output_type": "stream",
     "name": "stdout",
     "text": [
      "There are 11 distinct restaurant types in Marrakech.\n"
     ]
    }
   ],
   "source": [
    "print('There are {} distinct restaurant types in Marrakech.'.format(len(marrakech_restaurant_venues['Venue Category'].unique())))"
   ]
  },
  {
   "cell_type": "code",
   "execution_count": 11,
   "metadata": {},
   "outputs": [
    {
     "output_type": "display_data",
     "data": {
      "text/plain": "<Figure size 432x288 with 1 Axes>",
      "image/svg+xml": "<?xml version=\"1.0\" encoding=\"utf-8\" standalone=\"no\"?>\r\n<!DOCTYPE svg PUBLIC \"-//W3C//DTD SVG 1.1//EN\"\r\n  \"http://www.w3.org/Graphics/SVG/1.1/DTD/svg11.dtd\">\r\n<svg height=\"375.033634pt\" version=\"1.1\" viewBox=\"0 0 443.952852 375.033634\" width=\"443.952852pt\" xmlns=\"http://www.w3.org/2000/svg\" xmlns:xlink=\"http://www.w3.org/1999/xlink\">\r\n <metadata>\r\n  <rdf:RDF xmlns:cc=\"http://creativecommons.org/ns#\" xmlns:dc=\"http://purl.org/dc/elements/1.1/\" xmlns:rdf=\"http://www.w3.org/1999/02/22-rdf-syntax-ns#\">\r\n   <cc:Work>\r\n    <dc:type rdf:resource=\"http://purl.org/dc/dcmitype/StillImage\"/>\r\n    <dc:date>2021-07-12T12:36:50.210167</dc:date>\r\n    <dc:format>image/svg+xml</dc:format>\r\n    <dc:creator>\r\n     <cc:Agent>\r\n      <dc:title>Matplotlib v3.4.2, https://matplotlib.org/</dc:title>\r\n     </cc:Agent>\r\n    </dc:creator>\r\n   </cc:Work>\r\n  </rdf:RDF>\r\n </metadata>\r\n <defs>\r\n  <style type=\"text/css\">*{stroke-linecap:butt;stroke-linejoin:round;}</style>\r\n </defs>\r\n <g id=\"figure_1\">\r\n  <g id=\"patch_1\">\r\n   <path d=\"M 0 375.033634 \r\nL 443.952852 375.033634 \r\nL 443.952852 0 \r\nL 0 0 \r\nz\r\n\" style=\"fill:none;\"/>\r\n  </g>\r\n  <g id=\"axes_1\">\r\n   <g id=\"patch_2\">\r\n    <path d=\"M 73.874727 242.037656 \r\nL 408.674727 242.037656 \r\nL 408.674727 24.597656 \r\nL 73.874727 24.597656 \r\nz\r\n\" style=\"fill:#ffffff;\"/>\r\n   </g>\r\n   <g id=\"patch_3\">\r\n    <path clip-path=\"url(#padaa6d3b9a)\" d=\"M 76.918363 242.037656 \r\nL 101.267454 242.037656 \r\nL 101.267454 34.951942 \r\nL 76.918363 34.951942 \r\nz\r\n\" style=\"fill:#ea96a3;\"/>\r\n   </g>\r\n   <g id=\"patch_4\">\r\n    <path clip-path=\"url(#padaa6d3b9a)\" d=\"M 107.354727 242.037656 \r\nL 131.703818 242.037656 \r\nL 131.703818 146.459634 \r\nL 107.354727 146.459634 \r\nz\r\n\" style=\"fill:#dc924e;\"/>\r\n   </g>\r\n   <g id=\"patch_5\">\r\n    <path clip-path=\"url(#padaa6d3b9a)\" d=\"M 137.791091 242.037656 \r\nL 162.140182 242.037656 \r\nL 162.140182 194.248645 \r\nL 137.791091 194.248645 \r\nz\r\n\" style=\"fill:#b39d48;\"/>\r\n   </g>\r\n   <g id=\"patch_6\">\r\n    <path clip-path=\"url(#padaa6d3b9a)\" d=\"M 168.227454 242.037656 \r\nL 192.576545 242.037656 \r\nL 192.576545 194.248645 \r\nL 168.227454 194.248645 \r\nz\r\n\" style=\"fill:#8ea546;\"/>\r\n   </g>\r\n   <g id=\"patch_7\">\r\n    <path clip-path=\"url(#padaa6d3b9a)\" d=\"M 198.663818 242.037656 \r\nL 223.012909 242.037656 \r\nL 223.012909 210.178316 \r\nL 198.663818 210.178316 \r\nz\r\n\" style=\"fill:#48b067;\"/>\r\n   </g>\r\n   <g id=\"patch_8\">\r\n    <path clip-path=\"url(#padaa6d3b9a)\" d=\"M 229.100182 242.037656 \r\nL 253.449273 242.037656 \r\nL 253.449273 226.107986 \r\nL 229.100182 226.107986 \r\nz\r\n\" style=\"fill:#4aac98;\"/>\r\n   </g>\r\n   <g id=\"patch_9\">\r\n    <path clip-path=\"url(#padaa6d3b9a)\" d=\"M 259.536545 242.037656 \r\nL 283.885636 242.037656 \r\nL 283.885636 226.107986 \r\nL 259.536545 226.107986 \r\nz\r\n\" style=\"fill:#4dabb0;\"/>\r\n   </g>\r\n   <g id=\"patch_10\">\r\n    <path clip-path=\"url(#padaa6d3b9a)\" d=\"M 289.972909 242.037656 \r\nL 314.322 242.037656 \r\nL 314.322 226.107986 \r\nL 289.972909 226.107986 \r\nz\r\n\" style=\"fill:#54acd3;\"/>\r\n   </g>\r\n   <g id=\"patch_11\">\r\n    <path clip-path=\"url(#padaa6d3b9a)\" d=\"M 320.409273 242.037656 \r\nL 344.758363 242.037656 \r\nL 344.758363 226.107986 \r\nL 320.409273 226.107986 \r\nz\r\n\" style=\"fill:#a9aceb;\"/>\r\n   </g>\r\n   <g id=\"patch_12\">\r\n    <path clip-path=\"url(#padaa6d3b9a)\" d=\"M 350.845636 242.037656 \r\nL 375.194727 242.037656 \r\nL 375.194727 226.107986 \r\nL 350.845636 226.107986 \r\nz\r\n\" style=\"fill:#d795e8;\"/>\r\n   </g>\r\n   <g id=\"patch_13\">\r\n    <path clip-path=\"url(#padaa6d3b9a)\" d=\"M 381.282 242.037656 \r\nL 405.631091 242.037656 \r\nL 405.631091 226.107986 \r\nL 381.282 226.107986 \r\nz\r\n\" style=\"fill:#e88fc9;\"/>\r\n   </g>\r\n   <g id=\"matplotlib.axis_1\">\r\n    <g id=\"xtick_1\">\r\n     <g id=\"line2d_1\">\r\n      <defs>\r\n       <path d=\"M 0 0 \r\nL 0 3.5 \r\n\" id=\"mf36199df9e\" style=\"stroke:#000000;stroke-width:0.8;\"/>\r\n      </defs>\r\n      <g>\r\n       <use style=\"stroke:#000000;stroke-width:0.8;\" x=\"89.092909\" xlink:href=\"#mf36199df9e\" y=\"242.037656\"/>\r\n      </g>\r\n     </g>\r\n     <g id=\"text_1\">\r\n      <!-- Moroccan Restaurant -->\r\n      <g transform=\"translate(12.572907 329.460004)rotate(-45)scale(0.1 -0.1)\">\r\n       <defs>\r\n        <path d=\"M 628 4666 \r\nL 1569 4666 \r\nL 2759 1491 \r\nL 3956 4666 \r\nL 4897 4666 \r\nL 4897 0 \r\nL 4281 0 \r\nL 4281 4097 \r\nL 3078 897 \r\nL 2444 897 \r\nL 1241 4097 \r\nL 1241 0 \r\nL 628 0 \r\nL 628 4666 \r\nz\r\n\" id=\"DejaVuSans-4d\" transform=\"scale(0.015625)\"/>\r\n        <path d=\"M 1959 3097 \r\nQ 1497 3097 1228 2736 \r\nQ 959 2375 959 1747 \r\nQ 959 1119 1226 758 \r\nQ 1494 397 1959 397 \r\nQ 2419 397 2687 759 \r\nQ 2956 1122 2956 1747 \r\nQ 2956 2369 2687 2733 \r\nQ 2419 3097 1959 3097 \r\nz\r\nM 1959 3584 \r\nQ 2709 3584 3137 3096 \r\nQ 3566 2609 3566 1747 \r\nQ 3566 888 3137 398 \r\nQ 2709 -91 1959 -91 \r\nQ 1206 -91 779 398 \r\nQ 353 888 353 1747 \r\nQ 353 2609 779 3096 \r\nQ 1206 3584 1959 3584 \r\nz\r\n\" id=\"DejaVuSans-6f\" transform=\"scale(0.015625)\"/>\r\n        <path d=\"M 2631 2963 \r\nQ 2534 3019 2420 3045 \r\nQ 2306 3072 2169 3072 \r\nQ 1681 3072 1420 2755 \r\nQ 1159 2438 1159 1844 \r\nL 1159 0 \r\nL 581 0 \r\nL 581 3500 \r\nL 1159 3500 \r\nL 1159 2956 \r\nQ 1341 3275 1631 3429 \r\nQ 1922 3584 2338 3584 \r\nQ 2397 3584 2469 3576 \r\nQ 2541 3569 2628 3553 \r\nL 2631 2963 \r\nz\r\n\" id=\"DejaVuSans-72\" transform=\"scale(0.015625)\"/>\r\n        <path d=\"M 3122 3366 \r\nL 3122 2828 \r\nQ 2878 2963 2633 3030 \r\nQ 2388 3097 2138 3097 \r\nQ 1578 3097 1268 2742 \r\nQ 959 2388 959 1747 \r\nQ 959 1106 1268 751 \r\nQ 1578 397 2138 397 \r\nQ 2388 397 2633 464 \r\nQ 2878 531 3122 666 \r\nL 3122 134 \r\nQ 2881 22 2623 -34 \r\nQ 2366 -91 2075 -91 \r\nQ 1284 -91 818 406 \r\nQ 353 903 353 1747 \r\nQ 353 2603 823 3093 \r\nQ 1294 3584 2113 3584 \r\nQ 2378 3584 2631 3529 \r\nQ 2884 3475 3122 3366 \r\nz\r\n\" id=\"DejaVuSans-63\" transform=\"scale(0.015625)\"/>\r\n        <path d=\"M 2194 1759 \r\nQ 1497 1759 1228 1600 \r\nQ 959 1441 959 1056 \r\nQ 959 750 1161 570 \r\nQ 1363 391 1709 391 \r\nQ 2188 391 2477 730 \r\nQ 2766 1069 2766 1631 \r\nL 2766 1759 \r\nL 2194 1759 \r\nz\r\nM 3341 1997 \r\nL 3341 0 \r\nL 2766 0 \r\nL 2766 531 \r\nQ 2569 213 2275 61 \r\nQ 1981 -91 1556 -91 \r\nQ 1019 -91 701 211 \r\nQ 384 513 384 1019 \r\nQ 384 1609 779 1909 \r\nQ 1175 2209 1959 2209 \r\nL 2766 2209 \r\nL 2766 2266 \r\nQ 2766 2663 2505 2880 \r\nQ 2244 3097 1772 3097 \r\nQ 1472 3097 1187 3025 \r\nQ 903 2953 641 2809 \r\nL 641 3341 \r\nQ 956 3463 1253 3523 \r\nQ 1550 3584 1831 3584 \r\nQ 2591 3584 2966 3190 \r\nQ 3341 2797 3341 1997 \r\nz\r\n\" id=\"DejaVuSans-61\" transform=\"scale(0.015625)\"/>\r\n        <path d=\"M 3513 2113 \r\nL 3513 0 \r\nL 2938 0 \r\nL 2938 2094 \r\nQ 2938 2591 2744 2837 \r\nQ 2550 3084 2163 3084 \r\nQ 1697 3084 1428 2787 \r\nQ 1159 2491 1159 1978 \r\nL 1159 0 \r\nL 581 0 \r\nL 581 3500 \r\nL 1159 3500 \r\nL 1159 2956 \r\nQ 1366 3272 1645 3428 \r\nQ 1925 3584 2291 3584 \r\nQ 2894 3584 3203 3211 \r\nQ 3513 2838 3513 2113 \r\nz\r\n\" id=\"DejaVuSans-6e\" transform=\"scale(0.015625)\"/>\r\n        <path id=\"DejaVuSans-20\" transform=\"scale(0.015625)\"/>\r\n        <path d=\"M 2841 2188 \r\nQ 3044 2119 3236 1894 \r\nQ 3428 1669 3622 1275 \r\nL 4263 0 \r\nL 3584 0 \r\nL 2988 1197 \r\nQ 2756 1666 2539 1819 \r\nQ 2322 1972 1947 1972 \r\nL 1259 1972 \r\nL 1259 0 \r\nL 628 0 \r\nL 628 4666 \r\nL 2053 4666 \r\nQ 2853 4666 3247 4331 \r\nQ 3641 3997 3641 3322 \r\nQ 3641 2881 3436 2590 \r\nQ 3231 2300 2841 2188 \r\nz\r\nM 1259 4147 \r\nL 1259 2491 \r\nL 2053 2491 \r\nQ 2509 2491 2742 2702 \r\nQ 2975 2913 2975 3322 \r\nQ 2975 3731 2742 3939 \r\nQ 2509 4147 2053 4147 \r\nL 1259 4147 \r\nz\r\n\" id=\"DejaVuSans-52\" transform=\"scale(0.015625)\"/>\r\n        <path d=\"M 3597 1894 \r\nL 3597 1613 \r\nL 953 1613 \r\nQ 991 1019 1311 708 \r\nQ 1631 397 2203 397 \r\nQ 2534 397 2845 478 \r\nQ 3156 559 3463 722 \r\nL 3463 178 \r\nQ 3153 47 2828 -22 \r\nQ 2503 -91 2169 -91 \r\nQ 1331 -91 842 396 \r\nQ 353 884 353 1716 \r\nQ 353 2575 817 3079 \r\nQ 1281 3584 2069 3584 \r\nQ 2775 3584 3186 3129 \r\nQ 3597 2675 3597 1894 \r\nz\r\nM 3022 2063 \r\nQ 3016 2534 2758 2815 \r\nQ 2500 3097 2075 3097 \r\nQ 1594 3097 1305 2825 \r\nQ 1016 2553 972 2059 \r\nL 3022 2063 \r\nz\r\n\" id=\"DejaVuSans-65\" transform=\"scale(0.015625)\"/>\r\n        <path d=\"M 2834 3397 \r\nL 2834 2853 \r\nQ 2591 2978 2328 3040 \r\nQ 2066 3103 1784 3103 \r\nQ 1356 3103 1142 2972 \r\nQ 928 2841 928 2578 \r\nQ 928 2378 1081 2264 \r\nQ 1234 2150 1697 2047 \r\nL 1894 2003 \r\nQ 2506 1872 2764 1633 \r\nQ 3022 1394 3022 966 \r\nQ 3022 478 2636 193 \r\nQ 2250 -91 1575 -91 \r\nQ 1294 -91 989 -36 \r\nQ 684 19 347 128 \r\nL 347 722 \r\nQ 666 556 975 473 \r\nQ 1284 391 1588 391 \r\nQ 1994 391 2212 530 \r\nQ 2431 669 2431 922 \r\nQ 2431 1156 2273 1281 \r\nQ 2116 1406 1581 1522 \r\nL 1381 1569 \r\nQ 847 1681 609 1914 \r\nQ 372 2147 372 2553 \r\nQ 372 3047 722 3315 \r\nQ 1072 3584 1716 3584 \r\nQ 2034 3584 2315 3537 \r\nQ 2597 3491 2834 3397 \r\nz\r\n\" id=\"DejaVuSans-73\" transform=\"scale(0.015625)\"/>\r\n        <path d=\"M 1172 4494 \r\nL 1172 3500 \r\nL 2356 3500 \r\nL 2356 3053 \r\nL 1172 3053 \r\nL 1172 1153 \r\nQ 1172 725 1289 603 \r\nQ 1406 481 1766 481 \r\nL 2356 481 \r\nL 2356 0 \r\nL 1766 0 \r\nQ 1100 0 847 248 \r\nQ 594 497 594 1153 \r\nL 594 3053 \r\nL 172 3053 \r\nL 172 3500 \r\nL 594 3500 \r\nL 594 4494 \r\nL 1172 4494 \r\nz\r\n\" id=\"DejaVuSans-74\" transform=\"scale(0.015625)\"/>\r\n        <path d=\"M 544 1381 \r\nL 544 3500 \r\nL 1119 3500 \r\nL 1119 1403 \r\nQ 1119 906 1312 657 \r\nQ 1506 409 1894 409 \r\nQ 2359 409 2629 706 \r\nQ 2900 1003 2900 1516 \r\nL 2900 3500 \r\nL 3475 3500 \r\nL 3475 0 \r\nL 2900 0 \r\nL 2900 538 \r\nQ 2691 219 2414 64 \r\nQ 2138 -91 1772 -91 \r\nQ 1169 -91 856 284 \r\nQ 544 659 544 1381 \r\nz\r\nM 1991 3584 \r\nL 1991 3584 \r\nz\r\n\" id=\"DejaVuSans-75\" transform=\"scale(0.015625)\"/>\r\n       </defs>\r\n       <use xlink:href=\"#DejaVuSans-4d\"/>\r\n       <use x=\"86.279297\" xlink:href=\"#DejaVuSans-6f\"/>\r\n       <use x=\"147.460938\" xlink:href=\"#DejaVuSans-72\"/>\r\n       <use x=\"186.324219\" xlink:href=\"#DejaVuSans-6f\"/>\r\n       <use x=\"247.505859\" xlink:href=\"#DejaVuSans-63\"/>\r\n       <use x=\"302.486328\" xlink:href=\"#DejaVuSans-63\"/>\r\n       <use x=\"357.466797\" xlink:href=\"#DejaVuSans-61\"/>\r\n       <use x=\"418.746094\" xlink:href=\"#DejaVuSans-6e\"/>\r\n       <use x=\"482.125\" xlink:href=\"#DejaVuSans-20\"/>\r\n       <use x=\"513.912109\" xlink:href=\"#DejaVuSans-52\"/>\r\n       <use x=\"578.894531\" xlink:href=\"#DejaVuSans-65\"/>\r\n       <use x=\"640.417969\" xlink:href=\"#DejaVuSans-73\"/>\r\n       <use x=\"692.517578\" xlink:href=\"#DejaVuSans-74\"/>\r\n       <use x=\"731.726562\" xlink:href=\"#DejaVuSans-61\"/>\r\n       <use x=\"793.005859\" xlink:href=\"#DejaVuSans-75\"/>\r\n       <use x=\"856.384766\" xlink:href=\"#DejaVuSans-72\"/>\r\n       <use x=\"897.498047\" xlink:href=\"#DejaVuSans-61\"/>\r\n       <use x=\"958.777344\" xlink:href=\"#DejaVuSans-6e\"/>\r\n       <use x=\"1022.15625\" xlink:href=\"#DejaVuSans-74\"/>\r\n      </g>\r\n     </g>\r\n    </g>\r\n    <g id=\"xtick_2\">\r\n     <g id=\"line2d_2\">\r\n      <g>\r\n       <use style=\"stroke:#000000;stroke-width:0.8;\" x=\"119.529273\" xlink:href=\"#mf36199df9e\" y=\"242.037656\"/>\r\n      </g>\r\n     </g>\r\n     <g id=\"text_2\">\r\n      <!-- French Restaurant -->\r\n      <g transform=\"translate(53.598194 318.87108)rotate(-45)scale(0.1 -0.1)\">\r\n       <defs>\r\n        <path d=\"M 628 4666 \r\nL 3309 4666 \r\nL 3309 4134 \r\nL 1259 4134 \r\nL 1259 2759 \r\nL 3109 2759 \r\nL 3109 2228 \r\nL 1259 2228 \r\nL 1259 0 \r\nL 628 0 \r\nL 628 4666 \r\nz\r\n\" id=\"DejaVuSans-46\" transform=\"scale(0.015625)\"/>\r\n        <path d=\"M 3513 2113 \r\nL 3513 0 \r\nL 2938 0 \r\nL 2938 2094 \r\nQ 2938 2591 2744 2837 \r\nQ 2550 3084 2163 3084 \r\nQ 1697 3084 1428 2787 \r\nQ 1159 2491 1159 1978 \r\nL 1159 0 \r\nL 581 0 \r\nL 581 4863 \r\nL 1159 4863 \r\nL 1159 2956 \r\nQ 1366 3272 1645 3428 \r\nQ 1925 3584 2291 3584 \r\nQ 2894 3584 3203 3211 \r\nQ 3513 2838 3513 2113 \r\nz\r\n\" id=\"DejaVuSans-68\" transform=\"scale(0.015625)\"/>\r\n       </defs>\r\n       <use xlink:href=\"#DejaVuSans-46\"/>\r\n       <use x=\"50.269531\" xlink:href=\"#DejaVuSans-72\"/>\r\n       <use x=\"89.132812\" xlink:href=\"#DejaVuSans-65\"/>\r\n       <use x=\"150.65625\" xlink:href=\"#DejaVuSans-6e\"/>\r\n       <use x=\"214.035156\" xlink:href=\"#DejaVuSans-63\"/>\r\n       <use x=\"269.015625\" xlink:href=\"#DejaVuSans-68\"/>\r\n       <use x=\"332.394531\" xlink:href=\"#DejaVuSans-20\"/>\r\n       <use x=\"364.181641\" xlink:href=\"#DejaVuSans-52\"/>\r\n       <use x=\"429.164062\" xlink:href=\"#DejaVuSans-65\"/>\r\n       <use x=\"490.6875\" xlink:href=\"#DejaVuSans-73\"/>\r\n       <use x=\"542.787109\" xlink:href=\"#DejaVuSans-74\"/>\r\n       <use x=\"581.996094\" xlink:href=\"#DejaVuSans-61\"/>\r\n       <use x=\"643.275391\" xlink:href=\"#DejaVuSans-75\"/>\r\n       <use x=\"706.654297\" xlink:href=\"#DejaVuSans-72\"/>\r\n       <use x=\"747.767578\" xlink:href=\"#DejaVuSans-61\"/>\r\n       <use x=\"809.046875\" xlink:href=\"#DejaVuSans-6e\"/>\r\n       <use x=\"872.425781\" xlink:href=\"#DejaVuSans-74\"/>\r\n      </g>\r\n     </g>\r\n    </g>\r\n    <g id=\"xtick_3\">\r\n     <g id=\"line2d_3\">\r\n      <g>\r\n       <use style=\"stroke:#000000;stroke-width:0.8;\" x=\"149.965636\" xlink:href=\"#mf36199df9e\" y=\"242.037656\"/>\r\n      </g>\r\n     </g>\r\n     <g id=\"text_3\">\r\n      <!-- Restaurant -->\r\n      <g transform=\"translate(109.785398 293.12024)rotate(-45)scale(0.1 -0.1)\">\r\n       <use xlink:href=\"#DejaVuSans-52\"/>\r\n       <use x=\"64.982422\" xlink:href=\"#DejaVuSans-65\"/>\r\n       <use x=\"126.505859\" xlink:href=\"#DejaVuSans-73\"/>\r\n       <use x=\"178.605469\" xlink:href=\"#DejaVuSans-74\"/>\r\n       <use x=\"217.814453\" xlink:href=\"#DejaVuSans-61\"/>\r\n       <use x=\"279.09375\" xlink:href=\"#DejaVuSans-75\"/>\r\n       <use x=\"342.472656\" xlink:href=\"#DejaVuSans-72\"/>\r\n       <use x=\"383.585938\" xlink:href=\"#DejaVuSans-61\"/>\r\n       <use x=\"444.865234\" xlink:href=\"#DejaVuSans-6e\"/>\r\n       <use x=\"508.244141\" xlink:href=\"#DejaVuSans-74\"/>\r\n      </g>\r\n     </g>\r\n    </g>\r\n    <g id=\"xtick_4\">\r\n     <g id=\"line2d_4\">\r\n      <g>\r\n       <use style=\"stroke:#000000;stroke-width:0.8;\" x=\"180.402\" xlink:href=\"#mf36199df9e\" y=\"242.037656\"/>\r\n      </g>\r\n     </g>\r\n     <g id=\"text_4\">\r\n      <!-- Italian Restaurant -->\r\n      <g transform=\"translate(116.039815 317.302187)rotate(-45)scale(0.1 -0.1)\">\r\n       <defs>\r\n        <path d=\"M 628 4666 \r\nL 1259 4666 \r\nL 1259 0 \r\nL 628 0 \r\nL 628 4666 \r\nz\r\n\" id=\"DejaVuSans-49\" transform=\"scale(0.015625)\"/>\r\n        <path d=\"M 603 4863 \r\nL 1178 4863 \r\nL 1178 0 \r\nL 603 0 \r\nL 603 4863 \r\nz\r\n\" id=\"DejaVuSans-6c\" transform=\"scale(0.015625)\"/>\r\n        <path d=\"M 603 3500 \r\nL 1178 3500 \r\nL 1178 0 \r\nL 603 0 \r\nL 603 3500 \r\nz\r\nM 603 4863 \r\nL 1178 4863 \r\nL 1178 4134 \r\nL 603 4134 \r\nL 603 4863 \r\nz\r\n\" id=\"DejaVuSans-69\" transform=\"scale(0.015625)\"/>\r\n       </defs>\r\n       <use xlink:href=\"#DejaVuSans-49\"/>\r\n       <use x=\"29.492188\" xlink:href=\"#DejaVuSans-74\"/>\r\n       <use x=\"68.701172\" xlink:href=\"#DejaVuSans-61\"/>\r\n       <use x=\"129.980469\" xlink:href=\"#DejaVuSans-6c\"/>\r\n       <use x=\"157.763672\" xlink:href=\"#DejaVuSans-69\"/>\r\n       <use x=\"185.546875\" xlink:href=\"#DejaVuSans-61\"/>\r\n       <use x=\"246.826172\" xlink:href=\"#DejaVuSans-6e\"/>\r\n       <use x=\"310.205078\" xlink:href=\"#DejaVuSans-20\"/>\r\n       <use x=\"341.992188\" xlink:href=\"#DejaVuSans-52\"/>\r\n       <use x=\"406.974609\" xlink:href=\"#DejaVuSans-65\"/>\r\n       <use x=\"468.498047\" xlink:href=\"#DejaVuSans-73\"/>\r\n       <use x=\"520.597656\" xlink:href=\"#DejaVuSans-74\"/>\r\n       <use x=\"559.806641\" xlink:href=\"#DejaVuSans-61\"/>\r\n       <use x=\"621.085938\" xlink:href=\"#DejaVuSans-75\"/>\r\n       <use x=\"684.464844\" xlink:href=\"#DejaVuSans-72\"/>\r\n       <use x=\"725.578125\" xlink:href=\"#DejaVuSans-61\"/>\r\n       <use x=\"786.857422\" xlink:href=\"#DejaVuSans-6e\"/>\r\n       <use x=\"850.236328\" xlink:href=\"#DejaVuSans-74\"/>\r\n      </g>\r\n     </g>\r\n    </g>\r\n    <g id=\"xtick_5\">\r\n     <g id=\"line2d_5\">\r\n      <g>\r\n       <use style=\"stroke:#000000;stroke-width:0.8;\" x=\"210.838363\" xlink:href=\"#mf36199df9e\" y=\"242.037656\"/>\r\n      </g>\r\n     </g>\r\n     <g id=\"text_5\">\r\n      <!-- Seafood Restaurant -->\r\n      <g transform=\"translate(139.606194 324.172171)rotate(-45)scale(0.1 -0.1)\">\r\n       <defs>\r\n        <path d=\"M 3425 4513 \r\nL 3425 3897 \r\nQ 3066 4069 2747 4153 \r\nQ 2428 4238 2131 4238 \r\nQ 1616 4238 1336 4038 \r\nQ 1056 3838 1056 3469 \r\nQ 1056 3159 1242 3001 \r\nQ 1428 2844 1947 2747 \r\nL 2328 2669 \r\nQ 3034 2534 3370 2195 \r\nQ 3706 1856 3706 1288 \r\nQ 3706 609 3251 259 \r\nQ 2797 -91 1919 -91 \r\nQ 1588 -91 1214 -16 \r\nQ 841 59 441 206 \r\nL 441 856 \r\nQ 825 641 1194 531 \r\nQ 1563 422 1919 422 \r\nQ 2459 422 2753 634 \r\nQ 3047 847 3047 1241 \r\nQ 3047 1584 2836 1778 \r\nQ 2625 1972 2144 2069 \r\nL 1759 2144 \r\nQ 1053 2284 737 2584 \r\nQ 422 2884 422 3419 \r\nQ 422 4038 858 4394 \r\nQ 1294 4750 2059 4750 \r\nQ 2388 4750 2728 4690 \r\nQ 3069 4631 3425 4513 \r\nz\r\n\" id=\"DejaVuSans-53\" transform=\"scale(0.015625)\"/>\r\n        <path d=\"M 2375 4863 \r\nL 2375 4384 \r\nL 1825 4384 \r\nQ 1516 4384 1395 4259 \r\nQ 1275 4134 1275 3809 \r\nL 1275 3500 \r\nL 2222 3500 \r\nL 2222 3053 \r\nL 1275 3053 \r\nL 1275 0 \r\nL 697 0 \r\nL 697 3053 \r\nL 147 3053 \r\nL 147 3500 \r\nL 697 3500 \r\nL 697 3744 \r\nQ 697 4328 969 4595 \r\nQ 1241 4863 1831 4863 \r\nL 2375 4863 \r\nz\r\n\" id=\"DejaVuSans-66\" transform=\"scale(0.015625)\"/>\r\n        <path d=\"M 2906 2969 \r\nL 2906 4863 \r\nL 3481 4863 \r\nL 3481 0 \r\nL 2906 0 \r\nL 2906 525 \r\nQ 2725 213 2448 61 \r\nQ 2172 -91 1784 -91 \r\nQ 1150 -91 751 415 \r\nQ 353 922 353 1747 \r\nQ 353 2572 751 3078 \r\nQ 1150 3584 1784 3584 \r\nQ 2172 3584 2448 3432 \r\nQ 2725 3281 2906 2969 \r\nz\r\nM 947 1747 \r\nQ 947 1113 1208 752 \r\nQ 1469 391 1925 391 \r\nQ 2381 391 2643 752 \r\nQ 2906 1113 2906 1747 \r\nQ 2906 2381 2643 2742 \r\nQ 2381 3103 1925 3103 \r\nQ 1469 3103 1208 2742 \r\nQ 947 2381 947 1747 \r\nz\r\n\" id=\"DejaVuSans-64\" transform=\"scale(0.015625)\"/>\r\n       </defs>\r\n       <use xlink:href=\"#DejaVuSans-53\"/>\r\n       <use x=\"63.476562\" xlink:href=\"#DejaVuSans-65\"/>\r\n       <use x=\"125\" xlink:href=\"#DejaVuSans-61\"/>\r\n       <use x=\"186.279297\" xlink:href=\"#DejaVuSans-66\"/>\r\n       <use x=\"221.484375\" xlink:href=\"#DejaVuSans-6f\"/>\r\n       <use x=\"282.666016\" xlink:href=\"#DejaVuSans-6f\"/>\r\n       <use x=\"343.847656\" xlink:href=\"#DejaVuSans-64\"/>\r\n       <use x=\"407.324219\" xlink:href=\"#DejaVuSans-20\"/>\r\n       <use x=\"439.111328\" xlink:href=\"#DejaVuSans-52\"/>\r\n       <use x=\"504.09375\" xlink:href=\"#DejaVuSans-65\"/>\r\n       <use x=\"565.617188\" xlink:href=\"#DejaVuSans-73\"/>\r\n       <use x=\"617.716797\" xlink:href=\"#DejaVuSans-74\"/>\r\n       <use x=\"656.925781\" xlink:href=\"#DejaVuSans-61\"/>\r\n       <use x=\"718.205078\" xlink:href=\"#DejaVuSans-75\"/>\r\n       <use x=\"781.583984\" xlink:href=\"#DejaVuSans-72\"/>\r\n       <use x=\"822.697266\" xlink:href=\"#DejaVuSans-61\"/>\r\n       <use x=\"883.976562\" xlink:href=\"#DejaVuSans-6e\"/>\r\n       <use x=\"947.355469\" xlink:href=\"#DejaVuSans-74\"/>\r\n      </g>\r\n     </g>\r\n    </g>\r\n    <g id=\"xtick_6\">\r\n     <g id=\"line2d_6\">\r\n      <g>\r\n       <use style=\"stroke:#000000;stroke-width:0.8;\" x=\"241.274727\" xlink:href=\"#mf36199df9e\" y=\"242.037656\"/>\r\n      </g>\r\n     </g>\r\n     <g id=\"text_6\">\r\n      <!-- African Restaurant -->\r\n      <g transform=\"translate(174.203439 320.01129)rotate(-45)scale(0.1 -0.1)\">\r\n       <defs>\r\n        <path d=\"M 2188 4044 \r\nL 1331 1722 \r\nL 3047 1722 \r\nL 2188 4044 \r\nz\r\nM 1831 4666 \r\nL 2547 4666 \r\nL 4325 0 \r\nL 3669 0 \r\nL 3244 1197 \r\nL 1141 1197 \r\nL 716 0 \r\nL 50 0 \r\nL 1831 4666 \r\nz\r\n\" id=\"DejaVuSans-41\" transform=\"scale(0.015625)\"/>\r\n       </defs>\r\n       <use xlink:href=\"#DejaVuSans-41\"/>\r\n       <use x=\"64.783203\" xlink:href=\"#DejaVuSans-66\"/>\r\n       <use x=\"99.988281\" xlink:href=\"#DejaVuSans-72\"/>\r\n       <use x=\"141.101562\" xlink:href=\"#DejaVuSans-69\"/>\r\n       <use x=\"168.884766\" xlink:href=\"#DejaVuSans-63\"/>\r\n       <use x=\"223.865234\" xlink:href=\"#DejaVuSans-61\"/>\r\n       <use x=\"285.144531\" xlink:href=\"#DejaVuSans-6e\"/>\r\n       <use x=\"348.523438\" xlink:href=\"#DejaVuSans-20\"/>\r\n       <use x=\"380.310547\" xlink:href=\"#DejaVuSans-52\"/>\r\n       <use x=\"445.292969\" xlink:href=\"#DejaVuSans-65\"/>\r\n       <use x=\"506.816406\" xlink:href=\"#DejaVuSans-73\"/>\r\n       <use x=\"558.916016\" xlink:href=\"#DejaVuSans-74\"/>\r\n       <use x=\"598.125\" xlink:href=\"#DejaVuSans-61\"/>\r\n       <use x=\"659.404297\" xlink:href=\"#DejaVuSans-75\"/>\r\n       <use x=\"722.783203\" xlink:href=\"#DejaVuSans-72\"/>\r\n       <use x=\"763.896484\" xlink:href=\"#DejaVuSans-61\"/>\r\n       <use x=\"825.175781\" xlink:href=\"#DejaVuSans-6e\"/>\r\n       <use x=\"888.554688\" xlink:href=\"#DejaVuSans-74\"/>\r\n      </g>\r\n     </g>\r\n    </g>\r\n    <g id=\"xtick_7\">\r\n     <g id=\"line2d_7\">\r\n      <g>\r\n       <use style=\"stroke:#000000;stroke-width:0.8;\" x=\"271.711091\" xlink:href=\"#mf36199df9e\" y=\"242.037656\"/>\r\n      </g>\r\n     </g>\r\n     <g id=\"text_7\">\r\n      <!-- Thai Restaurant -->\r\n      <g transform=\"translate(214.185744 310.465348)rotate(-45)scale(0.1 -0.1)\">\r\n       <defs>\r\n        <path d=\"M -19 4666 \r\nL 3928 4666 \r\nL 3928 4134 \r\nL 2272 4134 \r\nL 2272 0 \r\nL 1638 0 \r\nL 1638 4134 \r\nL -19 4134 \r\nL -19 4666 \r\nz\r\n\" id=\"DejaVuSans-54\" transform=\"scale(0.015625)\"/>\r\n       </defs>\r\n       <use xlink:href=\"#DejaVuSans-54\"/>\r\n       <use x=\"61.083984\" xlink:href=\"#DejaVuSans-68\"/>\r\n       <use x=\"124.462891\" xlink:href=\"#DejaVuSans-61\"/>\r\n       <use x=\"185.742188\" xlink:href=\"#DejaVuSans-69\"/>\r\n       <use x=\"213.525391\" xlink:href=\"#DejaVuSans-20\"/>\r\n       <use x=\"245.3125\" xlink:href=\"#DejaVuSans-52\"/>\r\n       <use x=\"310.294922\" xlink:href=\"#DejaVuSans-65\"/>\r\n       <use x=\"371.818359\" xlink:href=\"#DejaVuSans-73\"/>\r\n       <use x=\"423.917969\" xlink:href=\"#DejaVuSans-74\"/>\r\n       <use x=\"463.126953\" xlink:href=\"#DejaVuSans-61\"/>\r\n       <use x=\"524.40625\" xlink:href=\"#DejaVuSans-75\"/>\r\n       <use x=\"587.785156\" xlink:href=\"#DejaVuSans-72\"/>\r\n       <use x=\"628.898438\" xlink:href=\"#DejaVuSans-61\"/>\r\n       <use x=\"690.177734\" xlink:href=\"#DejaVuSans-6e\"/>\r\n       <use x=\"753.556641\" xlink:href=\"#DejaVuSans-74\"/>\r\n      </g>\r\n     </g>\r\n    </g>\r\n    <g id=\"xtick_8\">\r\n     <g id=\"line2d_8\">\r\n      <g>\r\n       <use style=\"stroke:#000000;stroke-width:0.8;\" x=\"302.147454\" xlink:href=\"#mf36199df9e\" y=\"242.037656\"/>\r\n      </g>\r\n     </g>\r\n     <g id=\"text_8\">\r\n      <!-- Middle Eastern Restaurant -->\r\n      <g transform=\"translate(207.241571 347.845885)rotate(-45)scale(0.1 -0.1)\">\r\n       <defs>\r\n        <path d=\"M 628 4666 \r\nL 3578 4666 \r\nL 3578 4134 \r\nL 1259 4134 \r\nL 1259 2753 \r\nL 3481 2753 \r\nL 3481 2222 \r\nL 1259 2222 \r\nL 1259 531 \r\nL 3634 531 \r\nL 3634 0 \r\nL 628 0 \r\nL 628 4666 \r\nz\r\n\" id=\"DejaVuSans-45\" transform=\"scale(0.015625)\"/>\r\n       </defs>\r\n       <use xlink:href=\"#DejaVuSans-4d\"/>\r\n       <use x=\"86.279297\" xlink:href=\"#DejaVuSans-69\"/>\r\n       <use x=\"114.0625\" xlink:href=\"#DejaVuSans-64\"/>\r\n       <use x=\"177.539062\" xlink:href=\"#DejaVuSans-64\"/>\r\n       <use x=\"241.015625\" xlink:href=\"#DejaVuSans-6c\"/>\r\n       <use x=\"268.798828\" xlink:href=\"#DejaVuSans-65\"/>\r\n       <use x=\"330.322266\" xlink:href=\"#DejaVuSans-20\"/>\r\n       <use x=\"362.109375\" xlink:href=\"#DejaVuSans-45\"/>\r\n       <use x=\"425.292969\" xlink:href=\"#DejaVuSans-61\"/>\r\n       <use x=\"486.572266\" xlink:href=\"#DejaVuSans-73\"/>\r\n       <use x=\"538.671875\" xlink:href=\"#DejaVuSans-74\"/>\r\n       <use x=\"577.880859\" xlink:href=\"#DejaVuSans-65\"/>\r\n       <use x=\"639.404297\" xlink:href=\"#DejaVuSans-72\"/>\r\n       <use x=\"678.767578\" xlink:href=\"#DejaVuSans-6e\"/>\r\n       <use x=\"742.146484\" xlink:href=\"#DejaVuSans-20\"/>\r\n       <use x=\"773.933594\" xlink:href=\"#DejaVuSans-52\"/>\r\n       <use x=\"838.916016\" xlink:href=\"#DejaVuSans-65\"/>\r\n       <use x=\"900.439453\" xlink:href=\"#DejaVuSans-73\"/>\r\n       <use x=\"952.539062\" xlink:href=\"#DejaVuSans-74\"/>\r\n       <use x=\"991.748047\" xlink:href=\"#DejaVuSans-61\"/>\r\n       <use x=\"1053.027344\" xlink:href=\"#DejaVuSans-75\"/>\r\n       <use x=\"1116.40625\" xlink:href=\"#DejaVuSans-72\"/>\r\n       <use x=\"1157.519531\" xlink:href=\"#DejaVuSans-61\"/>\r\n       <use x=\"1218.798828\" xlink:href=\"#DejaVuSans-6e\"/>\r\n       <use x=\"1282.177734\" xlink:href=\"#DejaVuSans-74\"/>\r\n      </g>\r\n     </g>\r\n    </g>\r\n    <g id=\"xtick_9\">\r\n     <g id=\"line2d_9\">\r\n      <g>\r\n       <use style=\"stroke:#000000;stroke-width:0.8;\" x=\"332.583818\" xlink:href=\"#mf36199df9e\" y=\"242.037656\"/>\r\n      </g>\r\n     </g>\r\n     <g id=\"text_9\">\r\n      <!-- Spanish Restaurant -->\r\n      <g transform=\"translate(262.234427 323.289393)rotate(-45)scale(0.1 -0.1)\">\r\n       <defs>\r\n        <path d=\"M 1159 525 \r\nL 1159 -1331 \r\nL 581 -1331 \r\nL 581 3500 \r\nL 1159 3500 \r\nL 1159 2969 \r\nQ 1341 3281 1617 3432 \r\nQ 1894 3584 2278 3584 \r\nQ 2916 3584 3314 3078 \r\nQ 3713 2572 3713 1747 \r\nQ 3713 922 3314 415 \r\nQ 2916 -91 2278 -91 \r\nQ 1894 -91 1617 61 \r\nQ 1341 213 1159 525 \r\nz\r\nM 3116 1747 \r\nQ 3116 2381 2855 2742 \r\nQ 2594 3103 2138 3103 \r\nQ 1681 3103 1420 2742 \r\nQ 1159 2381 1159 1747 \r\nQ 1159 1113 1420 752 \r\nQ 1681 391 2138 391 \r\nQ 2594 391 2855 752 \r\nQ 3116 1113 3116 1747 \r\nz\r\n\" id=\"DejaVuSans-70\" transform=\"scale(0.015625)\"/>\r\n       </defs>\r\n       <use xlink:href=\"#DejaVuSans-53\"/>\r\n       <use x=\"63.476562\" xlink:href=\"#DejaVuSans-70\"/>\r\n       <use x=\"126.953125\" xlink:href=\"#DejaVuSans-61\"/>\r\n       <use x=\"188.232422\" xlink:href=\"#DejaVuSans-6e\"/>\r\n       <use x=\"251.611328\" xlink:href=\"#DejaVuSans-69\"/>\r\n       <use x=\"279.394531\" xlink:href=\"#DejaVuSans-73\"/>\r\n       <use x=\"331.494141\" xlink:href=\"#DejaVuSans-68\"/>\r\n       <use x=\"394.873047\" xlink:href=\"#DejaVuSans-20\"/>\r\n       <use x=\"426.660156\" xlink:href=\"#DejaVuSans-52\"/>\r\n       <use x=\"491.642578\" xlink:href=\"#DejaVuSans-65\"/>\r\n       <use x=\"553.166016\" xlink:href=\"#DejaVuSans-73\"/>\r\n       <use x=\"605.265625\" xlink:href=\"#DejaVuSans-74\"/>\r\n       <use x=\"644.474609\" xlink:href=\"#DejaVuSans-61\"/>\r\n       <use x=\"705.753906\" xlink:href=\"#DejaVuSans-75\"/>\r\n       <use x=\"769.132812\" xlink:href=\"#DejaVuSans-72\"/>\r\n       <use x=\"810.246094\" xlink:href=\"#DejaVuSans-61\"/>\r\n       <use x=\"871.525391\" xlink:href=\"#DejaVuSans-6e\"/>\r\n       <use x=\"934.904297\" xlink:href=\"#DejaVuSans-74\"/>\r\n      </g>\r\n     </g>\r\n    </g>\r\n    <g id=\"xtick_10\">\r\n     <g id=\"line2d_10\">\r\n      <g>\r\n       <use style=\"stroke:#000000;stroke-width:0.8;\" x=\"363.020182\" xlink:href=\"#mf36199df9e\" y=\"242.037656\"/>\r\n      </g>\r\n     </g>\r\n     <g id=\"text_10\">\r\n      <!-- Asian Restaurant -->\r\n      <g transform=\"translate(301.293074 314.667109)rotate(-45)scale(0.1 -0.1)\">\r\n       <use xlink:href=\"#DejaVuSans-41\"/>\r\n       <use x=\"68.408203\" xlink:href=\"#DejaVuSans-73\"/>\r\n       <use x=\"120.507812\" xlink:href=\"#DejaVuSans-69\"/>\r\n       <use x=\"148.291016\" xlink:href=\"#DejaVuSans-61\"/>\r\n       <use x=\"209.570312\" xlink:href=\"#DejaVuSans-6e\"/>\r\n       <use x=\"272.949219\" xlink:href=\"#DejaVuSans-20\"/>\r\n       <use x=\"304.736328\" xlink:href=\"#DejaVuSans-52\"/>\r\n       <use x=\"369.71875\" xlink:href=\"#DejaVuSans-65\"/>\r\n       <use x=\"431.242188\" xlink:href=\"#DejaVuSans-73\"/>\r\n       <use x=\"483.341797\" xlink:href=\"#DejaVuSans-74\"/>\r\n       <use x=\"522.550781\" xlink:href=\"#DejaVuSans-61\"/>\r\n       <use x=\"583.830078\" xlink:href=\"#DejaVuSans-75\"/>\r\n       <use x=\"647.208984\" xlink:href=\"#DejaVuSans-72\"/>\r\n       <use x=\"688.322266\" xlink:href=\"#DejaVuSans-61\"/>\r\n       <use x=\"749.601562\" xlink:href=\"#DejaVuSans-6e\"/>\r\n       <use x=\"812.980469\" xlink:href=\"#DejaVuSans-74\"/>\r\n      </g>\r\n     </g>\r\n    </g>\r\n    <g id=\"xtick_11\">\r\n     <g id=\"line2d_11\">\r\n      <g>\r\n       <use style=\"stroke:#000000;stroke-width:0.8;\" x=\"393.456545\" xlink:href=\"#mf36199df9e\" y=\"242.037656\"/>\r\n      </g>\r\n     </g>\r\n     <g id=\"text_11\">\r\n      <!-- Halal Restaurant -->\r\n      <g transform=\"translate(333.11603 313.280517)rotate(-45)scale(0.1 -0.1)\">\r\n       <defs>\r\n        <path d=\"M 628 4666 \r\nL 1259 4666 \r\nL 1259 2753 \r\nL 3553 2753 \r\nL 3553 4666 \r\nL 4184 4666 \r\nL 4184 0 \r\nL 3553 0 \r\nL 3553 2222 \r\nL 1259 2222 \r\nL 1259 0 \r\nL 628 0 \r\nL 628 4666 \r\nz\r\n\" id=\"DejaVuSans-48\" transform=\"scale(0.015625)\"/>\r\n       </defs>\r\n       <use xlink:href=\"#DejaVuSans-48\"/>\r\n       <use x=\"75.195312\" xlink:href=\"#DejaVuSans-61\"/>\r\n       <use x=\"136.474609\" xlink:href=\"#DejaVuSans-6c\"/>\r\n       <use x=\"164.257812\" xlink:href=\"#DejaVuSans-61\"/>\r\n       <use x=\"225.537109\" xlink:href=\"#DejaVuSans-6c\"/>\r\n       <use x=\"253.320312\" xlink:href=\"#DejaVuSans-20\"/>\r\n       <use x=\"285.107422\" xlink:href=\"#DejaVuSans-52\"/>\r\n       <use x=\"350.089844\" xlink:href=\"#DejaVuSans-65\"/>\r\n       <use x=\"411.613281\" xlink:href=\"#DejaVuSans-73\"/>\r\n       <use x=\"463.712891\" xlink:href=\"#DejaVuSans-74\"/>\r\n       <use x=\"502.921875\" xlink:href=\"#DejaVuSans-61\"/>\r\n       <use x=\"564.201172\" xlink:href=\"#DejaVuSans-75\"/>\r\n       <use x=\"627.580078\" xlink:href=\"#DejaVuSans-72\"/>\r\n       <use x=\"668.693359\" xlink:href=\"#DejaVuSans-61\"/>\r\n       <use x=\"729.972656\" xlink:href=\"#DejaVuSans-6e\"/>\r\n       <use x=\"793.351562\" xlink:href=\"#DejaVuSans-74\"/>\r\n      </g>\r\n     </g>\r\n    </g>\r\n    <g id=\"text_12\">\r\n     <!-- Venue Category -->\r\n     <g transform=\"translate(181.34504 364.714103)scale(0.15 -0.15)\">\r\n      <defs>\r\n       <path d=\"M 1831 0 \r\nL 50 4666 \r\nL 709 4666 \r\nL 2188 738 \r\nL 3669 4666 \r\nL 4325 4666 \r\nL 2547 0 \r\nL 1831 0 \r\nz\r\n\" id=\"DejaVuSans-56\" transform=\"scale(0.015625)\"/>\r\n       <path d=\"M 4122 4306 \r\nL 4122 3641 \r\nQ 3803 3938 3442 4084 \r\nQ 3081 4231 2675 4231 \r\nQ 1875 4231 1450 3742 \r\nQ 1025 3253 1025 2328 \r\nQ 1025 1406 1450 917 \r\nQ 1875 428 2675 428 \r\nQ 3081 428 3442 575 \r\nQ 3803 722 4122 1019 \r\nL 4122 359 \r\nQ 3791 134 3420 21 \r\nQ 3050 -91 2638 -91 \r\nQ 1578 -91 968 557 \r\nQ 359 1206 359 2328 \r\nQ 359 3453 968 4101 \r\nQ 1578 4750 2638 4750 \r\nQ 3056 4750 3426 4639 \r\nQ 3797 4528 4122 4306 \r\nz\r\n\" id=\"DejaVuSans-43\" transform=\"scale(0.015625)\"/>\r\n       <path d=\"M 2906 1791 \r\nQ 2906 2416 2648 2759 \r\nQ 2391 3103 1925 3103 \r\nQ 1463 3103 1205 2759 \r\nQ 947 2416 947 1791 \r\nQ 947 1169 1205 825 \r\nQ 1463 481 1925 481 \r\nQ 2391 481 2648 825 \r\nQ 2906 1169 2906 1791 \r\nz\r\nM 3481 434 \r\nQ 3481 -459 3084 -895 \r\nQ 2688 -1331 1869 -1331 \r\nQ 1566 -1331 1297 -1286 \r\nQ 1028 -1241 775 -1147 \r\nL 775 -588 \r\nQ 1028 -725 1275 -790 \r\nQ 1522 -856 1778 -856 \r\nQ 2344 -856 2625 -561 \r\nQ 2906 -266 2906 331 \r\nL 2906 616 \r\nQ 2728 306 2450 153 \r\nQ 2172 0 1784 0 \r\nQ 1141 0 747 490 \r\nQ 353 981 353 1791 \r\nQ 353 2603 747 3093 \r\nQ 1141 3584 1784 3584 \r\nQ 2172 3584 2450 3431 \r\nQ 2728 3278 2906 2969 \r\nL 2906 3500 \r\nL 3481 3500 \r\nL 3481 434 \r\nz\r\n\" id=\"DejaVuSans-67\" transform=\"scale(0.015625)\"/>\r\n       <path d=\"M 2059 -325 \r\nQ 1816 -950 1584 -1140 \r\nQ 1353 -1331 966 -1331 \r\nL 506 -1331 \r\nL 506 -850 \r\nL 844 -850 \r\nQ 1081 -850 1212 -737 \r\nQ 1344 -625 1503 -206 \r\nL 1606 56 \r\nL 191 3500 \r\nL 800 3500 \r\nL 1894 763 \r\nL 2988 3500 \r\nL 3597 3500 \r\nL 2059 -325 \r\nz\r\n\" id=\"DejaVuSans-79\" transform=\"scale(0.015625)\"/>\r\n      </defs>\r\n      <use xlink:href=\"#DejaVuSans-56\"/>\r\n      <use x=\"60.658203\" xlink:href=\"#DejaVuSans-65\"/>\r\n      <use x=\"122.181641\" xlink:href=\"#DejaVuSans-6e\"/>\r\n      <use x=\"185.560547\" xlink:href=\"#DejaVuSans-75\"/>\r\n      <use x=\"248.939453\" xlink:href=\"#DejaVuSans-65\"/>\r\n      <use x=\"310.462891\" xlink:href=\"#DejaVuSans-20\"/>\r\n      <use x=\"342.25\" xlink:href=\"#DejaVuSans-43\"/>\r\n      <use x=\"412.074219\" xlink:href=\"#DejaVuSans-61\"/>\r\n      <use x=\"473.353516\" xlink:href=\"#DejaVuSans-74\"/>\r\n      <use x=\"512.5625\" xlink:href=\"#DejaVuSans-65\"/>\r\n      <use x=\"574.085938\" xlink:href=\"#DejaVuSans-67\"/>\r\n      <use x=\"637.5625\" xlink:href=\"#DejaVuSans-6f\"/>\r\n      <use x=\"698.744141\" xlink:href=\"#DejaVuSans-72\"/>\r\n      <use x=\"739.857422\" xlink:href=\"#DejaVuSans-79\"/>\r\n     </g>\r\n    </g>\r\n   </g>\r\n   <g id=\"matplotlib.axis_2\">\r\n    <g id=\"ytick_1\">\r\n     <g id=\"line2d_12\">\r\n      <defs>\r\n       <path d=\"M 0 0 \r\nL -3.5 0 \r\n\" id=\"md9e444e778\" style=\"stroke:#000000;stroke-width:0.8;\"/>\r\n      </defs>\r\n      <g>\r\n       <use style=\"stroke:#000000;stroke-width:0.8;\" x=\"73.874727\" xlink:href=\"#md9e444e778\" y=\"242.037656\"/>\r\n      </g>\r\n     </g>\r\n     <g id=\"text_13\">\r\n      <!-- 0 -->\r\n      <g transform=\"translate(60.512227 245.836875)scale(0.1 -0.1)\">\r\n       <defs>\r\n        <path d=\"M 2034 4250 \r\nQ 1547 4250 1301 3770 \r\nQ 1056 3291 1056 2328 \r\nQ 1056 1369 1301 889 \r\nQ 1547 409 2034 409 \r\nQ 2525 409 2770 889 \r\nQ 3016 1369 3016 2328 \r\nQ 3016 3291 2770 3770 \r\nQ 2525 4250 2034 4250 \r\nz\r\nM 2034 4750 \r\nQ 2819 4750 3233 4129 \r\nQ 3647 3509 3647 2328 \r\nQ 3647 1150 3233 529 \r\nQ 2819 -91 2034 -91 \r\nQ 1250 -91 836 529 \r\nQ 422 1150 422 2328 \r\nQ 422 3509 836 4129 \r\nQ 1250 4750 2034 4750 \r\nz\r\n\" id=\"DejaVuSans-30\" transform=\"scale(0.015625)\"/>\r\n       </defs>\r\n       <use xlink:href=\"#DejaVuSans-30\"/>\r\n      </g>\r\n     </g>\r\n    </g>\r\n    <g id=\"ytick_2\">\r\n     <g id=\"line2d_13\">\r\n      <g>\r\n       <use style=\"stroke:#000000;stroke-width:0.8;\" x=\"73.874727\" xlink:href=\"#md9e444e778\" y=\"210.178316\"/>\r\n      </g>\r\n     </g>\r\n     <g id=\"text_14\">\r\n      <!-- 2 -->\r\n      <g transform=\"translate(60.512227 213.977534)scale(0.1 -0.1)\">\r\n       <defs>\r\n        <path d=\"M 1228 531 \r\nL 3431 531 \r\nL 3431 0 \r\nL 469 0 \r\nL 469 531 \r\nQ 828 903 1448 1529 \r\nQ 2069 2156 2228 2338 \r\nQ 2531 2678 2651 2914 \r\nQ 2772 3150 2772 3378 \r\nQ 2772 3750 2511 3984 \r\nQ 2250 4219 1831 4219 \r\nQ 1534 4219 1204 4116 \r\nQ 875 4013 500 3803 \r\nL 500 4441 \r\nQ 881 4594 1212 4672 \r\nQ 1544 4750 1819 4750 \r\nQ 2544 4750 2975 4387 \r\nQ 3406 4025 3406 3419 \r\nQ 3406 3131 3298 2873 \r\nQ 3191 2616 2906 2266 \r\nQ 2828 2175 2409 1742 \r\nQ 1991 1309 1228 531 \r\nz\r\n\" id=\"DejaVuSans-32\" transform=\"scale(0.015625)\"/>\r\n       </defs>\r\n       <use xlink:href=\"#DejaVuSans-32\"/>\r\n      </g>\r\n     </g>\r\n    </g>\r\n    <g id=\"ytick_3\">\r\n     <g id=\"line2d_14\">\r\n      <g>\r\n       <use style=\"stroke:#000000;stroke-width:0.8;\" x=\"73.874727\" xlink:href=\"#md9e444e778\" y=\"178.318975\"/>\r\n      </g>\r\n     </g>\r\n     <g id=\"text_15\">\r\n      <!-- 4 -->\r\n      <g transform=\"translate(60.512227 182.118194)scale(0.1 -0.1)\">\r\n       <defs>\r\n        <path d=\"M 2419 4116 \r\nL 825 1625 \r\nL 2419 1625 \r\nL 2419 4116 \r\nz\r\nM 2253 4666 \r\nL 3047 4666 \r\nL 3047 1625 \r\nL 3713 1625 \r\nL 3713 1100 \r\nL 3047 1100 \r\nL 3047 0 \r\nL 2419 0 \r\nL 2419 1100 \r\nL 313 1100 \r\nL 313 1709 \r\nL 2253 4666 \r\nz\r\n\" id=\"DejaVuSans-34\" transform=\"scale(0.015625)\"/>\r\n       </defs>\r\n       <use xlink:href=\"#DejaVuSans-34\"/>\r\n      </g>\r\n     </g>\r\n    </g>\r\n    <g id=\"ytick_4\">\r\n     <g id=\"line2d_15\">\r\n      <g>\r\n       <use style=\"stroke:#000000;stroke-width:0.8;\" x=\"73.874727\" xlink:href=\"#md9e444e778\" y=\"146.459634\"/>\r\n      </g>\r\n     </g>\r\n     <g id=\"text_16\">\r\n      <!-- 6 -->\r\n      <g transform=\"translate(60.512227 150.258853)scale(0.1 -0.1)\">\r\n       <defs>\r\n        <path d=\"M 2113 2584 \r\nQ 1688 2584 1439 2293 \r\nQ 1191 2003 1191 1497 \r\nQ 1191 994 1439 701 \r\nQ 1688 409 2113 409 \r\nQ 2538 409 2786 701 \r\nQ 3034 994 3034 1497 \r\nQ 3034 2003 2786 2293 \r\nQ 2538 2584 2113 2584 \r\nz\r\nM 3366 4563 \r\nL 3366 3988 \r\nQ 3128 4100 2886 4159 \r\nQ 2644 4219 2406 4219 \r\nQ 1781 4219 1451 3797 \r\nQ 1122 3375 1075 2522 \r\nQ 1259 2794 1537 2939 \r\nQ 1816 3084 2150 3084 \r\nQ 2853 3084 3261 2657 \r\nQ 3669 2231 3669 1497 \r\nQ 3669 778 3244 343 \r\nQ 2819 -91 2113 -91 \r\nQ 1303 -91 875 529 \r\nQ 447 1150 447 2328 \r\nQ 447 3434 972 4092 \r\nQ 1497 4750 2381 4750 \r\nQ 2619 4750 2861 4703 \r\nQ 3103 4656 3366 4563 \r\nz\r\n\" id=\"DejaVuSans-36\" transform=\"scale(0.015625)\"/>\r\n       </defs>\r\n       <use xlink:href=\"#DejaVuSans-36\"/>\r\n      </g>\r\n     </g>\r\n    </g>\r\n    <g id=\"ytick_5\">\r\n     <g id=\"line2d_16\">\r\n      <g>\r\n       <use style=\"stroke:#000000;stroke-width:0.8;\" x=\"73.874727\" xlink:href=\"#md9e444e778\" y=\"114.600294\"/>\r\n      </g>\r\n     </g>\r\n     <g id=\"text_17\">\r\n      <!-- 8 -->\r\n      <g transform=\"translate(60.512227 118.399512)scale(0.1 -0.1)\">\r\n       <defs>\r\n        <path d=\"M 2034 2216 \r\nQ 1584 2216 1326 1975 \r\nQ 1069 1734 1069 1313 \r\nQ 1069 891 1326 650 \r\nQ 1584 409 2034 409 \r\nQ 2484 409 2743 651 \r\nQ 3003 894 3003 1313 \r\nQ 3003 1734 2745 1975 \r\nQ 2488 2216 2034 2216 \r\nz\r\nM 1403 2484 \r\nQ 997 2584 770 2862 \r\nQ 544 3141 544 3541 \r\nQ 544 4100 942 4425 \r\nQ 1341 4750 2034 4750 \r\nQ 2731 4750 3128 4425 \r\nQ 3525 4100 3525 3541 \r\nQ 3525 3141 3298 2862 \r\nQ 3072 2584 2669 2484 \r\nQ 3125 2378 3379 2068 \r\nQ 3634 1759 3634 1313 \r\nQ 3634 634 3220 271 \r\nQ 2806 -91 2034 -91 \r\nQ 1263 -91 848 271 \r\nQ 434 634 434 1313 \r\nQ 434 1759 690 2068 \r\nQ 947 2378 1403 2484 \r\nz\r\nM 1172 3481 \r\nQ 1172 3119 1398 2916 \r\nQ 1625 2713 2034 2713 \r\nQ 2441 2713 2670 2916 \r\nQ 2900 3119 2900 3481 \r\nQ 2900 3844 2670 4047 \r\nQ 2441 4250 2034 4250 \r\nQ 1625 4250 1398 4047 \r\nQ 1172 3844 1172 3481 \r\nz\r\n\" id=\"DejaVuSans-38\" transform=\"scale(0.015625)\"/>\r\n       </defs>\r\n       <use xlink:href=\"#DejaVuSans-38\"/>\r\n      </g>\r\n     </g>\r\n    </g>\r\n    <g id=\"ytick_6\">\r\n     <g id=\"line2d_17\">\r\n      <g>\r\n       <use style=\"stroke:#000000;stroke-width:0.8;\" x=\"73.874727\" xlink:href=\"#md9e444e778\" y=\"82.740953\"/>\r\n      </g>\r\n     </g>\r\n     <g id=\"text_18\">\r\n      <!-- 10 -->\r\n      <g transform=\"translate(54.149727 86.540172)scale(0.1 -0.1)\">\r\n       <defs>\r\n        <path d=\"M 794 531 \r\nL 1825 531 \r\nL 1825 4091 \r\nL 703 3866 \r\nL 703 4441 \r\nL 1819 4666 \r\nL 2450 4666 \r\nL 2450 531 \r\nL 3481 531 \r\nL 3481 0 \r\nL 794 0 \r\nL 794 531 \r\nz\r\n\" id=\"DejaVuSans-31\" transform=\"scale(0.015625)\"/>\r\n       </defs>\r\n       <use xlink:href=\"#DejaVuSans-31\"/>\r\n       <use x=\"63.623047\" xlink:href=\"#DejaVuSans-30\"/>\r\n      </g>\r\n     </g>\r\n    </g>\r\n    <g id=\"ytick_7\">\r\n     <g id=\"line2d_18\">\r\n      <g>\r\n       <use style=\"stroke:#000000;stroke-width:0.8;\" x=\"73.874727\" xlink:href=\"#md9e444e778\" y=\"50.881612\"/>\r\n      </g>\r\n     </g>\r\n     <g id=\"text_19\">\r\n      <!-- 12 -->\r\n      <g transform=\"translate(54.149727 54.680831)scale(0.1 -0.1)\">\r\n       <use xlink:href=\"#DejaVuSans-31\"/>\r\n       <use x=\"63.623047\" xlink:href=\"#DejaVuSans-32\"/>\r\n      </g>\r\n     </g>\r\n    </g>\r\n    <g id=\"text_20\">\r\n     <!-- Frequency -->\r\n     <g transform=\"translate(47.030196 172.062188)rotate(-90)scale(0.15 -0.15)\">\r\n      <defs>\r\n       <path d=\"M 947 1747 \r\nQ 947 1113 1208 752 \r\nQ 1469 391 1925 391 \r\nQ 2381 391 2643 752 \r\nQ 2906 1113 2906 1747 \r\nQ 2906 2381 2643 2742 \r\nQ 2381 3103 1925 3103 \r\nQ 1469 3103 1208 2742 \r\nQ 947 2381 947 1747 \r\nz\r\nM 2906 525 \r\nQ 2725 213 2448 61 \r\nQ 2172 -91 1784 -91 \r\nQ 1150 -91 751 415 \r\nQ 353 922 353 1747 \r\nQ 353 2572 751 3078 \r\nQ 1150 3584 1784 3584 \r\nQ 2172 3584 2448 3432 \r\nQ 2725 3281 2906 2969 \r\nL 2906 3500 \r\nL 3481 3500 \r\nL 3481 -1331 \r\nL 2906 -1331 \r\nL 2906 525 \r\nz\r\n\" id=\"DejaVuSans-71\" transform=\"scale(0.015625)\"/>\r\n      </defs>\r\n      <use xlink:href=\"#DejaVuSans-46\"/>\r\n      <use x=\"50.269531\" xlink:href=\"#DejaVuSans-72\"/>\r\n      <use x=\"89.132812\" xlink:href=\"#DejaVuSans-65\"/>\r\n      <use x=\"150.65625\" xlink:href=\"#DejaVuSans-71\"/>\r\n      <use x=\"214.132812\" xlink:href=\"#DejaVuSans-75\"/>\r\n      <use x=\"277.511719\" xlink:href=\"#DejaVuSans-65\"/>\r\n      <use x=\"339.035156\" xlink:href=\"#DejaVuSans-6e\"/>\r\n      <use x=\"402.414062\" xlink:href=\"#DejaVuSans-63\"/>\r\n      <use x=\"457.394531\" xlink:href=\"#DejaVuSans-79\"/>\r\n     </g>\r\n    </g>\r\n   </g>\r\n   <g id=\"line2d_19\">\r\n    <path clip-path=\"url(#padaa6d3b9a)\" style=\"fill:none;stroke:#424242;stroke-linecap:square;stroke-width:2.7;\"/>\r\n   </g>\r\n   <g id=\"line2d_20\">\r\n    <path clip-path=\"url(#padaa6d3b9a)\" style=\"fill:none;stroke:#424242;stroke-linecap:square;stroke-width:2.7;\"/>\r\n   </g>\r\n   <g id=\"line2d_21\">\r\n    <path clip-path=\"url(#padaa6d3b9a)\" style=\"fill:none;stroke:#424242;stroke-linecap:square;stroke-width:2.7;\"/>\r\n   </g>\r\n   <g id=\"line2d_22\">\r\n    <path clip-path=\"url(#padaa6d3b9a)\" style=\"fill:none;stroke:#424242;stroke-linecap:square;stroke-width:2.7;\"/>\r\n   </g>\r\n   <g id=\"line2d_23\">\r\n    <path clip-path=\"url(#padaa6d3b9a)\" style=\"fill:none;stroke:#424242;stroke-linecap:square;stroke-width:2.7;\"/>\r\n   </g>\r\n   <g id=\"line2d_24\">\r\n    <path clip-path=\"url(#padaa6d3b9a)\" style=\"fill:none;stroke:#424242;stroke-linecap:square;stroke-width:2.7;\"/>\r\n   </g>\r\n   <g id=\"line2d_25\">\r\n    <path clip-path=\"url(#padaa6d3b9a)\" style=\"fill:none;stroke:#424242;stroke-linecap:square;stroke-width:2.7;\"/>\r\n   </g>\r\n   <g id=\"line2d_26\">\r\n    <path clip-path=\"url(#padaa6d3b9a)\" style=\"fill:none;stroke:#424242;stroke-linecap:square;stroke-width:2.7;\"/>\r\n   </g>\r\n   <g id=\"line2d_27\">\r\n    <path clip-path=\"url(#padaa6d3b9a)\" style=\"fill:none;stroke:#424242;stroke-linecap:square;stroke-width:2.7;\"/>\r\n   </g>\r\n   <g id=\"line2d_28\">\r\n    <path clip-path=\"url(#padaa6d3b9a)\" style=\"fill:none;stroke:#424242;stroke-linecap:square;stroke-width:2.7;\"/>\r\n   </g>\r\n   <g id=\"line2d_29\">\r\n    <path clip-path=\"url(#padaa6d3b9a)\" style=\"fill:none;stroke:#424242;stroke-linecap:square;stroke-width:2.7;\"/>\r\n   </g>\r\n   <g id=\"patch_14\">\r\n    <path d=\"M 73.874727 242.037656 \r\nL 73.874727 24.597656 \r\n\" style=\"fill:none;stroke:#000000;stroke-linecap:square;stroke-linejoin:miter;stroke-width:0.8;\"/>\r\n   </g>\r\n   <g id=\"patch_15\">\r\n    <path d=\"M 408.674727 242.037656 \r\nL 408.674727 24.597656 \r\n\" style=\"fill:none;stroke:#000000;stroke-linecap:square;stroke-linejoin:miter;stroke-width:0.8;\"/>\r\n   </g>\r\n   <g id=\"patch_16\">\r\n    <path d=\"M 73.874727 242.037656 \r\nL 408.674727 242.037656 \r\n\" style=\"fill:none;stroke:#000000;stroke-linecap:square;stroke-linejoin:miter;stroke-width:0.8;\"/>\r\n   </g>\r\n   <g id=\"patch_17\">\r\n    <path d=\"M 73.874727 24.597656 \r\nL 408.674727 24.597656 \r\n\" style=\"fill:none;stroke:#000000;stroke-linecap:square;stroke-linejoin:miter;stroke-width:0.8;\"/>\r\n   </g>\r\n   <g id=\"text_21\">\r\n    <!-- Ranking of the 10 types of restaurants in Marrakech -->\r\n    <g transform=\"translate(45.796602 18.597656)scale(0.15 -0.15)\">\r\n     <defs>\r\n      <path d=\"M 581 4863 \r\nL 1159 4863 \r\nL 1159 1991 \r\nL 2875 3500 \r\nL 3609 3500 \r\nL 1753 1863 \r\nL 3688 0 \r\nL 2938 0 \r\nL 1159 1709 \r\nL 1159 0 \r\nL 581 0 \r\nL 581 4863 \r\nz\r\n\" id=\"DejaVuSans-6b\" transform=\"scale(0.015625)\"/>\r\n     </defs>\r\n     <use xlink:href=\"#DejaVuSans-52\"/>\r\n     <use x=\"67.232422\" xlink:href=\"#DejaVuSans-61\"/>\r\n     <use x=\"128.511719\" xlink:href=\"#DejaVuSans-6e\"/>\r\n     <use x=\"191.890625\" xlink:href=\"#DejaVuSans-6b\"/>\r\n     <use x=\"249.800781\" xlink:href=\"#DejaVuSans-69\"/>\r\n     <use x=\"277.583984\" xlink:href=\"#DejaVuSans-6e\"/>\r\n     <use x=\"340.962891\" xlink:href=\"#DejaVuSans-67\"/>\r\n     <use x=\"404.439453\" xlink:href=\"#DejaVuSans-20\"/>\r\n     <use x=\"436.226562\" xlink:href=\"#DejaVuSans-6f\"/>\r\n     <use x=\"497.408203\" xlink:href=\"#DejaVuSans-66\"/>\r\n     <use x=\"532.613281\" xlink:href=\"#DejaVuSans-20\"/>\r\n     <use x=\"564.400391\" xlink:href=\"#DejaVuSans-74\"/>\r\n     <use x=\"603.609375\" xlink:href=\"#DejaVuSans-68\"/>\r\n     <use x=\"666.988281\" xlink:href=\"#DejaVuSans-65\"/>\r\n     <use x=\"728.511719\" xlink:href=\"#DejaVuSans-20\"/>\r\n     <use x=\"760.298828\" xlink:href=\"#DejaVuSans-31\"/>\r\n     <use x=\"823.921875\" xlink:href=\"#DejaVuSans-30\"/>\r\n     <use x=\"887.544922\" xlink:href=\"#DejaVuSans-20\"/>\r\n     <use x=\"919.332031\" xlink:href=\"#DejaVuSans-74\"/>\r\n     <use x=\"958.541016\" xlink:href=\"#DejaVuSans-79\"/>\r\n     <use x=\"1017.720703\" xlink:href=\"#DejaVuSans-70\"/>\r\n     <use x=\"1081.197266\" xlink:href=\"#DejaVuSans-65\"/>\r\n     <use x=\"1142.720703\" xlink:href=\"#DejaVuSans-73\"/>\r\n     <use x=\"1194.820312\" xlink:href=\"#DejaVuSans-20\"/>\r\n     <use x=\"1226.607422\" xlink:href=\"#DejaVuSans-6f\"/>\r\n     <use x=\"1287.789062\" xlink:href=\"#DejaVuSans-66\"/>\r\n     <use x=\"1322.994141\" xlink:href=\"#DejaVuSans-20\"/>\r\n     <use x=\"1354.78125\" xlink:href=\"#DejaVuSans-72\"/>\r\n     <use x=\"1393.644531\" xlink:href=\"#DejaVuSans-65\"/>\r\n     <use x=\"1455.167969\" xlink:href=\"#DejaVuSans-73\"/>\r\n     <use x=\"1507.267578\" xlink:href=\"#DejaVuSans-74\"/>\r\n     <use x=\"1546.476562\" xlink:href=\"#DejaVuSans-61\"/>\r\n     <use x=\"1607.755859\" xlink:href=\"#DejaVuSans-75\"/>\r\n     <use x=\"1671.134766\" xlink:href=\"#DejaVuSans-72\"/>\r\n     <use x=\"1712.248047\" xlink:href=\"#DejaVuSans-61\"/>\r\n     <use x=\"1773.527344\" xlink:href=\"#DejaVuSans-6e\"/>\r\n     <use x=\"1836.90625\" xlink:href=\"#DejaVuSans-74\"/>\r\n     <use x=\"1876.115234\" xlink:href=\"#DejaVuSans-73\"/>\r\n     <use x=\"1928.214844\" xlink:href=\"#DejaVuSans-20\"/>\r\n     <use x=\"1960.001953\" xlink:href=\"#DejaVuSans-69\"/>\r\n     <use x=\"1987.785156\" xlink:href=\"#DejaVuSans-6e\"/>\r\n     <use x=\"2051.164062\" xlink:href=\"#DejaVuSans-20\"/>\r\n     <use x=\"2082.951172\" xlink:href=\"#DejaVuSans-4d\"/>\r\n     <use x=\"2169.230469\" xlink:href=\"#DejaVuSans-61\"/>\r\n     <use x=\"2230.509766\" xlink:href=\"#DejaVuSans-72\"/>\r\n     <use x=\"2269.873047\" xlink:href=\"#DejaVuSans-72\"/>\r\n     <use x=\"2310.986328\" xlink:href=\"#DejaVuSans-61\"/>\r\n     <use x=\"2372.265625\" xlink:href=\"#DejaVuSans-6b\"/>\r\n     <use x=\"2426.550781\" xlink:href=\"#DejaVuSans-65\"/>\r\n     <use x=\"2488.074219\" xlink:href=\"#DejaVuSans-63\"/>\r\n     <use x=\"2543.054688\" xlink:href=\"#DejaVuSans-68\"/>\r\n    </g>\r\n   </g>\r\n  </g>\r\n </g>\r\n <defs>\r\n  <clipPath id=\"padaa6d3b9a\">\r\n   <rect height=\"217.44\" width=\"334.8\" x=\"73.874727\" y=\"24.597656\"/>\r\n  </clipPath>\r\n </defs>\r\n</svg>\r\n",
      "image/png": "[encoded data removed]"
     },
     "metadata": {
      "needs_background": "light"
     }
    },
    {
     "output_type": "display_data",
     "data": {
      "text/plain": "<Figure size 1296x504 with 0 Axes>"
     },
     "metadata": {}
    }
   ],
   "source": [
    "import seaborn as sns\n",
    "from matplotlib import pyplot as plt\n",
    "\n",
    "s=sns.barplot(x=category_ranking.index, y=\"Frequency\", data=category_ranking)\n",
    "s.set_xticklabels(s.get_xticklabels(), rotation=45, horizontalalignment='right')\n",
    "\n",
    "plt.title('Ranking of the 10 types of restaurants in Marrakech', fontsize=15)\n",
    "plt.xlabel(\"Venue Category\", fontsize=15)\n",
    "plt.ylabel (\"Frequency\", fontsize=15)\n",
    "plt.savefig(\"restaurant_venues_ranking.png\", dpi=300)\n",
    "fig = plt.figure(figsize=(18,7))\n",
    "plt.show()"
   ]
  },
  {
   "source": [
    "## Analysis of each Neighborhood"
   ],
   "cell_type": "markdown",
   "metadata": {}
  },
  {
   "cell_type": "code",
   "execution_count": 24,
   "metadata": {},
   "outputs": [
    {
     "output_type": "execute_result",
     "data": {
      "text/plain": [
       "  Neighborhood  African Restaurant  Asian Restaurant  French Restaurant  \\\n",
       "1       Guéliz                   0                 0                  1   \n",
       "2       Guéliz                   0                 0                  0   \n",
       "3       Guéliz                   0                 0                  0   \n",
       "4       Guéliz                   0                 0                  1   \n",
       "5       Guéliz                   0                 0                  1   \n",
       "\n",
       "   Halal Restaurant  Italian Restaurant  Middle Eastern Restaurant  \\\n",
       "1                 0                   0                          0   \n",
       "2                 0                   0                          0   \n",
       "3                 0                   0                          1   \n",
       "4                 0                   0                          0   \n",
       "5                 0                   0                          0   \n",
       "\n",
       "   Moroccan Restaurant  Restaurant  Seafood Restaurant  Spanish Restaurant  \\\n",
       "1                    0           0                   0                   0   \n",
       "2                    0           0                   1                   0   \n",
       "3                    0           0                   0                   0   \n",
       "4                    0           0                   0                   0   \n",
       "5                    0           0                   0                   0   \n",
       "\n",
       "   Thai Restaurant  \n",
       "1                0  \n",
       "2                0  \n",
       "3                0  \n",
       "4                0  \n",
       "5                0  "
      ],
      "text/html": "<div>\n<style scoped>\n    .dataframe tbody tr th:only-of-type {\n        vertical-align: middle;\n    }\n\n    .dataframe tbody tr th {\n        vertical-align: top;\n    }\n\n    .dataframe thead th {\n        text-align: right;\n    }\n</style>\n<table border=\"1\" class=\"dataframe\">\n  <thead>\n    <tr style=\"text-align: right;\">\n      <th></th>\n      <th>Neighborhood</th>\n      <th>African Restaurant</th>\n      <th>Asian Restaurant</th>\n      <th>French Restaurant</th>\n      <th>Halal Restaurant</th>\n      <th>Italian Restaurant</th>\n      <th>Middle Eastern Restaurant</th>\n      <th>Moroccan Restaurant</th>\n      <th>Restaurant</th>\n      <th>Seafood Restaurant</th>\n      <th>Spanish Restaurant</th>\n      <th>Thai Restaurant</th>\n    </tr>\n  </thead>\n  <tbody>\n    <tr>\n      <th>1</th>\n      <td>Guéliz</td>\n      <td>0</td>\n      <td>0</td>\n      <td>1</td>\n      <td>0</td>\n      <td>0</td>\n      <td>0</td>\n      <td>0</td>\n      <td>0</td>\n      <td>0</td>\n      <td>0</td>\n      <td>0</td>\n    </tr>\n    <tr>\n      <th>2</th>\n      <td>Guéliz</td>\n      <td>0</td>\n      <td>0</td>\n      <td>0</td>\n      <td>0</td>\n      <td>0</td>\n      <td>0</td>\n      <td>0</td>\n      <td>0</td>\n      <td>1</td>\n      <td>0</td>\n      <td>0</td>\n    </tr>\n    <tr>\n      <th>3</th>\n      <td>Guéliz</td>\n      <td>0</td>\n      <td>0</td>\n      <td>0</td>\n      <td>0</td>\n      <td>0</td>\n      <td>1</td>\n      <td>0</td>\n      <td>0</td>\n      <td>0</td>\n      <td>0</td>\n      <td>0</td>\n    </tr>\n    <tr>\n      <th>4</th>\n      <td>Guéliz</td>\n      <td>0</td>\n      <td>0</td>\n      <td>1</td>\n      <td>0</td>\n      <td>0</td>\n      <td>0</td>\n      <td>0</td>\n      <td>0</td>\n      <td>0</td>\n      <td>0</td>\n      <td>0</td>\n    </tr>\n    <tr>\n      <th>5</th>\n      <td>Guéliz</td>\n      <td>0</td>\n      <td>0</td>\n      <td>1</td>\n      <td>0</td>\n      <td>0</td>\n      <td>0</td>\n      <td>0</td>\n      <td>0</td>\n      <td>0</td>\n      <td>0</td>\n      <td>0</td>\n    </tr>\n  </tbody>\n</table>\n</div>"
     },
     "metadata": {},
     "execution_count": 24
    }
   ],
   "source": [
    "# one hot encoding\n",
    "marrakech_onehot = pd.get_dummies(marrakech_restaurant_venues[['Venue Category']], prefix=\"\", prefix_sep=\"\")\n",
    "\n",
    "# add neighborhood column back to dataframe\n",
    "marrakech_onehot['Neighborhood'] = marrakech_restaurant_venues['Neighborhood']\n",
    "\n",
    "# move neighborhood column to the first column\n",
    "fixed_columns = [marrakech_onehot.columns[-1]] + list(marrakech_onehot.columns[:-1])\n",
    "marrakech_onehot = marrakech_onehot[fixed_columns]\n",
    "\n",
    "marrakech_onehot.head()"
   ]
  },
  {
   "source": [
    "#### Next, let's group rows by neighborhood and by taking the mean of the frequency of occurrence of each category"
   ],
   "cell_type": "markdown",
   "metadata": {}
  },
  {
   "cell_type": "code",
   "execution_count": 13,
   "metadata": {},
   "outputs": [
    {
     "output_type": "execute_result",
     "data": {
      "text/plain": [
       "              Neighborhood  African Restaurant  Asian Restaurant  \\\n",
       "0                   Guéliz              0.0000               0.0   \n",
       "1         Marrakech-Médina              0.0625               0.0   \n",
       "2  Ménara (arrondissement)              0.0000               0.5   \n",
       "3     Sidi Youssef Ben Ali              0.0000               0.0   \n",
       "\n",
       "   French Restaurant  Halal Restaurant  Italian Restaurant  \\\n",
       "0           0.428571               0.0            0.214286   \n",
       "1           0.000000               0.0            0.000000   \n",
       "2           0.000000               0.5            0.000000   \n",
       "3           0.000000               0.0            0.000000   \n",
       "\n",
       "   Middle Eastern Restaurant  Moroccan Restaurant  Restaurant  \\\n",
       "0                   0.071429             0.071429       0.000   \n",
       "1                   0.000000             0.750000       0.125   \n",
       "2                   0.000000             0.000000       0.000   \n",
       "3                   0.000000             0.000000       1.000   \n",
       "\n",
       "   Seafood Restaurant  Spanish Restaurant  Thai Restaurant  \n",
       "0            0.142857            0.071429           0.0000  \n",
       "1            0.000000            0.000000           0.0625  \n",
       "2            0.000000            0.000000           0.0000  \n",
       "3            0.000000            0.000000           0.0000  "
      ],
      "text/html": "<div>\n<style scoped>\n    .dataframe tbody tr th:only-of-type {\n        vertical-align: middle;\n    }\n\n    .dataframe tbody tr th {\n        vertical-align: top;\n    }\n\n    .dataframe thead th {\n        text-align: right;\n    }\n</style>\n<table border=\"1\" class=\"dataframe\">\n  <thead>\n    <tr style=\"text-align: right;\">\n      <th></th>\n      <th>Neighborhood</th>\n      <th>African Restaurant</th>\n      <th>Asian Restaurant</th>\n      <th>French Restaurant</th>\n      <th>Halal Restaurant</th>\n      <th>Italian Restaurant</th>\n      <th>Middle Eastern Restaurant</th>\n      <th>Moroccan Restaurant</th>\n      <th>Restaurant</th>\n      <th>Seafood Restaurant</th>\n      <th>Spanish Restaurant</th>\n      <th>Thai Restaurant</th>\n    </tr>\n  </thead>\n  <tbody>\n    <tr>\n      <th>0</th>\n      <td>Guéliz</td>\n      <td>0.0000</td>\n      <td>0.0</td>\n      <td>0.428571</td>\n      <td>0.0</td>\n      <td>0.214286</td>\n      <td>0.071429</td>\n      <td>0.071429</td>\n      <td>0.000</td>\n      <td>0.142857</td>\n      <td>0.071429</td>\n      <td>0.0000</td>\n    </tr>\n    <tr>\n      <th>1</th>\n      <td>Marrakech-Médina</td>\n      <td>0.0625</td>\n      <td>0.0</td>\n      <td>0.000000</td>\n      <td>0.0</td>\n      <td>0.000000</td>\n      <td>0.000000</td>\n      <td>0.750000</td>\n      <td>0.125</td>\n      <td>0.000000</td>\n      <td>0.000000</td>\n      <td>0.0625</td>\n    </tr>\n    <tr>\n      <th>2</th>\n      <td>Ménara (arrondissement)</td>\n      <td>0.0000</td>\n      <td>0.5</td>\n      <td>0.000000</td>\n      <td>0.5</td>\n      <td>0.000000</td>\n      <td>0.000000</td>\n      <td>0.000000</td>\n      <td>0.000</td>\n      <td>0.000000</td>\n      <td>0.000000</td>\n      <td>0.0000</td>\n    </tr>\n    <tr>\n      <th>3</th>\n      <td>Sidi Youssef Ben Ali</td>\n      <td>0.0000</td>\n      <td>0.0</td>\n      <td>0.000000</td>\n      <td>0.0</td>\n      <td>0.000000</td>\n      <td>0.000000</td>\n      <td>0.000000</td>\n      <td>1.000</td>\n      <td>0.000000</td>\n      <td>0.000000</td>\n      <td>0.0000</td>\n    </tr>\n  </tbody>\n</table>\n</div>"
     },
     "metadata": {},
     "execution_count": 13
    }
   ],
   "source": [
    "marrakech_grouped = marrakech_onehot.groupby('Neighborhood').mean().reset_index()\n",
    "marrakech_grouped"
   ]
  },
  {
   "source": [
    "#### Let's print each neighborhood along with the top 3 most common restaurant venues\n"
   ],
   "cell_type": "markdown",
   "metadata": {}
  },
  {
   "cell_type": "code",
   "execution_count": 14,
   "metadata": {},
   "outputs": [
    {
     "output_type": "stream",
     "name": "stdout",
     "text": [
      "----Guéliz----\n                venue  freq\n0   French Restaurant  0.43\n1  Italian Restaurant  0.21\n2  Seafood Restaurant  0.14\n\n\n----Marrakech-Médina----\n                 venue  freq\n0  Moroccan Restaurant  0.75\n1           Restaurant  0.12\n2   African Restaurant  0.06\n\n\n----Ménara (arrondissement)----\n                venue  freq\n0    Asian Restaurant   0.5\n1    Halal Restaurant   0.5\n2  African Restaurant   0.0\n\n\n----Sidi Youssef Ben Ali----\n                venue  freq\n0          Restaurant   1.0\n1  African Restaurant   0.0\n2    Asian Restaurant   0.0\n\n\n"
     ]
    }
   ],
   "source": [
    "num_top_venues = 3\n",
    "\n",
    "for hood in marrakech_grouped['Neighborhood']:\n",
    "    print(\"----\"+hood+\"----\")\n",
    "    temp = marrakech_grouped[marrakech_grouped['Neighborhood'] == hood].T.reset_index()\n",
    "    temp.columns = ['venue','freq']\n",
    "    temp = temp.iloc[1:]\n",
    "    temp['freq'] = temp['freq'].astype(float)\n",
    "    temp = temp.round({'freq': 2})\n",
    "    print(temp.sort_values('freq', ascending=False).reset_index(drop=True).head(num_top_venues))\n",
    "    print('\\n')"
   ]
  },
  {
   "source": [
    "We can notice that no restaurant venues is found in the neighborhood of Ennkhil."
   ],
   "cell_type": "markdown",
   "metadata": {}
  },
  {
   "source": [
    "#### Now let's create the new dataframe and display the top 10 venues for each neighborhood.\n"
   ],
   "cell_type": "markdown",
   "metadata": {}
  },
  {
   "cell_type": "code",
   "execution_count": 15,
   "metadata": {},
   "outputs": [],
   "source": [
    "def return_most_common_venues(row, num_top_venues):\n",
    "    row_categories = row.iloc[1:]\n",
    "    row_categories_sorted = row_categories.sort_values(ascending=False)\n",
    "    \n",
    "    return row_categories_sorted.index.values[0:num_top_venues]"
   ]
  },
  {
   "cell_type": "code",
   "execution_count": 16,
   "metadata": {},
   "outputs": [
    {
     "output_type": "execute_result",
     "data": {
      "text/plain": [
       "              Neighborhood 1st Most Common Venue 2nd Most Common Venue  \\\n",
       "0                   Guéliz     French Restaurant    Italian Restaurant   \n",
       "1         Marrakech-Médina   Moroccan Restaurant            Restaurant   \n",
       "2  Ménara (arrondissement)      Asian Restaurant      Halal Restaurant   \n",
       "3     Sidi Youssef Ben Ali            Restaurant    African Restaurant   \n",
       "\n",
       "  3rd Most Common Venue      4th Most Common Venue 5th Most Common Venue  \\\n",
       "0    Seafood Restaurant  Middle Eastern Restaurant   Moroccan Restaurant   \n",
       "1    African Restaurant            Thai Restaurant      Asian Restaurant   \n",
       "2    African Restaurant          French Restaurant    Italian Restaurant   \n",
       "3      Asian Restaurant          French Restaurant      Halal Restaurant   \n",
       "\n",
       "       6th Most Common Venue      7th Most Common Venue 8th Most Common Venue  \\\n",
       "0         Spanish Restaurant         African Restaurant      Asian Restaurant   \n",
       "1          French Restaurant           Halal Restaurant    Italian Restaurant   \n",
       "2  Middle Eastern Restaurant        Moroccan Restaurant            Restaurant   \n",
       "3         Italian Restaurant  Middle Eastern Restaurant   Moroccan Restaurant   \n",
       "\n",
       "       9th Most Common Venue 10th Most Common Venue  \n",
       "0           Halal Restaurant             Restaurant  \n",
       "1  Middle Eastern Restaurant     Seafood Restaurant  \n",
       "2         Seafood Restaurant     Spanish Restaurant  \n",
       "3         Seafood Restaurant     Spanish Restaurant  "
      ],
      "text/html": "<div>\n<style scoped>\n    .dataframe tbody tr th:only-of-type {\n        vertical-align: middle;\n    }\n\n    .dataframe tbody tr th {\n        vertical-align: top;\n    }\n\n    .dataframe thead th {\n        text-align: right;\n    }\n</style>\n<table border=\"1\" class=\"dataframe\">\n  <thead>\n    <tr style=\"text-align: right;\">\n      <th></th>\n      <th>Neighborhood</th>\n      <th>1st Most Common Venue</th>\n      <th>2nd Most Common Venue</th>\n      <th>3rd Most Common Venue</th>\n      <th>4th Most Common Venue</th>\n      <th>5th Most Common Venue</th>\n      <th>6th Most Common Venue</th>\n      <th>7th Most Common Venue</th>\n      <th>8th Most Common Venue</th>\n      <th>9th Most Common Venue</th>\n      <th>10th Most Common Venue</th>\n    </tr>\n  </thead>\n  <tbody>\n    <tr>\n      <th>0</th>\n      <td>Guéliz</td>\n      <td>French Restaurant</td>\n      <td>Italian Restaurant</td>\n      <td>Seafood Restaurant</td>\n      <td>Middle Eastern Restaurant</td>\n      <td>Moroccan Restaurant</td>\n      <td>Spanish Restaurant</td>\n      <td>African Restaurant</td>\n      <td>Asian Restaurant</td>\n      <td>Halal Restaurant</td>\n      <td>Restaurant</td>\n    </tr>\n    <tr>\n      <th>1</th>\n      <td>Marrakech-Médina</td>\n      <td>Moroccan Restaurant</td>\n      <td>Restaurant</td>\n      <td>African Restaurant</td>\n      <td>Thai Restaurant</td>\n      <td>Asian Restaurant</td>\n      <td>French Restaurant</td>\n      <td>Halal Restaurant</td>\n      <td>Italian Restaurant</td>\n      <td>Middle Eastern Restaurant</td>\n      <td>Seafood Restaurant</td>\n    </tr>\n    <tr>\n      <th>2</th>\n      <td>Ménara (arrondissement)</td>\n      <td>Asian Restaurant</td>\n      <td>Halal Restaurant</td>\n      <td>African Restaurant</td>\n      <td>French Restaurant</td>\n      <td>Italian Restaurant</td>\n      <td>Middle Eastern Restaurant</td>\n      <td>Moroccan Restaurant</td>\n      <td>Restaurant</td>\n      <td>Seafood Restaurant</td>\n      <td>Spanish Restaurant</td>\n    </tr>\n    <tr>\n      <th>3</th>\n      <td>Sidi Youssef Ben Ali</td>\n      <td>Restaurant</td>\n      <td>African Restaurant</td>\n      <td>Asian Restaurant</td>\n      <td>French Restaurant</td>\n      <td>Halal Restaurant</td>\n      <td>Italian Restaurant</td>\n      <td>Middle Eastern Restaurant</td>\n      <td>Moroccan Restaurant</td>\n      <td>Seafood Restaurant</td>\n      <td>Spanish Restaurant</td>\n    </tr>\n  </tbody>\n</table>\n</div>"
     },
     "metadata": {},
     "execution_count": 16
    }
   ],
   "source": [
    "num_top_venues = 10\n",
    "\n",
    "indicators = ['st', 'nd', 'rd']\n",
    "\n",
    "# create columns according to number of top venues\n",
    "columns = ['Neighborhood']\n",
    "for ind in np.arange(num_top_venues):\n",
    "    try:\n",
    "        columns.append('{}{} Most Common Venue'.format(ind+1, indicators[ind]))\n",
    "    except:\n",
    "        columns.append('{}th Most Common Venue'.format(ind+1))\n",
    "\n",
    "# create a new dataframe\n",
    "neighborhoods_venues_sorted = pd.DataFrame(columns=columns)\n",
    "neighborhoods_venues_sorted['Neighborhood'] = marrakech_grouped['Neighborhood']\n",
    "\n",
    "for ind in np.arange(marrakech_grouped.shape[0]):\n",
    "    neighborhoods_venues_sorted.iloc[ind, 1:] = return_most_common_venues(marrakech_grouped.iloc[ind, :], num_top_venues)\n",
    "\n",
    "neighborhoods_venues_sorted.head()"
   ]
  },
  {
   "source": [
    "# 4. Clustering Neighborhoods\n"
   ],
   "cell_type": "markdown",
   "metadata": {}
  },
  {
   "source": [
    "#### Running _k_-means to cluster the neighborhood into 3 clusters.\n"
   ],
   "cell_type": "markdown",
   "metadata": {}
  },
  {
   "cell_type": "code",
   "execution_count": 35,
   "metadata": {},
   "outputs": [
    {
     "output_type": "execute_result",
     "data": {
      "text/plain": [
       "array([0, 0, 2, 1])"
      ]
     },
     "metadata": {},
     "execution_count": 35
    }
   ],
   "source": [
    "# set number of clusters\n",
    "kclusters = 3\n",
    "\n",
    "marrakech_grouped_clustering = marrakech_grouped.drop('Neighborhood', 1)\n",
    "\n",
    "# run k-means clustering\n",
    "kmeans = KMeans(n_clusters=kclusters, random_state=0).fit(marrakech_grouped_clustering)\n",
    "\n",
    "# check cluster labels generated for each row in the dataframe\n",
    "kmeans.labels_[0:20] "
   ]
  },
  {
   "cell_type": "code",
   "execution_count": 39,
   "metadata": {},
   "outputs": [
    {
     "output_type": "execute_result",
     "data": {
      "text/plain": [
       "              Neighborhood   Latitude  Longitude  Cluster Labels  \\\n",
       "0      Ennakhil, Marrakech  31.648666  -7.963090             NaN   \n",
       "1                   Guéliz  31.632188  -8.010813             0.0   \n",
       "2         Marrakech-Médina  31.625826  -7.989161             0.0   \n",
       "3  Ménara (arrondissement)  31.628555  -8.057550             2.0   \n",
       "4     Sidi Youssef Ben Ali  31.609005  -7.967901             1.0   \n",
       "\n",
       "  1st Most Common Venue 2nd Most Common Venue 3rd Most Common Venue  \\\n",
       "0                   NaN                   NaN                   NaN   \n",
       "1     French Restaurant    Italian Restaurant    Seafood Restaurant   \n",
       "2   Moroccan Restaurant            Restaurant    African Restaurant   \n",
       "3      Asian Restaurant      Halal Restaurant    African Restaurant   \n",
       "4            Restaurant    African Restaurant      Asian Restaurant   \n",
       "\n",
       "       4th Most Common Venue 5th Most Common Venue      6th Most Common Venue  \\\n",
       "0                        NaN                   NaN                        NaN   \n",
       "1  Middle Eastern Restaurant   Moroccan Restaurant         Spanish Restaurant   \n",
       "2            Thai Restaurant      Asian Restaurant          French Restaurant   \n",
       "3          French Restaurant    Italian Restaurant  Middle Eastern Restaurant   \n",
       "4          French Restaurant      Halal Restaurant         Italian Restaurant   \n",
       "\n",
       "       7th Most Common Venue 8th Most Common Venue      9th Most Common Venue  \\\n",
       "0                        NaN                   NaN                        NaN   \n",
       "1         African Restaurant      Asian Restaurant           Halal Restaurant   \n",
       "2           Halal Restaurant    Italian Restaurant  Middle Eastern Restaurant   \n",
       "3        Moroccan Restaurant            Restaurant         Seafood Restaurant   \n",
       "4  Middle Eastern Restaurant   Moroccan Restaurant         Seafood Restaurant   \n",
       "\n",
       "  10th Most Common Venue  \n",
       "0                    NaN  \n",
       "1             Restaurant  \n",
       "2     Seafood Restaurant  \n",
       "3     Spanish Restaurant  \n",
       "4     Spanish Restaurant  "
      ],
      "text/html": "<div>\n<style scoped>\n    .dataframe tbody tr th:only-of-type {\n        vertical-align: middle;\n    }\n\n    .dataframe tbody tr th {\n        vertical-align: top;\n    }\n\n    .dataframe thead th {\n        text-align: right;\n    }\n</style>\n<table border=\"1\" class=\"dataframe\">\n  <thead>\n    <tr style=\"text-align: right;\">\n      <th></th>\n      <th>Neighborhood</th>\n      <th>Latitude</th>\n      <th>Longitude</th>\n      <th>Cluster Labels</th>\n      <th>1st Most Common Venue</th>\n      <th>2nd Most Common Venue</th>\n      <th>3rd Most Common Venue</th>\n      <th>4th Most Common Venue</th>\n      <th>5th Most Common Venue</th>\n      <th>6th Most Common Venue</th>\n      <th>7th Most Common Venue</th>\n      <th>8th Most Common Venue</th>\n      <th>9th Most Common Venue</th>\n      <th>10th Most Common Venue</th>\n    </tr>\n  </thead>\n  <tbody>\n    <tr>\n      <th>0</th>\n      <td>Ennakhil, Marrakech</td>\n      <td>31.648666</td>\n      <td>-7.963090</td>\n      <td>NaN</td>\n      <td>NaN</td>\n      <td>NaN</td>\n      <td>NaN</td>\n      <td>NaN</td>\n      <td>NaN</td>\n      <td>NaN</td>\n      <td>NaN</td>\n      <td>NaN</td>\n      <td>NaN</td>\n      <td>NaN</td>\n    </tr>\n    <tr>\n      <th>1</th>\n      <td>Guéliz</td>\n      <td>31.632188</td>\n      <td>-8.010813</td>\n      <td>0.0</td>\n      <td>French Restaurant</td>\n      <td>Italian Restaurant</td>\n      <td>Seafood Restaurant</td>\n      <td>Middle Eastern Restaurant</td>\n      <td>Moroccan Restaurant</td>\n      <td>Spanish Restaurant</td>\n      <td>African Restaurant</td>\n      <td>Asian Restaurant</td>\n      <td>Halal Restaurant</td>\n      <td>Restaurant</td>\n    </tr>\n    <tr>\n      <th>2</th>\n      <td>Marrakech-Médina</td>\n      <td>31.625826</td>\n      <td>-7.989161</td>\n      <td>0.0</td>\n      <td>Moroccan Restaurant</td>\n      <td>Restaurant</td>\n      <td>African Restaurant</td>\n      <td>Thai Restaurant</td>\n      <td>Asian Restaurant</td>\n      <td>French Restaurant</td>\n      <td>Halal Restaurant</td>\n      <td>Italian Restaurant</td>\n      <td>Middle Eastern Restaurant</td>\n      <td>Seafood Restaurant</td>\n    </tr>\n    <tr>\n      <th>3</th>\n      <td>Ménara (arrondissement)</td>\n      <td>31.628555</td>\n      <td>-8.057550</td>\n      <td>2.0</td>\n      <td>Asian Restaurant</td>\n      <td>Halal Restaurant</td>\n      <td>African Restaurant</td>\n      <td>French Restaurant</td>\n      <td>Italian Restaurant</td>\n      <td>Middle Eastern Restaurant</td>\n      <td>Moroccan Restaurant</td>\n      <td>Restaurant</td>\n      <td>Seafood Restaurant</td>\n      <td>Spanish Restaurant</td>\n    </tr>\n    <tr>\n      <th>4</th>\n      <td>Sidi Youssef Ben Ali</td>\n      <td>31.609005</td>\n      <td>-7.967901</td>\n      <td>1.0</td>\n      <td>Restaurant</td>\n      <td>African Restaurant</td>\n      <td>Asian Restaurant</td>\n      <td>French Restaurant</td>\n      <td>Halal Restaurant</td>\n      <td>Italian Restaurant</td>\n      <td>Middle Eastern Restaurant</td>\n      <td>Moroccan Restaurant</td>\n      <td>Seafood Restaurant</td>\n      <td>Spanish Restaurant</td>\n    </tr>\n  </tbody>\n</table>\n</div>"
     },
     "metadata": {},
     "execution_count": 39
    }
   ],
   "source": [
    "# add clustering labels\n",
    "\n",
    "marrakech_merged = marrakech_data\n",
    "\n",
    "# merge toronto_grouped with toronto_data to add latitude/longitude for each neighborhood\n",
    "marrakech_merged = marrakech_merged.join(neighborhoods_venues_sorted.set_index('Neighborhood'), on='Neighborhood')\n",
    "\n",
    "marrakech_merged.head() # check the last columns!"
   ]
  },
  {
   "source": [
    "#### Finally, let's visualize the resulting clusters\n"
   ],
   "cell_type": "markdown",
   "metadata": {}
  },
  {
   "cell_type": "code",
   "execution_count": 41,
   "metadata": {},
   "outputs": [
    {
     "output_type": "stream",
     "name": "stdout",
     "text": [
      "0\n1\n2\n3\n4\n"
     ]
    },
    {
     "output_type": "execute_result",
     "data": {
      "text/plain": [
       "<folium.folium.Map at 0x232a8d59ee0>"
      ],
      "text/html": "<div style=\"width:100%;\"><div style=\"position:relative;width:100%;height:0;padding-bottom:60%;\"><span style=\"color:#565656\">Make this Notebook Trusted to load map: File -> Trust Notebook</span><iframe src=\"about:blank\" style=\"position:absolute;width:100%;height:100%;left:0;top:0;border:none !important;\" data-html=%3C%21DOCTYPE%20html%3E%0A%3Chead%3E%20%20%20%20%0A%20%20%20%20%3Cmeta%20http-equiv%3D%22content-type%22%20content%3D%22text/html%3B%20charset%3DUTF-8%22%20/%3E%0A%20%20%20%20%0A%20%20%20%20%20%20%20%20%3Cscript%3E%0A%20%20%20%20%20%20%20%20%20%20%20%20L_NO_TOUCH%20%3D%20false%3B%0A%20%20%20%20%20%20%20%20%20%20%20%20L_DISABLE_3D%20%3D%20false%3B%0A%20%20%20%20%20%20%20%20%3C/script%3E%0A%20%20%20%20%0A%20%20%20%20%3Cstyle%3Ehtml%2C%20body%20%7Bwidth%3A%20100%25%3Bheight%3A%20100%25%3Bmargin%3A%200%3Bpadding%3A%200%3B%7D%3C/style%3E%0A%20%20%20%20%3Cstyle%3E%23map%20%7Bposition%3Aabsolute%3Btop%3A0%3Bbottom%3A0%3Bright%3A0%3Bleft%3A0%3B%7D%3C/style%3E%0A%20%20%20%20%3Cscript%20src%3D%22https%3A//cdn.jsdelivr.net/npm/leaflet%401.6.0/dist/leaflet.js%22%3E%3C/script%3E%0A%20%20%20%20%3Cscript%20src%3D%22https%3A//code.jquery.com/jquery-1.12.4.min.js%22%3E%3C/script%3E%0A%20%20%20%20%3Cscript%20src%3D%22https%3A//maxcdn.bootstrapcdn.com/bootstrap/3.2.0/js/bootstrap.min.js%22%3E%3C/script%3E%0A%20%20%20%20%3Cscript%20src%3D%22https%3A//cdnjs.cloudflare.com/ajax/libs/Leaflet.awesome-markers/2.0.2/leaflet.awesome-markers.js%22%3E%3C/script%3E%0A%20%20%20%20%3Clink%20rel%3D%22stylesheet%22%20href%3D%22https%3A//cdn.jsdelivr.net/npm/leaflet%401.6.0/dist/leaflet.css%22/%3E%0A%20%20%20%20%3Clink%20rel%3D%22stylesheet%22%20href%3D%22https%3A//maxcdn.bootstrapcdn.com/bootstrap/3.2.0/css/bootstrap.min.css%22/%3E%0A%20%20%20%20%3Clink%20rel%3D%22stylesheet%22%20href%3D%22https%3A//maxcdn.bootstrapcdn.com/bootstrap/3.2.0/css/bootstrap-theme.min.css%22/%3E%0A%20%20%20%20%3Clink%20rel%3D%22stylesheet%22%20href%3D%22https%3A//maxcdn.bootstrapcdn.com/font-awesome/4.6.3/css/font-awesome.min.css%22/%3E%0A%20%20%20%20%3Clink%20rel%3D%22stylesheet%22%20href%3D%22https%3A//cdnjs.cloudflare.com/ajax/libs/Leaflet.awesome-markers/2.0.2/leaflet.awesome-markers.css%22/%3E%0A%20%20%20%20%3Clink%20rel%3D%22stylesheet%22%20href%3D%22https%3A//cdn.jsdelivr.net/gh/python-visualization/folium/folium/templates/leaflet.awesome.rotate.min.css%22/%3E%0A%20%20%20%20%0A%20%20%20%20%20%20%20%20%20%20%20%20%3Cmeta%20name%3D%22viewport%22%20content%3D%22width%3Ddevice-width%2C%0A%20%20%20%20%20%20%20%20%20%20%20%20%20%20%20%20initial-scale%3D1.0%2C%20maximum-scale%3D1.0%2C%20user-scalable%3Dno%22%20/%3E%0A%20%20%20%20%20%20%20%20%20%20%20%20%3Cstyle%3E%0A%20%20%20%20%20%20%20%20%20%20%20%20%20%20%20%20%23map_6ce7b61a070b4d118955343002e3eb4c%20%7B%0A%20%20%20%20%20%20%20%20%20%20%20%20%20%20%20%20%20%20%20%20position%3A%20relative%3B%0A%20%20%20%20%20%20%20%20%20%20%20%20%20%20%20%20%20%20%20%20width%3A%20100.0%25%3B%0A%20%20%20%20%20%20%20%20%20%20%20%20%20%20%20%20%20%20%20%20height%3A%20100.0%25%3B%0A%20%20%20%20%20%20%20%20%20%20%20%20%20%20%20%20%20%20%20%20left%3A%200.0%25%3B%0A%20%20%20%20%20%20%20%20%20%20%20%20%20%20%20%20%20%20%20%20top%3A%200.0%25%3B%0A%20%20%20%20%20%20%20%20%20%20%20%20%20%20%20%20%7D%0A%20%20%20%20%20%20%20%20%20%20%20%20%3C/style%3E%0A%20%20%20%20%20%20%20%20%0A%3C/head%3E%0A%3Cbody%3E%20%20%20%20%0A%20%20%20%20%0A%20%20%20%20%20%20%20%20%20%20%20%20%3Cdiv%20class%3D%22folium-map%22%20id%3D%22map_6ce7b61a070b4d118955343002e3eb4c%22%20%3E%3C/div%3E%0A%20%20%20%20%20%20%20%20%0A%3C/body%3E%0A%3Cscript%3E%20%20%20%20%0A%20%20%20%20%0A%20%20%20%20%20%20%20%20%20%20%20%20var%20map_6ce7b61a070b4d118955343002e3eb4c%20%3D%20L.map%28%0A%20%20%20%20%20%20%20%20%20%20%20%20%20%20%20%20%22map_6ce7b61a070b4d118955343002e3eb4c%22%2C%0A%20%20%20%20%20%20%20%20%20%20%20%20%20%20%20%20%7B%0A%20%20%20%20%20%20%20%20%20%20%20%20%20%20%20%20%20%20%20%20center%3A%20%5B31.6258257%2C%20-7.9891608%5D%2C%0A%20%20%20%20%20%20%20%20%20%20%20%20%20%20%20%20%20%20%20%20crs%3A%20L.CRS.EPSG3857%2C%0A%20%20%20%20%20%20%20%20%20%20%20%20%20%20%20%20%20%20%20%20zoom%3A%2011%2C%0A%20%20%20%20%20%20%20%20%20%20%20%20%20%20%20%20%20%20%20%20zoomControl%3A%20true%2C%0A%20%20%20%20%20%20%20%20%20%20%20%20%20%20%20%20%20%20%20%20preferCanvas%3A%20false%2C%0A%20%20%20%20%20%20%20%20%20%20%20%20%20%20%20%20%7D%0A%20%20%20%20%20%20%20%20%20%20%20%20%29%3B%0A%0A%20%20%20%20%20%20%20%20%20%20%20%20%0A%0A%20%20%20%20%20%20%20%20%0A%20%20%20%20%0A%20%20%20%20%20%20%20%20%20%20%20%20var%20tile_layer_3726af44e4f540dca4ff564c122218e5%20%3D%20L.tileLayer%28%0A%20%20%20%20%20%20%20%20%20%20%20%20%20%20%20%20%22https%3A//%7Bs%7D.tile.openstreetmap.org/%7Bz%7D/%7Bx%7D/%7By%7D.png%22%2C%0A%20%20%20%20%20%20%20%20%20%20%20%20%20%20%20%20%7B%22attribution%22%3A%20%22Data%20by%20%5Cu0026copy%3B%20%5Cu003ca%20href%3D%5C%22http%3A//openstreetmap.org%5C%22%5Cu003eOpenStreetMap%5Cu003c/a%5Cu003e%2C%20under%20%5Cu003ca%20href%3D%5C%22http%3A//www.openstreetmap.org/copyright%5C%22%5Cu003eODbL%5Cu003c/a%5Cu003e.%22%2C%20%22detectRetina%22%3A%20false%2C%20%22maxNativeZoom%22%3A%2018%2C%20%22maxZoom%22%3A%2018%2C%20%22minZoom%22%3A%200%2C%20%22noWrap%22%3A%20false%2C%20%22opacity%22%3A%201%2C%20%22subdomains%22%3A%20%22abc%22%2C%20%22tms%22%3A%20false%7D%0A%20%20%20%20%20%20%20%20%20%20%20%20%29.addTo%28map_6ce7b61a070b4d118955343002e3eb4c%29%3B%0A%20%20%20%20%20%20%20%20%0A%20%20%20%20%0A%20%20%20%20%20%20%20%20%20%20%20%20var%20circle_marker_a834c349867141fbaa941ad17019c70f%20%3D%20L.circleMarker%28%0A%20%20%20%20%20%20%20%20%20%20%20%20%20%20%20%20%5B31.6486658%2C%20-7.9630905%5D%2C%0A%20%20%20%20%20%20%20%20%20%20%20%20%20%20%20%20%7B%22bubblingMouseEvents%22%3A%20true%2C%20%22color%22%3A%20%22blue%22%2C%20%22dashArray%22%3A%20null%2C%20%22dashOffset%22%3A%20null%2C%20%22fill%22%3A%20true%2C%20%22fillColor%22%3A%20%22blue%22%2C%20%22fillOpacity%22%3A%200.7%2C%20%22fillRule%22%3A%20%22evenodd%22%2C%20%22lineCap%22%3A%20%22round%22%2C%20%22lineJoin%22%3A%20%22round%22%2C%20%22opacity%22%3A%201.0%2C%20%22radius%22%3A%207%2C%20%22stroke%22%3A%20true%2C%20%22weight%22%3A%203%7D%0A%20%20%20%20%20%20%20%20%20%20%20%20%29.addTo%28map_6ce7b61a070b4d118955343002e3eb4c%29%3B%0A%20%20%20%20%20%20%20%20%0A%20%20%20%20%0A%20%20%20%20%20%20%20%20var%20popup_31d6c8ede7d14adbb8b12d41392e15b3%20%3D%20L.popup%28%7B%22maxWidth%22%3A%20%22100%25%22%7D%29%3B%0A%0A%20%20%20%20%20%20%20%20%0A%20%20%20%20%20%20%20%20%20%20%20%20var%20html_38889f29ee25493399140425dc21a36d%20%3D%20%24%28%60%3Cdiv%20id%3D%22html_38889f29ee25493399140425dc21a36d%22%20style%3D%22width%3A%20100.0%25%3B%20height%3A%20100.0%25%3B%22%3EEnnakhil%2C%20Marrakech%20Cluster%20nan%3C/div%3E%60%29%5B0%5D%3B%0A%20%20%20%20%20%20%20%20%20%20%20%20popup_31d6c8ede7d14adbb8b12d41392e15b3.setContent%28html_38889f29ee25493399140425dc21a36d%29%3B%0A%20%20%20%20%20%20%20%20%0A%0A%20%20%20%20%20%20%20%20circle_marker_a834c349867141fbaa941ad17019c70f.bindPopup%28popup_31d6c8ede7d14adbb8b12d41392e15b3%29%0A%20%20%20%20%20%20%20%20%3B%0A%0A%20%20%20%20%20%20%20%20%0A%20%20%20%20%0A%20%20%20%20%0A%20%20%20%20%20%20%20%20%20%20%20%20var%20circle_marker_be7845e9dae74cc8ac35294803cdaad3%20%3D%20L.circleMarker%28%0A%20%20%20%20%20%20%20%20%20%20%20%20%20%20%20%20%5B31.6321881%2C%20-8.0108135%5D%2C%0A%20%20%20%20%20%20%20%20%20%20%20%20%20%20%20%20%7B%22bubblingMouseEvents%22%3A%20true%2C%20%22color%22%3A%20%22purple%22%2C%20%22dashArray%22%3A%20null%2C%20%22dashOffset%22%3A%20null%2C%20%22fill%22%3A%20true%2C%20%22fillColor%22%3A%20%22purple%22%2C%20%22fillOpacity%22%3A%200.7%2C%20%22fillRule%22%3A%20%22evenodd%22%2C%20%22lineCap%22%3A%20%22round%22%2C%20%22lineJoin%22%3A%20%22round%22%2C%20%22opacity%22%3A%201.0%2C%20%22radius%22%3A%207%2C%20%22stroke%22%3A%20true%2C%20%22weight%22%3A%203%7D%0A%20%20%20%20%20%20%20%20%20%20%20%20%29.addTo%28map_6ce7b61a070b4d118955343002e3eb4c%29%3B%0A%20%20%20%20%20%20%20%20%0A%20%20%20%20%0A%20%20%20%20%20%20%20%20var%20popup_8a89300f048341f9b836111e4df69e80%20%3D%20L.popup%28%7B%22maxWidth%22%3A%20%22100%25%22%7D%29%3B%0A%0A%20%20%20%20%20%20%20%20%0A%20%20%20%20%20%20%20%20%20%20%20%20var%20html_bb046df35ed2468e879119b6d2a8ab43%20%3D%20%24%28%60%3Cdiv%20id%3D%22html_bb046df35ed2468e879119b6d2a8ab43%22%20style%3D%22width%3A%20100.0%25%3B%20height%3A%20100.0%25%3B%22%3EGu%C3%A9liz%20Cluster%200.0%3C/div%3E%60%29%5B0%5D%3B%0A%20%20%20%20%20%20%20%20%20%20%20%20popup_8a89300f048341f9b836111e4df69e80.setContent%28html_bb046df35ed2468e879119b6d2a8ab43%29%3B%0A%20%20%20%20%20%20%20%20%0A%0A%20%20%20%20%20%20%20%20circle_marker_be7845e9dae74cc8ac35294803cdaad3.bindPopup%28popup_8a89300f048341f9b836111e4df69e80%29%0A%20%20%20%20%20%20%20%20%3B%0A%0A%20%20%20%20%20%20%20%20%0A%20%20%20%20%0A%20%20%20%20%0A%20%20%20%20%20%20%20%20%20%20%20%20var%20circle_marker_18fa8b6337f046fda5f66c8129e6975d%20%3D%20L.circleMarker%28%0A%20%20%20%20%20%20%20%20%20%20%20%20%20%20%20%20%5B31.6258257%2C%20-7.9891608%5D%2C%0A%20%20%20%20%20%20%20%20%20%20%20%20%20%20%20%20%7B%22bubblingMouseEvents%22%3A%20true%2C%20%22color%22%3A%20%22purple%22%2C%20%22dashArray%22%3A%20null%2C%20%22dashOffset%22%3A%20null%2C%20%22fill%22%3A%20true%2C%20%22fillColor%22%3A%20%22purple%22%2C%20%22fillOpacity%22%3A%200.7%2C%20%22fillRule%22%3A%20%22evenodd%22%2C%20%22lineCap%22%3A%20%22round%22%2C%20%22lineJoin%22%3A%20%22round%22%2C%20%22opacity%22%3A%201.0%2C%20%22radius%22%3A%207%2C%20%22stroke%22%3A%20true%2C%20%22weight%22%3A%203%7D%0A%20%20%20%20%20%20%20%20%20%20%20%20%29.addTo%28map_6ce7b61a070b4d118955343002e3eb4c%29%3B%0A%20%20%20%20%20%20%20%20%0A%20%20%20%20%0A%20%20%20%20%20%20%20%20var%20popup_8bfa204083fd435881276002fb9608ca%20%3D%20L.popup%28%7B%22maxWidth%22%3A%20%22100%25%22%7D%29%3B%0A%0A%20%20%20%20%20%20%20%20%0A%20%20%20%20%20%20%20%20%20%20%20%20var%20html_1ef7f069391a44a7a3a991c99fa08f5d%20%3D%20%24%28%60%3Cdiv%20id%3D%22html_1ef7f069391a44a7a3a991c99fa08f5d%22%20style%3D%22width%3A%20100.0%25%3B%20height%3A%20100.0%25%3B%22%3EMarrakech-M%C3%A9dina%20Cluster%200.0%3C/div%3E%60%29%5B0%5D%3B%0A%20%20%20%20%20%20%20%20%20%20%20%20popup_8bfa204083fd435881276002fb9608ca.setContent%28html_1ef7f069391a44a7a3a991c99fa08f5d%29%3B%0A%20%20%20%20%20%20%20%20%0A%0A%20%20%20%20%20%20%20%20circle_marker_18fa8b6337f046fda5f66c8129e6975d.bindPopup%28popup_8bfa204083fd435881276002fb9608ca%29%0A%20%20%20%20%20%20%20%20%3B%0A%0A%20%20%20%20%20%20%20%20%0A%20%20%20%20%0A%20%20%20%20%0A%20%20%20%20%20%20%20%20%20%20%20%20var%20circle_marker_9c8e84c7e38343ae93e7bb47859e7ecf%20%3D%20L.circleMarker%28%0A%20%20%20%20%20%20%20%20%20%20%20%20%20%20%20%20%5B31.6285553%2C%20-8.0575498%5D%2C%0A%20%20%20%20%20%20%20%20%20%20%20%20%20%20%20%20%7B%22bubblingMouseEvents%22%3A%20true%2C%20%22color%22%3A%20%22green%22%2C%20%22dashArray%22%3A%20null%2C%20%22dashOffset%22%3A%20null%2C%20%22fill%22%3A%20true%2C%20%22fillColor%22%3A%20%22green%22%2C%20%22fillOpacity%22%3A%200.7%2C%20%22fillRule%22%3A%20%22evenodd%22%2C%20%22lineCap%22%3A%20%22round%22%2C%20%22lineJoin%22%3A%20%22round%22%2C%20%22opacity%22%3A%201.0%2C%20%22radius%22%3A%207%2C%20%22stroke%22%3A%20true%2C%20%22weight%22%3A%203%7D%0A%20%20%20%20%20%20%20%20%20%20%20%20%29.addTo%28map_6ce7b61a070b4d118955343002e3eb4c%29%3B%0A%20%20%20%20%20%20%20%20%0A%20%20%20%20%0A%20%20%20%20%20%20%20%20var%20popup_036f24d159a8447ebc747628ae4ce2b0%20%3D%20L.popup%28%7B%22maxWidth%22%3A%20%22100%25%22%7D%29%3B%0A%0A%20%20%20%20%20%20%20%20%0A%20%20%20%20%20%20%20%20%20%20%20%20var%20html_7f4acadb3118492892f7dd7c28cd5b34%20%3D%20%24%28%60%3Cdiv%20id%3D%22html_7f4acadb3118492892f7dd7c28cd5b34%22%20style%3D%22width%3A%20100.0%25%3B%20height%3A%20100.0%25%3B%22%3EM%C3%A9nara%20%28arrondissement%29%20Cluster%202.0%3C/div%3E%60%29%5B0%5D%3B%0A%20%20%20%20%20%20%20%20%20%20%20%20popup_036f24d159a8447ebc747628ae4ce2b0.setContent%28html_7f4acadb3118492892f7dd7c28cd5b34%29%3B%0A%20%20%20%20%20%20%20%20%0A%0A%20%20%20%20%20%20%20%20circle_marker_9c8e84c7e38343ae93e7bb47859e7ecf.bindPopup%28popup_036f24d159a8447ebc747628ae4ce2b0%29%0A%20%20%20%20%20%20%20%20%3B%0A%0A%20%20%20%20%20%20%20%20%0A%20%20%20%20%0A%20%20%20%20%0A%20%20%20%20%20%20%20%20%20%20%20%20var%20circle_marker_1c4dc7747d074c35a65d6965308fb1c7%20%3D%20L.circleMarker%28%0A%20%20%20%20%20%20%20%20%20%20%20%20%20%20%20%20%5B31.6090052%2C%20-7.9679007%5D%2C%0A%20%20%20%20%20%20%20%20%20%20%20%20%20%20%20%20%7B%22bubblingMouseEvents%22%3A%20true%2C%20%22color%22%3A%20%22%23ff0000%22%2C%20%22dashArray%22%3A%20null%2C%20%22dashOffset%22%3A%20null%2C%20%22fill%22%3A%20true%2C%20%22fillColor%22%3A%20%22%23ff0000%22%2C%20%22fillOpacity%22%3A%200.7%2C%20%22fillRule%22%3A%20%22evenodd%22%2C%20%22lineCap%22%3A%20%22round%22%2C%20%22lineJoin%22%3A%20%22round%22%2C%20%22opacity%22%3A%201.0%2C%20%22radius%22%3A%207%2C%20%22stroke%22%3A%20true%2C%20%22weight%22%3A%203%7D%0A%20%20%20%20%20%20%20%20%20%20%20%20%29.addTo%28map_6ce7b61a070b4d118955343002e3eb4c%29%3B%0A%20%20%20%20%20%20%20%20%0A%20%20%20%20%0A%20%20%20%20%20%20%20%20var%20popup_0a7369ae680148979c7bf36df1c672c5%20%3D%20L.popup%28%7B%22maxWidth%22%3A%20%22100%25%22%7D%29%3B%0A%0A%20%20%20%20%20%20%20%20%0A%20%20%20%20%20%20%20%20%20%20%20%20var%20html_fa81d36485e245ab90b18b202b859a37%20%3D%20%24%28%60%3Cdiv%20id%3D%22html_fa81d36485e245ab90b18b202b859a37%22%20style%3D%22width%3A%20100.0%25%3B%20height%3A%20100.0%25%3B%22%3ESidi%20Youssef%20Ben%20Ali%20Cluster%201.0%3C/div%3E%60%29%5B0%5D%3B%0A%20%20%20%20%20%20%20%20%20%20%20%20popup_0a7369ae680148979c7bf36df1c672c5.setContent%28html_fa81d36485e245ab90b18b202b859a37%29%3B%0A%20%20%20%20%20%20%20%20%0A%0A%20%20%20%20%20%20%20%20circle_marker_1c4dc7747d074c35a65d6965308fb1c7.bindPopup%28popup_0a7369ae680148979c7bf36df1c672c5%29%0A%20%20%20%20%20%20%20%20%3B%0A%0A%20%20%20%20%20%20%20%20%0A%20%20%20%20%0A%3C/script%3E onload=\"this.contentDocument.open();this.contentDocument.write(    decodeURIComponent(this.getAttribute('data-html')));this.contentDocument.close();\" allowfullscreen webkitallowfullscreen mozallowfullscreen></iframe></div></div>"
     },
     "metadata": {},
     "execution_count": 41
    }
   ],
   "source": [
    "# create map\n",
    "map_clusters = folium.Map(location=[latitude, longitude], zoom_start=11)\n",
    "\n",
    "# set color scheme for the clusters\n",
    "x = np.arange(kclusters)\n",
    "ys = [i + x + (i*x)**2 for i in range(kclusters)]\n",
    "# colors_array = cm.rainbow(np.linspace(0, 1, len(ys)))\n",
    "# rainbow = [colors.rgb2hex(i) for i in colors_array]\n",
    "\n",
    "colors = ['blue', 'purple', 'purple', 'green', '#ff0000']\n",
    "\n",
    "# add markers to the map\n",
    "markers_colors = []\n",
    "i=0\n",
    "for lat, lon, poi, cluster in zip(marrakech_merged['Latitude'], marrakech_merged['Longitude'], marrakech_merged['Neighborhood'], marrakech_merged['Cluster Labels']):\n",
    "    label = folium.Popup(str(poi) + ' Cluster ' + str(cluster), parse_html=True)\n",
    "    folium.CircleMarker(\n",
    "        [lat, lon],\n",
    "        radius=7,\n",
    "        popup=label,\n",
    "        color=colors[i],\n",
    "        fill=True,\n",
    "        fill_color=colors[i],\n",
    "        fill_opacity=0.7).add_to(map_clusters)\n",
    "\n",
    "    print(i)\n",
    "    i=i+1\n",
    "       \n",
    "map_clusters"
   ]
  },
  {
   "cell_type": "code",
   "execution_count": null,
   "metadata": {},
   "outputs": [],
   "source": [
    "colors_array = cm.rainbow(np.linspace(0, 1, len(ys)))\n",
    "rainbow = [colors.rgb2hex(i) for i in colors_array]\n",
    "\n",
    "rainbow"
   ]
  },
  {
   "source": [
    "# 5. Examining Clusters\n"
   ],
   "cell_type": "markdown",
   "metadata": {}
  },
  {
   "source": [
    "Now, we can examine each cluster and determine the discriminating restaurant venue categories that distinguish each cluster. Based on the defining categories, we can then assign a name to each cluster. \n"
   ],
   "cell_type": "markdown",
   "metadata": {}
  },
  {
   "source": [
    "### Cluster 1"
   ],
   "cell_type": "markdown",
   "metadata": {}
  },
  {
   "cell_type": "code",
   "execution_count": 46,
   "metadata": {},
   "outputs": [
    {
     "output_type": "execute_result",
     "data": {
      "text/plain": [
       "       Neighborhood 1st Most Common Venue 2nd Most Common Venue  \\\n",
       "1            Guéliz     French Restaurant    Italian Restaurant   \n",
       "2  Marrakech-Médina   Moroccan Restaurant            Restaurant   \n",
       "\n",
       "  3rd Most Common Venue      4th Most Common Venue 5th Most Common Venue  \\\n",
       "1    Seafood Restaurant  Middle Eastern Restaurant   Moroccan Restaurant   \n",
       "2    African Restaurant            Thai Restaurant      Asian Restaurant   \n",
       "\n",
       "  6th Most Common Venue 7th Most Common Venue 8th Most Common Venue  \\\n",
       "1    Spanish Restaurant    African Restaurant      Asian Restaurant   \n",
       "2     French Restaurant      Halal Restaurant    Italian Restaurant   \n",
       "\n",
       "       9th Most Common Venue 10th Most Common Venue  \n",
       "1           Halal Restaurant             Restaurant  \n",
       "2  Middle Eastern Restaurant     Seafood Restaurant  "
      ],
      "text/html": "<div>\n<style scoped>\n    .dataframe tbody tr th:only-of-type {\n        vertical-align: middle;\n    }\n\n    .dataframe tbody tr th {\n        vertical-align: top;\n    }\n\n    .dataframe thead th {\n        text-align: right;\n    }\n</style>\n<table border=\"1\" class=\"dataframe\">\n  <thead>\n    <tr style=\"text-align: right;\">\n      <th></th>\n      <th>Neighborhood</th>\n      <th>1st Most Common Venue</th>\n      <th>2nd Most Common Venue</th>\n      <th>3rd Most Common Venue</th>\n      <th>4th Most Common Venue</th>\n      <th>5th Most Common Venue</th>\n      <th>6th Most Common Venue</th>\n      <th>7th Most Common Venue</th>\n      <th>8th Most Common Venue</th>\n      <th>9th Most Common Venue</th>\n      <th>10th Most Common Venue</th>\n    </tr>\n  </thead>\n  <tbody>\n    <tr>\n      <th>1</th>\n      <td>Guéliz</td>\n      <td>French Restaurant</td>\n      <td>Italian Restaurant</td>\n      <td>Seafood Restaurant</td>\n      <td>Middle Eastern Restaurant</td>\n      <td>Moroccan Restaurant</td>\n      <td>Spanish Restaurant</td>\n      <td>African Restaurant</td>\n      <td>Asian Restaurant</td>\n      <td>Halal Restaurant</td>\n      <td>Restaurant</td>\n    </tr>\n    <tr>\n      <th>2</th>\n      <td>Marrakech-Médina</td>\n      <td>Moroccan Restaurant</td>\n      <td>Restaurant</td>\n      <td>African Restaurant</td>\n      <td>Thai Restaurant</td>\n      <td>Asian Restaurant</td>\n      <td>French Restaurant</td>\n      <td>Halal Restaurant</td>\n      <td>Italian Restaurant</td>\n      <td>Middle Eastern Restaurant</td>\n      <td>Seafood Restaurant</td>\n    </tr>\n  </tbody>\n</table>\n</div>"
     },
     "metadata": {},
     "execution_count": 46
    }
   ],
   "source": [
    "marrakech_merged.loc[marrakech_merged['Cluster Labels'] == 0, marrakech_merged.columns[[0] + list(range(4, marrakech_merged.shape[1]))]]"
   ]
  },
  {
   "source": [
    "### Cluster 2"
   ],
   "cell_type": "markdown",
   "metadata": {}
  },
  {
   "cell_type": "code",
   "execution_count": 47,
   "metadata": {},
   "outputs": [
    {
     "output_type": "execute_result",
     "data": {
      "text/plain": [
       "           Neighborhood 1st Most Common Venue 2nd Most Common Venue  \\\n",
       "4  Sidi Youssef Ben Ali            Restaurant    African Restaurant   \n",
       "\n",
       "  3rd Most Common Venue 4th Most Common Venue 5th Most Common Venue  \\\n",
       "4      Asian Restaurant     French Restaurant      Halal Restaurant   \n",
       "\n",
       "  6th Most Common Venue      7th Most Common Venue 8th Most Common Venue  \\\n",
       "4    Italian Restaurant  Middle Eastern Restaurant   Moroccan Restaurant   \n",
       "\n",
       "  9th Most Common Venue 10th Most Common Venue  \n",
       "4    Seafood Restaurant     Spanish Restaurant  "
      ],
      "text/html": "<div>\n<style scoped>\n    .dataframe tbody tr th:only-of-type {\n        vertical-align: middle;\n    }\n\n    .dataframe tbody tr th {\n        vertical-align: top;\n    }\n\n    .dataframe thead th {\n        text-align: right;\n    }\n</style>\n<table border=\"1\" class=\"dataframe\">\n  <thead>\n    <tr style=\"text-align: right;\">\n      <th></th>\n      <th>Neighborhood</th>\n      <th>1st Most Common Venue</th>\n      <th>2nd Most Common Venue</th>\n      <th>3rd Most Common Venue</th>\n      <th>4th Most Common Venue</th>\n      <th>5th Most Common Venue</th>\n      <th>6th Most Common Venue</th>\n      <th>7th Most Common Venue</th>\n      <th>8th Most Common Venue</th>\n      <th>9th Most Common Venue</th>\n      <th>10th Most Common Venue</th>\n    </tr>\n  </thead>\n  <tbody>\n    <tr>\n      <th>4</th>\n      <td>Sidi Youssef Ben Ali</td>\n      <td>Restaurant</td>\n      <td>African Restaurant</td>\n      <td>Asian Restaurant</td>\n      <td>French Restaurant</td>\n      <td>Halal Restaurant</td>\n      <td>Italian Restaurant</td>\n      <td>Middle Eastern Restaurant</td>\n      <td>Moroccan Restaurant</td>\n      <td>Seafood Restaurant</td>\n      <td>Spanish Restaurant</td>\n    </tr>\n  </tbody>\n</table>\n</div>"
     },
     "metadata": {},
     "execution_count": 47
    }
   ],
   "source": [
    "marrakech_merged.loc[marrakech_merged['Cluster Labels'] == 1, marrakech_merged.columns[[0] + list(range(4, marrakech_merged.shape[1]))]]"
   ]
  },
  {
   "source": [
    "### Cluster 3"
   ],
   "cell_type": "markdown",
   "metadata": {}
  },
  {
   "cell_type": "code",
   "execution_count": 48,
   "metadata": {},
   "outputs": [
    {
     "output_type": "execute_result",
     "data": {
      "text/plain": [
       "              Neighborhood 1st Most Common Venue 2nd Most Common Venue  \\\n",
       "3  Ménara (arrondissement)      Asian Restaurant      Halal Restaurant   \n",
       "\n",
       "  3rd Most Common Venue 4th Most Common Venue 5th Most Common Venue  \\\n",
       "3    African Restaurant     French Restaurant    Italian Restaurant   \n",
       "\n",
       "       6th Most Common Venue 7th Most Common Venue 8th Most Common Venue  \\\n",
       "3  Middle Eastern Restaurant   Moroccan Restaurant            Restaurant   \n",
       "\n",
       "  9th Most Common Venue 10th Most Common Venue  \n",
       "3    Seafood Restaurant     Spanish Restaurant  "
      ],
      "text/html": "<div>\n<style scoped>\n    .dataframe tbody tr th:only-of-type {\n        vertical-align: middle;\n    }\n\n    .dataframe tbody tr th {\n        vertical-align: top;\n    }\n\n    .dataframe thead th {\n        text-align: right;\n    }\n</style>\n<table border=\"1\" class=\"dataframe\">\n  <thead>\n    <tr style=\"text-align: right;\">\n      <th></th>\n      <th>Neighborhood</th>\n      <th>1st Most Common Venue</th>\n      <th>2nd Most Common Venue</th>\n      <th>3rd Most Common Venue</th>\n      <th>4th Most Common Venue</th>\n      <th>5th Most Common Venue</th>\n      <th>6th Most Common Venue</th>\n      <th>7th Most Common Venue</th>\n      <th>8th Most Common Venue</th>\n      <th>9th Most Common Venue</th>\n      <th>10th Most Common Venue</th>\n    </tr>\n  </thead>\n  <tbody>\n    <tr>\n      <th>3</th>\n      <td>Ménara (arrondissement)</td>\n      <td>Asian Restaurant</td>\n      <td>Halal Restaurant</td>\n      <td>African Restaurant</td>\n      <td>French Restaurant</td>\n      <td>Italian Restaurant</td>\n      <td>Middle Eastern Restaurant</td>\n      <td>Moroccan Restaurant</td>\n      <td>Restaurant</td>\n      <td>Seafood Restaurant</td>\n      <td>Spanish Restaurant</td>\n    </tr>\n  </tbody>\n</table>\n</div>"
     },
     "metadata": {},
     "execution_count": 48
    }
   ],
   "source": [
    "marrakech_merged.loc[marrakech_merged['Cluster Labels'] == 2, marrakech_merged.columns[[0] + list(range(4, marrakech_merged.shape[1]))]]"
   ]
  },
  {
   "cell_type": "code",
   "execution_count": null,
   "metadata": {},
   "outputs": [],
   "source": []
  },
  {
   "cell_type": "code",
   "execution_count": null,
   "metadata": {},
   "outputs": [],
   "source": []
  }
 ]
}